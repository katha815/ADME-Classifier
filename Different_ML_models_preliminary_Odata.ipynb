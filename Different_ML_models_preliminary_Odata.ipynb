{
  "cells": [
    {
      "cell_type": "markdown",
      "metadata": {
        "id": "view-in-github",
        "colab_type": "text"
      },
      "source": [
        "<a href=\"https://colab.research.google.com/github/katha815/ADME-Classifier/blob/main/Different_ML_models_preliminary_Odata.ipynb\" target=\"_parent\"><img src=\"https://colab.research.google.com/assets/colab-badge.svg\" alt=\"Open In Colab\"/></a>"
      ]
    },
    {
      "cell_type": "markdown",
      "metadata": {
        "id": "SOXIFx7Ua5RB"
      },
      "source": [
        "# Prelminary testing - all ML model are not optimised\n",
        "Feature groups: (1)6 phastCons scores, (2)6 phyloP scores, (3)vepDistance, (4){A-C,A-G,A-T,C-A,...}categorical input, (5)Ensemble search consequence , (6)corresponding SIFT and Polyphen scores."
      ]
    },
    {
      "cell_type": "markdown",
      "metadata": {
        "id": "1aN7108gPYrz"
      },
      "source": [
        "## Module loading"
      ]
    },
    {
      "cell_type": "code",
      "execution_count": 1,
      "metadata": {
        "colab": {
          "base_uri": "https://localhost:8080/"
        },
        "id": "8_IRjAP0bgCL",
        "outputId": "1fd78915-0dfa-4ccc-8b8f-bb25c4124301"
      },
      "outputs": [
        {
          "output_type": "stream",
          "name": "stdout",
          "text": [
            "Mounted at /content/gdrive\n",
            "Collecting scikit-optimize\n",
            "  Downloading scikit_optimize-0.9.0-py2.py3-none-any.whl (100 kB)\n",
            "\u001b[2K     \u001b[90m━━━━━━━━━━━━━━━━━━━━━━━━━━━━━━━━━━━━━\u001b[0m \u001b[32m100.3/100.3 kB\u001b[0m \u001b[31m846.5 kB/s\u001b[0m eta \u001b[36m0:00:00\u001b[0m\n",
            "\u001b[?25hRequirement already satisfied: joblib>=0.11 in /usr/local/lib/python3.10/dist-packages (from scikit-optimize) (1.3.1)\n",
            "Collecting pyaml>=16.9 (from scikit-optimize)\n",
            "  Downloading pyaml-23.7.0-py3-none-any.whl (17 kB)\n",
            "Requirement already satisfied: numpy>=1.13.3 in /usr/local/lib/python3.10/dist-packages (from scikit-optimize) (1.23.5)\n",
            "Requirement already satisfied: scipy>=0.19.1 in /usr/local/lib/python3.10/dist-packages (from scikit-optimize) (1.10.1)\n",
            "Requirement already satisfied: scikit-learn>=0.20.0 in /usr/local/lib/python3.10/dist-packages (from scikit-optimize) (1.2.2)\n",
            "Requirement already satisfied: PyYAML in /usr/local/lib/python3.10/dist-packages (from pyaml>=16.9->scikit-optimize) (6.0.1)\n",
            "Requirement already satisfied: threadpoolctl>=2.0.0 in /usr/local/lib/python3.10/dist-packages (from scikit-learn>=0.20.0->scikit-optimize) (3.2.0)\n",
            "Installing collected packages: pyaml, scikit-optimize\n",
            "Successfully installed pyaml-23.7.0 scikit-optimize-0.9.0\n"
          ]
        }
      ],
      "source": [
        "from google.colab import drive\n",
        "drive.mount('/content/gdrive')\n",
        "import numpy as np\n",
        "import pandas as pd\n",
        "import sklearn\n",
        "from sklearn.model_selection import train_test_split\n",
        "from sklearn.metrics import mean_squared_error\n",
        "import xgboost as xgb\n",
        "from xgboost import XGBClassifier, plot_tree\n",
        "from sklearn.metrics import accuracy_score\n",
        "from sklearn.metrics import roc_auc_score\n",
        "import matplotlib.pyplot as plt\n",
        "from sklearn.tree import export_graphviz\n",
        "!pip install scikit-optimize\n",
        "import skopt\n",
        "from skopt import BayesSearchCV"
      ]
    },
    {
      "cell_type": "markdown",
      "metadata": {
        "id": "oVXqYWn4NDSK"
      },
      "source": [
        "## Data loading and testing/training split preparation"
      ]
    },
    {
      "cell_type": "code",
      "execution_count": 3,
      "metadata": {
        "colab": {
          "base_uri": "https://localhost:8080/"
        },
        "id": "_m--1Phdw-lP",
        "outputId": "27838f76-745d-4acf-e0f3-91fa769078f2"
      },
      "outputs": [
        {
          "output_type": "stream",
          "name": "stdout",
          "text": [
            "Whole data:     Chromo  Location1  Location2 Ref Alter  Label  chr  transcript_ablation  \\\n",
            "0     chr1   46930150   46930150   C     T      1    1                    0   \n",
            "1     chr1   46930161   46930161   G     A      1    1                    0   \n",
            "2     chr1   46932824   46932824   T     C      1    1                    0   \n",
            "3     chr1   46932987   46932987   C     T      1    1                    0   \n",
            "4     chr1   46934207   46934207   A     G      0    1                    0   \n",
            "..     ...        ...        ...  ..   ...    ...  ...                  ...   \n",
            "329  chr22   42129836   42129836   C     T      0   22                    0   \n",
            "330  chr22   42130692   42130692   C     T      1   22                    0   \n",
            "331  chr22   42130710   42130710   C     T      0   22                    0   \n",
            "332  chr22   42130715   42130715   G     A      1   22                    0   \n",
            "333  chr22   42130761   42130761   G     A      1   22                    0   \n",
            "\n",
            "     splice_acceptor_variant  splice_donor_variant  ...  A/T  C/A  C/G  C/T  \\\n",
            "0                          0                     0  ...    0    0    0    1   \n",
            "1                          0                     0  ...    0    0    0    0   \n",
            "2                          0                     0  ...    0    0    0    0   \n",
            "3                          0                     0  ...    0    0    0    1   \n",
            "4                          0                     0  ...    0    0    0    0   \n",
            "..                       ...                   ...  ...  ...  ...  ...  ...   \n",
            "329                        0                     0  ...    0    0    0    1   \n",
            "330                        0                     0  ...    0    0    0    1   \n",
            "331                        0                     0  ...    0    0    0    1   \n",
            "332                        0                     0  ...    0    0    0    0   \n",
            "333                        0                     0  ...    0    0    0    0   \n",
            "\n",
            "     G/A  G/C  G/T  T/A  T/C  T/G  \n",
            "0      0    0    0    0    0    0  \n",
            "1      1    0    0    0    0    0  \n",
            "2      0    0    0    0    1    0  \n",
            "3      0    0    0    0    0    0  \n",
            "4      0    0    0    0    0    0  \n",
            "..   ...  ...  ...  ...  ...  ...  \n",
            "329    0    0    0    0    0    0  \n",
            "330    0    0    0    0    0    0  \n",
            "331    0    0    0    0    0    0  \n",
            "332    1    0    0    0    0    0  \n",
            "333    1    0    0    0    0    0  \n",
            "\n",
            "[334 rows x 100 columns]\n",
            "\n",
            "    Chromo  transcript_ablation  splice_acceptor_variant  \\\n",
            "0     chr1                    0                        0   \n",
            "1     chr1                    0                        0   \n",
            "2     chr1                    0                        0   \n",
            "3     chr1                    0                        0   \n",
            "4     chr1                    0                        0   \n",
            "..     ...                  ...                      ...   \n",
            "329  chr22                    0                        0   \n",
            "330  chr22                    0                        0   \n",
            "331  chr22                    0                        0   \n",
            "332  chr22                    0                        0   \n",
            "333  chr22                    0                        0   \n",
            "\n",
            "     splice_donor_variant  stop_gained  frameshift_variant  stop_lost  \\\n",
            "0                       0            0                   0          0   \n",
            "1                       0            0                   0          0   \n",
            "2                       0            0                   0          0   \n",
            "3                       0            0                   0          0   \n",
            "4                       0            0                   0          0   \n",
            "..                    ...          ...                 ...        ...   \n",
            "329                     0            0                   0          0   \n",
            "330                     0            0                   0          0   \n",
            "331                     0            0                   0          0   \n",
            "332                     0            0                   0          0   \n",
            "333                     0            0                   0          0   \n",
            "\n",
            "     start_lost  transcript_amplification  feature_elongation  ...  A/T  C/A  \\\n",
            "0             0                         0                   0  ...    0    0   \n",
            "1             0                         0                   0  ...    0    0   \n",
            "2             0                         0                   0  ...    0    0   \n",
            "3             0                         0                   0  ...    0    0   \n",
            "4             0                         0                   0  ...    0    0   \n",
            "..          ...                       ...                 ...  ...  ...  ...   \n",
            "329           0                         0                   0  ...    0    0   \n",
            "330           0                         0                   0  ...    0    0   \n",
            "331           0                         0                   0  ...    0    0   \n",
            "332           0                         0                   0  ...    0    0   \n",
            "333           0                         0                   0  ...    0    0   \n",
            "\n",
            "     C/G  C/T  G/A  G/C  G/T  T/A  T/C  T/G  \n",
            "0      0    1    0    0    0    0    0    0  \n",
            "1      0    0    1    0    0    0    0    0  \n",
            "2      0    0    0    0    0    0    1    0  \n",
            "3      0    1    0    0    0    0    0    0  \n",
            "4      0    0    0    0    0    0    0    0  \n",
            "..   ...  ...  ...  ...  ...  ...  ...  ...  \n",
            "329    0    1    0    0    0    0    0    0  \n",
            "330    0    1    0    0    0    0    0    0  \n",
            "331    0    1    0    0    0    0    0    0  \n",
            "332    0    0    1    0    0    0    0    0  \n",
            "333    0    0    1    0    0    0    0    0  \n",
            "\n",
            "[334 rows x 94 columns] \n",
            "\n",
            "0      1\n",
            "1      1\n",
            "2      1\n",
            "3      1\n",
            "4      0\n",
            "      ..\n",
            "329    0\n",
            "330    1\n",
            "331    0\n",
            "332    1\n",
            "333    1\n",
            "Name: Label, Length: 334, dtype: int64 \n",
            "\n"
          ]
        }
      ],
      "source": [
        "# Import data\n",
        "data2 = pd.read_csv(\"/content/gdrive/My Drive/Colab Notebooks/ADME Project/Odata_fzero.csv\")\n",
        "# One hot encode with get_dummies\n",
        "print(f\"Whole data: {data2}\\n\")\n",
        "Y = data2['Label']\n",
        "X = data2[[col for col in data2.columns if col!=\"Location1\" and col!=\"Location2\" and\n",
        "           col!=\"chr\" and col!=\"Label\" and col!=\"Ref\" and col!=\"Alter\"and col!=\"baseChange\"]]\n",
        "print(X,'\\n')\n",
        "print(Y,'\\n')"
      ]
    },
    {
      "cell_type": "code",
      "execution_count": 4,
      "metadata": {
        "colab": {
          "base_uri": "https://localhost:8080/"
        },
        "id": "3_cCsz5_w7t-",
        "outputId": "0f8ec793-47b4-4b40-ee40-2e6c760e110b"
      },
      "outputs": [
        {
          "output_type": "stream",
          "name": "stdout",
          "text": [
            "<class 'pandas.core.indexes.numeric.Int64Index'> (18,)\n",
            "[0, 1, 2, 3, 4, 5, 6, 7, 8, 9, 10, 11, 12, 13, 14, 15, 16, 17]\n",
            "Chromosome: chr1:\n",
            "Data_size: 18\n",
            "Test indexes: [0, 1, 2, 3, 4, 5, 6, 7, 8, 9, 10, 11, 12, 13, 14, 15, 16, 17]\n",
            "\n",
            "Chromosome: chr2:\n",
            "Data_size: 28\n",
            "Test indexes: [18, 19, 20, 21, 22, 23, 24, 25, 26, 27, 28, 29, 30, 31, 32, 33, 34, 35, 36, 37, 38, 39, 40, 41, 42, 43, 44, 45]\n",
            "\n",
            "Chromosome: chr3:\n",
            "Data_size: 8\n",
            "Test indexes: [46, 47, 48, 49, 50, 51, 52, 53]\n",
            "\n",
            "Chromosome: chr4:\n",
            "Data_size: 8\n",
            "Test indexes: [54, 55, 56, 57, 58, 59, 60, 61]\n",
            "\n",
            "Chromosome: chr6:\n",
            "Data_size: 42\n",
            "Test indexes: [62, 63, 64, 65, 66, 67, 68, 69, 70, 71, 72, 73, 74, 75, 76, 77, 78, 79, 80, 81, 82, 83, 84, 85, 86, 87, 88, 89, 90, 91, 92, 93, 94, 95, 96, 97, 98, 99, 100, 101, 102, 103]\n",
            "\n",
            "Chromosome: chr7:\n",
            "Data_size: 11\n",
            "Test indexes: [104, 105, 106, 107, 108, 109, 110, 111, 112, 113, 114]\n",
            "\n",
            "Chromosome: chr8:\n",
            "Data_size: 29\n",
            "Test indexes: [115, 116, 117, 118, 119, 120, 121, 122, 123, 124, 125, 126, 127, 128, 129, 130, 131, 132, 133, 134, 135, 136, 137, 138, 139, 140, 141, 142, 143]\n",
            "\n",
            "Chromosome: chr9:\n",
            "Data_size: 1\n",
            "Test indexes: [144]\n",
            "\n",
            "Chromosome: chr10:\n",
            "Data_size: 87\n",
            "Test indexes: [145, 146, 147, 148, 149, 150, 151, 152, 153, 154, 155, 156, 157, 158, 159, 160, 161, 162, 163, 164, 165, 166, 167, 168, 169, 170, 171, 172, 173, 174, 175, 176, 177, 178, 179, 180, 181, 182, 183, 184, 185, 186, 187, 188, 189, 190, 191, 192, 193, 194, 195, 196, 197, 198, 199, 200, 201, 202, 203, 204, 205, 206, 207, 208, 209, 210, 211, 212, 213, 214, 215, 216, 217, 218, 219, 220, 221, 222, 223, 224, 225, 226, 227, 228, 229, 230, 231]\n",
            "\n",
            "Chromosome: chr11:\n",
            "Data_size: 5\n",
            "Test indexes: [232, 233, 234, 235, 236]\n",
            "\n",
            "Chromosome: chr12:\n",
            "Data_size: 2\n",
            "Test indexes: [237, 238]\n",
            "\n",
            "Chromosome: chr13:\n",
            "Data_size: 4\n",
            "Test indexes: [239, 240, 241, 242]\n",
            "\n",
            "Chromosome: chr15:\n",
            "Data_size: 17\n",
            "Test indexes: [243, 244, 245, 246, 247, 248, 249, 250, 251, 252, 253, 254, 255, 256, 257, 258, 259]\n",
            "\n",
            "Chromosome: chr16:\n",
            "Data_size: 17\n",
            "Test indexes: [260, 261, 262, 263, 264, 265, 266, 267, 268, 269, 270, 271, 272, 273, 274, 275, 276]\n",
            "\n",
            "Chromosome: chr17:\n",
            "Data_size: 7\n",
            "Test indexes: [277, 278, 279, 280, 281, 282, 283]\n",
            "\n",
            "Chromosome: chr19:\n",
            "Data_size: 30\n",
            "Test indexes: [284, 285, 286, 287, 288, 289, 290, 291, 292, 293, 294, 295, 296, 297, 298, 299, 300, 301, 302, 303, 304, 305, 306, 307, 308, 309, 310, 311, 312, 313]\n",
            "\n",
            "Chromosome: chr20:\n",
            "Data_size: 3\n",
            "Test indexes: [314, 315, 316]\n",
            "\n",
            "Chromosome: chr22:\n",
            "Data_size: 17\n",
            "Test indexes: [317, 318, 319, 320, 321, 322, 323, 324, 325, 326, 327, 328, 329, 330, 331, 332, 333]\n",
            "\n",
            "[144] [237, 238]\n",
            "[144, 237, 238] [314, 315, 316]\n",
            "[239, 240, 241, 242] [232, 233, 234, 235, 236]\n",
            "[144, 237, 238, 314, 315, 316] [277, 278, 279, 280, 281, 282, 283]\n",
            "[46, 47, 48, 49, 50, 51, 52, 53] [54, 55, 56, 57, 58, 59, 60, 61]\n",
            "[239, 240, 241, 242, 232, 233, 234, 235, 236] [104, 105, 106, 107, 108, 109, 110, 111, 112, 113, 114]\n",
            "[144, 237, 238, 314, 315, 316, 277, 278, 279, 280, 281, 282, 283] [46, 47, 48, 49, 50, 51, 52, 53, 54, 55, 56, 57, 58, 59, 60, 61]\n",
            "[243, 244, 245, 246, 247, 248, 249, 250, 251, 252, 253, 254, 255, 256, 257, 258, 259] [260, 261, 262, 263, 264, 265, 266, 267, 268, 269, 270, 271, 272, 273, 274, 275, 276]\n",
            "[317, 318, 319, 320, 321, 322, 323, 324, 325, 326, 327, 328, 329, 330, 331, 332, 333] [0, 1, 2, 3, 4, 5, 6, 7, 8, 9, 10, 11, 12, 13, 14, 15, 16, 17]\n",
            "Test size: 28;\n",
            "Test size: 42;\n",
            "Test size: 29;\n",
            "Test size: 29;\n",
            "Test size: 87;\n",
            "Test size: 20;\n",
            "Test size: 34;\n",
            "Test size: 30;\n",
            "Test size: 35;\n",
            "Validation size: 42;\n",
            "Validation size: 29;\n",
            "Validation size: 29;\n",
            "Validation size: 87;\n",
            "Validation size: 20;\n",
            "Validation size: 34;\n",
            "Validation size: 30;\n",
            "Validation size: 35;\n",
            "Validation size: 28;\n",
            "Train size: 306;\n",
            "Train size: 292;\n",
            "Train size: 305;\n",
            "Train size: 305;\n",
            "Train size: 247;\n",
            "Train size: 314;\n",
            "Train size: 300;\n",
            "Train size: 304;\n",
            "Train size: 299;\n"
          ]
        }
      ],
      "source": [
        "## Prepare leave one chromosome out split indexes\n",
        "chrom_values = X['Chromo'].unique()\n",
        "grouped = X.groupby(['Chromo'])\n",
        "\n",
        "# Initialization\n",
        "datasplit = []\n",
        "labels = []\n",
        "combined_index = [None for _ in range(chrom_values.shape[0])]\n",
        "test1ist = [None for _ in range(chrom_values.shape[0])]\n",
        "train1ist = [None for _ in range(chrom_values.shape[0])]\n",
        "\n",
        "# Extract info from grouped data\n",
        "for n in range(chrom_values.shape[0]):\n",
        "    chrom_i = chrom_values[n]\n",
        "    new_data = grouped.get_group(chrom_i)  # Generate random data\n",
        "    label = f\"{chrom_i}\"  # Generate label\n",
        "    datasplit.append(new_data)  # Store data\n",
        "    labels.append(label)  # Store label\n",
        "print(type(datasplit[0].index),np.shape(datasplit[0].index))\n",
        "print(datasplit[0].index.tolist())\n",
        "\n",
        "# Convert it to chromo label and chromo-splitted testing sets\n",
        "for i in range(len(labels)):\n",
        "    print(f\"Chromosome: {labels[i]}:\")\n",
        "    # print(f\"Iteration: {i+1}\\n\")\n",
        "    # print(f\"Data_index: {datasplit[i].index}\")\n",
        "    print(f\"Data_size: {len(datasplit[i])}\")\n",
        "    test1ist[i] = np.array(datasplit[i].index).tolist()\n",
        "    # print(f\"Test size: {len(test1ist[i])}\\n\")\n",
        "    print(f\"Test indexes: {test1ist[i]}\\n\")\n",
        "    # Label: {labels[i]}\\n {type(test1ist[i])}\\n\")\n",
        "\n",
        "# Always merge the shortest lists, make sure the minimum length<20\n",
        "while min(map(len, test1ist)) < 20 and len(test1ist) > 1:\n",
        "    idx1, idx2 = sorted(range(len(test1ist)), key=lambda i: len(test1ist[i]))[:2] #not including 2, so 0/1\n",
        "    print(test1ist[idx1], test1ist[idx2])\n",
        "    test1ist[idx1] = test1ist[idx1] + test1ist[idx2]\n",
        "    test1ist.pop(idx2)\n",
        "# Check merged-testing sets length:\n",
        "for x in test1ist:\n",
        "    print(f\"Test size: {len(x)};\")\n",
        "\n",
        "# Validation list: order = order+1 for the test1ist\n",
        "vlist = test1ist[1:] + [test1ist[0]]\n",
        "for x in vlist:\n",
        "    print(f\"Validation size: {len(x)};\")\n",
        "\n",
        "# Build training sets accordingly\n",
        "all = list(range(len(X)))\n",
        "# print(all)\n",
        "train1ist = []\n",
        "for i, test_indexes in enumerate(test1ist):\n",
        "    train_indexes = np.array([index for index in all if index not in test_indexes])\n",
        "    train1ist.append(train_indexes)\n",
        "for x in train1ist:\n",
        "    print(f\"Train size: {len(x)};\")\n",
        "    # print(f\"Train size: {len(train1ist[i])}\\n\")\n",
        "    # print(f\"Train indexes: {train1ist[i]}\\n {type(train1ist[i])}\\n\")"
      ]
    },
    {
      "cell_type": "code",
      "execution_count": 5,
      "metadata": {
        "id": "0Q0FRbtpUeX5"
      },
      "outputs": [],
      "source": [
        "# Finalizing\n",
        "X = X.drop('Chromo', axis=1)\n",
        "X = np.array([X.values.tolist()]).reshape(X.shape[0],-1)\n",
        "Y = np.array([Y.values.tolist()]).reshape(X.shape[0],)\n",
        "n_t = len(test1ist)"
      ]
    },
    {
      "cell_type": "markdown",
      "metadata": {
        "id": "TUX-iOWvPGMd"
      },
      "source": [
        "StandardScaler - Standardize features by removing the mean and scaling to unit variance.\n",
        "\n",
        "The standard score of a sample x is calculated as:\n",
        "\n",
        "    z = (x - u) / s"
      ]
    },
    {
      "cell_type": "code",
      "execution_count": 6,
      "metadata": {
        "id": "KDK_FocEOPBc"
      },
      "outputs": [],
      "source": [
        "# Preprocessing - Nomalization\n",
        "from sklearn.pipeline import make_pipeline\n",
        "from sklearn.preprocessing import StandardScaler\n",
        "scaler = StandardScaler()\n",
        "X = scaler.fit_transform(X)"
      ]
    },
    {
      "cell_type": "code",
      "execution_count": 7,
      "metadata": {
        "colab": {
          "base_uri": "https://localhost:8080/"
        },
        "id": "T_ktHD_tbq9O",
        "outputId": "b1ae6c1d-2ac1-419f-a1f5-379e1715dbf2"
      },
      "outputs": [
        {
          "output_type": "stream",
          "name": "stdout",
          "text": [
            "Size of train dataset: (250, 93)\n",
            "Size of test dataset: (84, 93)\n",
            "Size of training dataset: (187, 93)\n",
            "Size of validation dataset: (63, 93)\n"
          ]
        }
      ],
      "source": [
        "# Build simple training/testing sets\n",
        "X_train0, X_test0, y_train0, y_test0 = train_test_split(X,Y,test_size=.25, random_state=42)\n",
        "print(\"Size of train dataset: {}\".format(X_train0.shape))\n",
        "print(\"Size of test dataset: {}\".format(X_test0.shape))\n",
        "X_tr, X_v, y_tr, y_v = train_test_split(X_train0,y_train0,test_size=.25, random_state=42)\n",
        "print(\"Size of training dataset: {}\".format(X_tr.shape))\n",
        "print(\"Size of validation dataset: {}\".format(X_v.shape))"
      ]
    },
    {
      "cell_type": "markdown",
      "metadata": {
        "id": "Z8wOltXAMfv4"
      },
      "source": [
        "## LOCO, simple split and Kfold for XGBoost model"
      ]
    },
    {
      "cell_type": "markdown",
      "metadata": {
        "id": "uscU6-y3xslG"
      },
      "source": [
        "###LOCO"
      ]
    },
    {
      "cell_type": "code",
      "source": [
        "n_t"
      ],
      "metadata": {
        "colab": {
          "base_uri": "https://localhost:8080/"
        },
        "id": "S54zeIf_mg4p",
        "outputId": "e92966a2-4bb1-486f-fcf5-e7ce3fd140be"
      },
      "execution_count": 8,
      "outputs": [
        {
          "output_type": "execute_result",
          "data": {
            "text/plain": [
              "9"
            ]
          },
          "metadata": {},
          "execution_count": 8
        }
      ]
    },
    {
      "cell_type": "markdown",
      "metadata": {
        "id": "uYYPZ9CQu1te"
      },
      "source": [
        "### Simple split"
      ]
    },
    {
      "cell_type": "code",
      "execution_count": 9,
      "metadata": {
        "colab": {
          "base_uri": "https://localhost:8080/"
        },
        "id": "EhSZbAjCfU4Y",
        "outputId": "aebc5dcd-9404-4053-bf96-29eca3b54008"
      },
      "outputs": [
        {
          "output_type": "stream",
          "name": "stdout",
          "text": [
            "Training Accuray: 100.00%\n",
            "Model Accuray: 63.10%\n",
            "Model AUC_ROC: 0.6282\n"
          ]
        }
      ],
      "source": [
        "## Simple Split\n",
        "\n",
        "from sklearn.ensemble import GradientBoostingClassifier\n",
        "classifier = xgb.XGBClassifier(objective='binary:logistic', random_state=42)\n",
        "classifier.fit(X_train0, y_train0)\n",
        "pred = classifier.predict(X_test0)\n",
        "\n",
        "# Calculate and store\n",
        "acc = accuracy_score(y_test0, pred)\n",
        "auc = roc_auc_score(y_test0, pred)\n",
        "acc_xg_tr = classifier.score(X_train0, y_train0)\n",
        "acc_xg_v = acc\n",
        "auc_xg_v = auc\n",
        "print(\"Training Accuray: {:.2f}%\".format(100*acc_xg_tr))\n",
        "print(\"Model Accuray: {:.2f}%\".format(100*acc))\n",
        "print(\"Model AUC_ROC: {:.4f}\".format(auc))"
      ]
    },
    {
      "cell_type": "code",
      "execution_count": 10,
      "metadata": {
        "colab": {
          "base_uri": "https://localhost:8080/"
        },
        "id": "lEzWVi5xpehF",
        "outputId": "22062106-d629-4b3f-c05c-1464240bf12c"
      },
      "outputs": [
        {
          "output_type": "stream",
          "name": "stdout",
          "text": [
            "Iteration 1\n",
            "\n",
            "Iteration 2\n",
            "\n",
            "Iteration 3\n",
            "\n",
            "Iteration 4\n",
            "\n",
            "Iteration 5\n",
            "\n",
            "Iteration 6\n",
            "\n",
            "Iteration 7\n",
            "\n",
            "Iteration 8\n",
            "\n",
            "Iteration 9\n",
            "\n",
            "Iteration 10\n",
            "\n",
            "Model Accuray: 65.27%\n",
            "Model AUC_ROC: 0.6447\n"
          ]
        }
      ],
      "source": [
        "# Kfold\n",
        "from sklearn.model_selection import KFold\n",
        "kfold = KFold(n_splits=10, shuffle=True, random_state=42)\n",
        "y_true, y_pred1 = [], []\n",
        "n = 1\n",
        "for train_indexes, test_indexes in kfold.split(X):\n",
        "  X_train1, X_test1 = [X[i] for i in train_indexes], [X[i] for i in test_indexes]\n",
        "  y_train1, y_test1 = [Y[i] for i in train_indexes], [Y[i] for i in test_indexes]\n",
        "  print(f\"Iteration {n}\\n\")\n",
        "  #print('Train: ', X_train1, '\\n')\n",
        "  #print('Test: ', X_test1, '\\n')\n",
        "  # fit model\n",
        "  classifier = xgb.XGBClassifier(objective='binary:logistic', random_state=42)\n",
        "  classifier.fit(X_train1, y_train1)\n",
        "  # evaluate model\n",
        "  yhat = classifier.predict(X_test1)\n",
        "  #print('True y: ', y_test1, '\\n')\n",
        "  #print('Estimated y: ', yhat, '\\n')\n",
        "  #print('Iteration accruacy: ', accuracy_score(y_test1, yhat), '\\n')\n",
        "  # store\n",
        "  y_true.append(y_test1)\n",
        "  y_pred1.append(yhat)\n",
        "  n+=1\n",
        "# Check results\n",
        "#print('True y all: ', y_true, '\\n')\n",
        "#print('Estimated y all: ', y_pred1, '\\n')\n",
        "y_true = np.concatenate(y_true)\n",
        "y_pred1 = np.concatenate(y_pred1)\n",
        "#print('True y all: ', y_true, '\\n')\n",
        "#print('Estimated y all: ', y_pred1, '\\n')\n",
        "#print('Prediction size: ', y_pred1.shape, '\\n')\n",
        "# calculate accuracy\n",
        "acc_xg_k = accuracy_score(y_true, y_pred1)\n",
        "auc_xg_k = roc_auc_score(y_true, y_pred1)\n",
        "print(\"Model Accuray: {:.2f}%\".format(100*acc_xg_k))\n",
        "#61.42%->66.77%\n",
        "print(\"Model AUC_ROC: {:.4f}\".format(auc_xg_k))\n",
        "#0.6009->0.6475"
      ]
    },
    {
      "cell_type": "code",
      "execution_count": 11,
      "metadata": {
        "colab": {
          "base_uri": "https://localhost:8080/"
        },
        "id": "LZWOa8E2ghKp",
        "outputId": "d50d7ca0-aca6-4339-9619-6c05c1a08afa"
      },
      "outputs": [
        {
          "output_type": "stream",
          "name": "stdout",
          "text": [
            "Iteration 1\n",
            "\n",
            "Iteration 2\n",
            "\n",
            "Iteration 3\n",
            "\n",
            "Iteration 4\n",
            "\n",
            "Iteration 5\n",
            "\n",
            "Iteration 6\n",
            "\n",
            "Iteration 7\n",
            "\n",
            "Iteration 8\n",
            "\n",
            "Iteration 9\n",
            "\n",
            "Model Accuray: 61.38%\n",
            "Model AUC_ROC: 0.6042\n"
          ]
        }
      ],
      "source": [
        "# LOCO\n",
        "y_true, y_pred1 = list(), list()\n",
        "n = 1\n",
        "for i in range(len(test1ist)):\n",
        " #print('Left chrom: ', labels[i], '\\n')\n",
        " # split data\n",
        " X_train1, X_test1 = [X[i] for i in train1ist[i]], [X[i] for i in test1ist[i]]\n",
        " y_train1, y_test1 = [Y[i] for i in train1ist[i]], [Y[i] for i in test1ist[i]]\n",
        " print(f\"Iteration {n}\\n\")\n",
        " #print('Train: ', X_train1, '\\n')\n",
        " #print('Test: ', X_test1, '\\n')\n",
        " # fit model\n",
        " classifier = xgb.XGBClassifier(objective='binary:logistic', random_state=42)\n",
        " classifier.fit(X_train1, y_train1)\n",
        "  # evaluate model\n",
        " yhat = classifier.predict(X_test1)\n",
        " #print('True y: ', y_test1, '\\n')\n",
        " #print('Estimated y: ', yhat, '\\n')\n",
        " #print('Iteration accruacy: ', accuracy_score(y_test1, yhat), '\\n')\n",
        " # store\n",
        " y_true.append(y_test1)\n",
        " y_pred1.append(yhat)\n",
        " n+=1\n",
        "# Check results\n",
        "#print('True y all: ', y_true, '\\n')\n",
        "#print('Estimated y all: ', y_pred1, '\\n')\n",
        "y_true = np.concatenate(y_true)\n",
        "y_pred1 = np.concatenate(y_pred1)\n",
        "# print('True y all: ', y_true, '\\n')\n",
        "# print('Estimated y all: ', y_pred1, '\\n')\n",
        "# print('Prediction size: ', y_pred1.shape, '\\n')\n",
        "# calculate accuracy\n",
        "acc_xg_lolo = accuracy_score(y_true, y_pred1)\n",
        "auc_xg_lolo = roc_auc_score(y_true, y_pred1)\n",
        "print(\"Model Accuray: {:.2f}%\".format(100*acc_xg_lolo))\n",
        "print(\"Model AUC_ROC: {:.4f}\".format(auc_xg_lolo))"
      ]
    },
    {
      "cell_type": "markdown",
      "metadata": {
        "id": "GC3LPIDnNMYW"
      },
      "source": [
        "## Gradient Boosting Model"
      ]
    },
    {
      "cell_type": "code",
      "execution_count": 12,
      "metadata": {
        "colab": {
          "base_uri": "https://localhost:8080/"
        },
        "id": "SHplCwDENMYs",
        "outputId": "3acb625b-590f-4ccd-9076-77ac0c436a92"
      },
      "outputs": [
        {
          "output_type": "stream",
          "name": "stdout",
          "text": [
            "Training Accuray: 100.00%\n",
            "Model Accuray: 65.48%\n",
            "Model AUC_ROC: 0.6526\n"
          ]
        }
      ],
      "source": [
        "# Simple Split\n",
        "from sklearn.ensemble import GradientBoostingClassifier\n",
        "reg = GradientBoostingClassifier(random_state=0)\n",
        "reg.fit(X_train0, y_train0)\n",
        "pred = reg.predict(X_test0)\n",
        "acc_gb_tr = reg.score(X_train0, y_train0)\n",
        "acc_gb = accuracy_score(y_test0, pred)\n",
        "auc_gb = roc_auc_score(y_test0, pred)\n",
        "print(\"Training Accuray: {:.2f}%\".format(100*acc_gb_tr))\n",
        "print(\"Model Accuray: {:.2f}%\".format(100*acc_gb))\n",
        "print(\"Model AUC_ROC: {:.4f}\".format(auc_gb))"
      ]
    },
    {
      "cell_type": "code",
      "execution_count": 13,
      "metadata": {
        "colab": {
          "base_uri": "https://localhost:8080/"
        },
        "id": "rGLu32pFNMYt",
        "outputId": "a6d46277-d7c7-4400-ca1c-9a3c7636873f"
      },
      "outputs": [
        {
          "output_type": "stream",
          "name": "stdout",
          "text": [
            "Iteration 1\n",
            "\n",
            "Iteration 2\n",
            "\n",
            "Iteration 3\n",
            "\n",
            "Iteration 4\n",
            "\n",
            "Iteration 5\n",
            "\n",
            "Iteration 6\n",
            "\n",
            "Iteration 7\n",
            "\n",
            "Iteration 8\n",
            "\n",
            "Iteration 9\n",
            "\n",
            "Model Accuray: 66.17%\n",
            "Model AUC_ROC: 0.6513\n"
          ]
        }
      ],
      "source": [
        "# LOCO\n",
        "y_true, y_pred1 = list(), list()\n",
        "n = 1\n",
        "for i in range(len(test1ist)):\n",
        " #print('Left chrom: ', labels[i], '\\n')\n",
        " # split data\n",
        " X_train1, X_test1 = [X[i] for i in train1ist[i]], [X[i] for i in test1ist[i]]\n",
        " y_train1, y_test1 = [Y[i] for i in train1ist[i]], [Y[i] for i in test1ist[i]]\n",
        " print(f\"Iteration {n}\\n\")\n",
        " #print('Train: ', X_train1, '\\n')\n",
        " #print('Test: ', X_test1, '\\n')\n",
        " # fit model\n",
        " reg = GradientBoostingClassifier(random_state=0)\n",
        " reg.fit(X_train1, y_train1)\n",
        " # evaluate model\n",
        " yhat = reg.predict(X_test1)\n",
        " #print('True y: ', y_test1, '\\n')\n",
        " #print('Estimated y: ', yhat, '\\n')\n",
        " #print('Iteration accruacy: ', accuracy_score(y_test1, yhat), '\\n')\n",
        " # store\n",
        " y_true.append(y_test1)\n",
        " y_pred1.append(yhat)\n",
        " n+=1\n",
        "# Check results\n",
        "#print('True y all: ', y_true, '\\n')\n",
        "#print('Estimated y all: ', y_pred1, '\\n')\n",
        "y_true = np.concatenate(y_true)\n",
        "y_pred1 = np.concatenate(y_pred1)\n",
        "# print('True y all: ', y_true, '\\n')\n",
        "# print('Estimated y all: ', y_pred1, '\\n')\n",
        "# print('Prediction size: ', y_pred1.shape, '\\n')\n",
        "# calculate accuracy\n",
        "acc_gb_lolo = accuracy_score(y_true, y_pred1)\n",
        "auc_gb_lolo = roc_auc_score(y_true, y_pred1)\n",
        "print(\"Model Accuray: {:.2f}%\".format(100*acc_gb_lolo))\n",
        "print(\"Model AUC_ROC: {:.4f}\".format(auc_gb_lolo))"
      ]
    },
    {
      "cell_type": "markdown",
      "metadata": {
        "id": "vOBnoJioEqc4"
      },
      "source": [
        "####Kfold"
      ]
    },
    {
      "cell_type": "code",
      "execution_count": 14,
      "metadata": {
        "colab": {
          "base_uri": "https://localhost:8080/"
        },
        "id": "39f8aC5XNMYu",
        "outputId": "cfbd2ac2-4a92-464b-826f-e34833cdc111"
      },
      "outputs": [
        {
          "output_type": "stream",
          "name": "stdout",
          "text": [
            "Iteration 1\n",
            "\n",
            "Iteration 2\n",
            "\n",
            "Iteration 3\n",
            "\n",
            "Iteration 4\n",
            "\n",
            "Iteration 5\n",
            "\n",
            "Iteration 6\n",
            "\n",
            "Iteration 7\n",
            "\n",
            "Iteration 8\n",
            "\n",
            "Iteration 9\n",
            "\n",
            "Model Accuray: 64.97%\n",
            "Model AUC_ROC: 0.6391\n"
          ]
        }
      ],
      "source": [
        "from sklearn.model_selection import KFold\n",
        "kfold = KFold(n_splits=n_t, shuffle=True, random_state=42)\n",
        "y_true, y_pred1 = [], []\n",
        "n = 1\n",
        "for train_indexes, test_indexes in kfold.split(X):\n",
        "  X_train1, X_test1 = [X[i] for i in train_indexes], [X[i] for i in test_indexes]\n",
        "  y_train1, y_test1 = [Y[i] for i in train_indexes], [Y[i] for i in test_indexes]\n",
        "  print(f\"Iteration {n}\\n\")\n",
        "  #print('Train: ', X_train1, '\\n')\n",
        "  #print('Test: ', X_test1, '\\n')\n",
        "  reg = GradientBoostingClassifier(random_state=0)\n",
        "  reg.fit(X_train1, y_train1)\n",
        "  # evaluate model\n",
        "  yhat = reg.predict(X_test1)\n",
        "  #print('True y: ', y_test1, '\\n')\n",
        "  #print('Estimated y: ', yhat, '\\n')\n",
        "  #print('Iteration accruacy: ', accuracy_score(y_test1, yhat), '\\n')\n",
        "  # store\n",
        "  y_true.append(y_test1)\n",
        "  y_pred1.append(yhat)\n",
        "  n+=1\n",
        "# Check results\n",
        "#print('True y all: ', y_true, '\\n')\n",
        "#print('Estimated y all: ', y_pred1, '\\n')\n",
        "y_true = np.concatenate(y_true)\n",
        "y_pred1 = np.concatenate(y_pred1)\n",
        "#print('True y all: ', y_true, '\\n')\n",
        "#print('Estimated y all: ', y_pred1, '\\n')\n",
        "#print('Prediction size: ', y_pred1.shape, '\\n')\n",
        "# calculate\n",
        "acc_gb_k = accuracy_score(y_true, y_pred1)\n",
        "auc_gb_k = roc_auc_score(y_true, y_pred1)\n",
        "print(\"Model Accuray: {:.2f}%\".format(100*acc_gb_k))\n",
        "print(\"Model AUC_ROC: {:.4f}\".format(auc_gb_k))"
      ]
    },
    {
      "cell_type": "markdown",
      "metadata": {
        "id": "PZYZEXYENMYv"
      },
      "source": [
        "Finding: the training and testing accuracy are the closest."
      ]
    },
    {
      "cell_type": "markdown",
      "metadata": {
        "id": "gO-R6LQcbQl7"
      },
      "source": [
        "## Linear Model"
      ]
    },
    {
      "cell_type": "markdown",
      "metadata": {
        "id": "LJItNyYBFnl0"
      },
      "source": [
        "Terminology: linear_model.SGDClassifier - This estimator implements regularized linear models with stochastic\n",
        "gradient descent (SGD) learning: the gradient of the loss is estimated\n",
        "each sample at a time and the model is updated along the way with a\n",
        "decreasing strength schedule (aka learning rate)."
      ]
    },
    {
      "cell_type": "code",
      "execution_count": 15,
      "metadata": {
        "colab": {
          "base_uri": "https://localhost:8080/"
        },
        "id": "_olRRSYbbGVa",
        "outputId": "0c6ee74d-a586-4bd1-ce82-0c2951a66929"
      },
      "outputs": [
        {
          "output_type": "stream",
          "name": "stdout",
          "text": [
            "Training Accuray: 74.80%\n",
            "Model Accuray: 54.76%\n",
            "Model AUC_ROC: 0.5474\n"
          ]
        }
      ],
      "source": [
        "# Linear Regression Model\n",
        "# Terminology: Stochastic Gradient Descent (SGD) Classifier is an optimization algorithm used to find the values of parameters of a function\n",
        "# that minimizes a cost function.\n",
        "import math\n",
        "from sklearn import datasets, linear_model\n",
        "regr = linear_model.SGDClassifier()\n",
        "regr.fit(X_train0, y_train0)\n",
        "pred = regr.predict(X_test0)\n",
        "acc_lr_tr = regr.score(X_train0, y_train0)\n",
        "acc_lr_v = accuracy_score(y_test0, pred)\n",
        "auc_lr_v = roc_auc_score(y_test0, pred)\n",
        "print(\"Training Accuray: {:.2f}%\".format(100*regr.score(X_train0, y_train0)))\n",
        "print(\"Model Accuray: {:.2f}%\".format(100*acc_lr_v))\n",
        "print(\"Model AUC_ROC: {:.4f}\".format(auc_lr_v))\n",
        "#XGBoost\n",
        "#Model Accuray: 67.06%\n",
        "#Model AUC_ROC: 0.6509"
      ]
    },
    {
      "cell_type": "markdown",
      "metadata": {
        "id": "JTdUsYBafxII"
      },
      "source": [
        "Finding: Even linear model shows a low training accuracy??"
      ]
    },
    {
      "cell_type": "code",
      "execution_count": 16,
      "metadata": {
        "colab": {
          "base_uri": "https://localhost:8080/"
        },
        "id": "AmGPk7vSmpvk",
        "outputId": "00ef3353-f1c5-4a85-c3bb-ede724cd0dc0"
      },
      "outputs": [
        {
          "output_type": "stream",
          "name": "stdout",
          "text": [
            "Iteration 1\n",
            "\n",
            "Iteration 2\n",
            "\n",
            "Iteration 3\n",
            "\n",
            "Iteration 4\n",
            "\n",
            "Iteration 5\n",
            "\n",
            "Iteration 6\n",
            "\n",
            "Iteration 7\n",
            "\n",
            "Iteration 8\n",
            "\n",
            "Iteration 9\n",
            "\n",
            "Model Accuray: 64.67%\n",
            "Model AUC_ROC: 0.6437\n"
          ]
        }
      ],
      "source": [
        "# Linear Classifier LOCO\n",
        "y_true, y_pred1 = list(), list()\n",
        "n = 1\n",
        "for i in range(len(test1ist)):\n",
        " #print('Left chrom: ', labels[i], '\\n')\n",
        " # split data\n",
        " X_train1, X_test1 = [X[i] for i in train1ist[i]], [X[i] for i in test1ist[i]]\n",
        " y_train1, y_test1 = [Y[i] for i in train1ist[i]], [Y[i] for i in test1ist[i]]\n",
        " print(f\"Iteration {n}\\n\")\n",
        " #print('Train: ', X_train1, '\\n')\n",
        " #print('Test: ', X_test1, '\\n')\n",
        " # fit model\n",
        " regr = linear_model.SGDClassifier()\n",
        " regr.fit(X_train1, y_train1)\n",
        " # evaluate model\n",
        " yhat = regr.predict(X_test1)\n",
        " #print('True y: ', y_test1, '\\n')\n",
        " #print('Estimated y: ', yhat, '\\n')\n",
        " #print('Iteration accruacy: ', accuracy_score(y_test1, yhat), '\\n')\n",
        " # store\n",
        " y_true.append(y_test1)\n",
        " y_pred1.append(yhat)\n",
        " n+=1\n",
        "# Check results\n",
        "#print('True y all: ', y_true, '\\n')\n",
        "#print('Estimated y all: ', y_pred1, '\\n')\n",
        "y_true = np.concatenate(y_true)\n",
        "y_pred1 = np.concatenate(y_pred1)\n",
        "#print('True y all: ', y_true, '\\n')\n",
        "#print('Estimated y all: ', y_pred1, '\\n')\n",
        "#print('Prediction size: ', y_pred1.shape, '\\n')\n",
        "# calculate accuracy\n",
        "acc_lr_lolo = accuracy_score(y_true, y_pred1)\n",
        "auc_lr_lolo = roc_auc_score(y_true, y_pred1)\n",
        "print(\"Model Accuray: {:.2f}%\".format(100*acc_lr_lolo))\n",
        "#61.42%->66.77%\n",
        "print(\"Model AUC_ROC: {:.4f}\".format(auc_lr_lolo))"
      ]
    },
    {
      "cell_type": "code",
      "execution_count": 17,
      "metadata": {
        "colab": {
          "base_uri": "https://localhost:8080/"
        },
        "id": "NNfdfBB76k_6",
        "outputId": "86b6b13f-1f65-4a78-f3e6-408588c8b01f"
      },
      "outputs": [
        {
          "output_type": "stream",
          "name": "stdout",
          "text": [
            "Iteration 1\n",
            "\n",
            "Iteration 2\n",
            "\n",
            "Iteration 3\n",
            "\n",
            "Iteration 4\n",
            "\n",
            "Iteration 5\n",
            "\n",
            "Iteration 6\n",
            "\n",
            "Iteration 7\n",
            "\n",
            "Iteration 8\n",
            "\n",
            "Iteration 9\n",
            "\n",
            "Model Accuray: 58.69%\n",
            "Model AUC_ROC: 0.5869\n"
          ]
        }
      ],
      "source": [
        "from sklearn.model_selection import KFold\n",
        "kfold = KFold(n_splits=n_t, shuffle=True, random_state=42)\n",
        "y_true, y_pred1 = [], []\n",
        "n = 1\n",
        "for train_indexes, test_indexes in kfold.split(X):\n",
        "  X_train1, X_test1 = [X[i] for i in train_indexes], [X[i] for i in test_indexes]\n",
        "  y_train1, y_test1 = [Y[i] for i in train_indexes], [Y[i] for i in test_indexes]\n",
        "  print(f\"Iteration {n}\\n\")\n",
        "  #print('Train: ', X_train1, '\\n')\n",
        "  #print('Test: ', X_test1, '\\n')\n",
        "  # fit model\n",
        "  regr = linear_model.SGDClassifier()\n",
        "  regr.fit(X_train1, y_train1)\n",
        "  # evaluate model\n",
        "  yhat = regr.predict(X_test1)\n",
        "  #print('True y: ', y_test1, '\\n')\n",
        "  #print('Estimated y: ', yhat, '\\n')\n",
        "  #print('Iteration accruacy: ', accuracy_score(y_test1, yhat), '\\n')\n",
        "  # store\n",
        "  y_true.append(y_test1)\n",
        "  y_pred1.append(yhat)\n",
        "  n+=1\n",
        "# Check results\n",
        "#print('True y all: ', y_true, '\\n')\n",
        "#print('Estimated y all: ', y_pred1, '\\n')\n",
        "y_true = np.concatenate(y_true)\n",
        "y_pred1 = np.concatenate(y_pred1)\n",
        "#print('True y all: ', y_true, '\\n')\n",
        "#print('Estimated y all: ', y_pred1, '\\n')\n",
        "#print('Prediction size: ', y_pred1.shape, '\\n')\n",
        "# calculate\n",
        "acc_lr_k = accuracy_score(y_true, y_pred1)\n",
        "auc_lr_k = roc_auc_score(y_true, y_pred1)\n",
        "print(\"Model Accuray: {:.2f}%\".format(100*auc_lr_k))\n",
        "#61.42%->66.77%\n",
        "print(\"Model AUC_ROC: {:.4f}\".format(auc_lr_k))\n",
        "#0.6009->0.6475"
      ]
    },
    {
      "cell_type": "markdown",
      "metadata": {
        "id": "up138Jh8gIlC"
      },
      "source": [
        "## --K-neighbor Classifier"
      ]
    },
    {
      "cell_type": "code",
      "execution_count": null,
      "metadata": {
        "colab": {
          "base_uri": "https://localhost:8080/"
        },
        "id": "yoqKckocgLZR",
        "outputId": "7e1f811f-760c-4671-91a2-5a47bbdcd83c"
      },
      "outputs": [
        {
          "name": "stdout",
          "output_type": "stream",
          "text": [
            "Training Accuray: 0.78%\n",
            "Model Accuray: 57.14%\n",
            "Model AUC_ROC: 0.5689\n"
          ]
        }
      ],
      "source": [
        "from sklearn.neighbors import KNeighborsClassifier\n",
        "neigh = KNeighborsClassifier(n_neighbors=3)\n",
        "neigh.fit(X_train0, y_train0)\n",
        "pred = neigh.predict(X_test0)\n",
        "acc_kn_tr = neigh.score(X_train0, y_train0)\n",
        "acc_kn = accuracy_score(y_test0, pred)\n",
        "auc_kn = roc_auc_score(y_test0, pred)\n",
        "print(\"Training Accuray: {:.2f}%\".format(acc_kn_tr))\n",
        "print(\"Model Accuray: {:.2f}%\".format(100*acc_kn))\n",
        "#65-67%\n",
        "print(\"Model AUC_ROC: {:.4f}\".format(auc_kn))"
      ]
    },
    {
      "cell_type": "markdown",
      "metadata": {
        "id": "iH0d-hf5clS9"
      },
      "source": [
        "*To make it more rigorous, tuning the hyperparameters with a separate set."
      ]
    },
    {
      "cell_type": "code",
      "execution_count": null,
      "metadata": {
        "colab": {
          "base_uri": "https://localhost:8080/"
        },
        "id": "h_l1JkN8nnAo",
        "outputId": "0b8bf8eb-b046-4501-fd90-21ffe3cdb9f9"
      },
      "outputs": [
        {
          "name": "stdout",
          "output_type": "stream",
          "text": [
            "Iteration 1\n",
            "\n",
            "Iteration 2\n",
            "\n",
            "Iteration 3\n",
            "\n",
            "Iteration 4\n",
            "\n",
            "Iteration 5\n",
            "\n",
            "Iteration 6\n",
            "\n",
            "Iteration 7\n",
            "\n",
            "Iteration 8\n",
            "\n",
            "Iteration 9\n",
            "\n",
            "Model Accuray: 58.98%\n",
            "Model AUC_ROC: 0.5828\n"
          ]
        }
      ],
      "source": [
        "# K-neighbour LOCO\n",
        "y_true, y_pred1 = list(), list()\n",
        "n = 1\n",
        "for i in range(len(test1ist)):\n",
        " #print('Left chrom: ', labels[i], '\\n')\n",
        " # split data\n",
        " X_train1, X_test1 = [X[i] for i in train1ist[i]], [X[i] for i in test1ist[i]]\n",
        " y_train1, y_test1 = [Y[i] for i in train1ist[i]], [Y[i] for i in test1ist[i]]\n",
        " print(f\"Iteration {n}\\n\")\n",
        " #print('Train: ', X_train1, '\\n')\n",
        " #print('Test: ', X_test1, '\\n')\n",
        " # fit model\n",
        " neigh = KNeighborsClassifier(n_neighbors=3)\n",
        " neigh.fit(X_train1, y_train1)\n",
        " # evaluate model\n",
        " yhat = neigh.predict(X_test1)\n",
        " #print('True y: ', y_test1, '\\n')\n",
        " #print('Estimated y: ', yhat, '\\n')\n",
        " #print('Iteration accruacy: ', accuracy_score(y_test1, yhat), '\\n')\n",
        " # store\n",
        " y_true.append(y_test1)\n",
        " y_pred1.append(yhat)\n",
        " n+=1\n",
        "# Check results\n",
        "#print('True y all: ', y_true, '\\n')\n",
        "#print('Estimated y all: ', y_pred1, '\\n')\n",
        "y_true = np.concatenate(y_true)\n",
        "y_pred1 = np.concatenate(y_pred1)\n",
        "#print('True y all: ', y_true, '\\n')\n",
        "#print('Estimated y all: ', y_pred1, '\\n')\n",
        "#print('Prediction size: ', y_pred1.shape, '\\n')\n",
        "# calculate accuracy\n",
        "acc_kn_lolo = accuracy_score(y_true, y_pred1)\n",
        "auc_kn_lolo = roc_auc_score(y_true, y_pred1)\n",
        "print(\"Model Accuray: {:.2f}%\".format(100*acc_kn_lolo))\n",
        "print(\"Model AUC_ROC: {:.4f}\".format(auc_kn_lolo))\n",
        "#Model Accuray: 75.37% for k_o = 7, but the tuning involves the testing data so it doesn't count\n",
        "#Model AUC_ROC: 0.7354\n",
        "\n",
        "#Collected acc: [0.5905044510385756, 0.5905044510385756, 0.6201780415430267, 0.5786350148367952, 0.6142433234421365, 0.6053412462908012, 0.6172106824925816, 0.6231454005934718, 0.6053412462908012, 0.5964391691394659]\n",
        "# 0.6041543026706232\n",
        "#Collected AUC: [0.5691013247404224, 0.5667919799498746, 0.5946473326172574, 0.5547261009667024, 0.5901539563193698, 0.5799498746867168, 0.5935553168635875, 0.5988184747583244, 0.5845685642678125, 0.57359470103831]\n",
        "# 0.5805907626208378"
      ]
    },
    {
      "cell_type": "markdown",
      "metadata": {
        "id": "VWXHjXMNpIya"
      },
      "source": [
        "Finding: First time I get both acc and auc over 70%!"
      ]
    },
    {
      "cell_type": "code",
      "execution_count": null,
      "metadata": {
        "colab": {
          "base_uri": "https://localhost:8080/"
        },
        "id": "p_nGiz0k_dTy",
        "outputId": "0aa5e8d3-064a-4a82-bdb2-02e784e383da"
      },
      "outputs": [
        {
          "name": "stdout",
          "output_type": "stream",
          "text": [
            "Iteration 1\n",
            "\n",
            "Iteration 2\n",
            "\n",
            "Iteration 3\n",
            "\n",
            "Iteration 4\n",
            "\n",
            "Iteration 5\n",
            "\n",
            "Iteration 6\n",
            "\n",
            "Iteration 7\n",
            "\n",
            "Iteration 8\n",
            "\n",
            "Iteration 9\n",
            "\n",
            "Iteration 10\n",
            "\n",
            "Model Accuray: 64.67%\n",
            "Model AUC_ROC: 0.6387\n"
          ]
        }
      ],
      "source": [
        "from sklearn.model_selection import KFold\n",
        "kfold = KFold(n_splits=10, shuffle=True, random_state=42)\n",
        "y_true, y_pred1 = [], []\n",
        "n = 1\n",
        "for train_indexes, test_indexes in kfold.split(X):\n",
        "  X_train1, X_test1 = [X[i] for i in train_indexes], [X[i] for i in test_indexes]\n",
        "  y_train1, y_test1 = [Y[i] for i in train_indexes], [Y[i] for i in test_indexes]\n",
        "  print(f\"Iteration {n}\\n\")\n",
        "  #print('Train: ', X_train1, '\\n')\n",
        "  #print('Test: ', X_test1, '\\n')\n",
        "  # fit model\n",
        "  neigh = KNeighborsClassifier(n_neighbors=3)\n",
        "  neigh.fit(X_train1, y_train1)\n",
        "  # evaluate model\n",
        "  yhat = neigh.predict(X_test1)\n",
        "  #print('True y: ', y_test1, '\\n')\n",
        "  #print('Estimated y: ', yhat, '\\n')\n",
        "  #print('Iteration accruacy: ', accuracy_score(y_test1, yhat), '\\n')\n",
        "  # store\n",
        "  y_true.append(y_test1)\n",
        "  y_pred1.append(yhat)\n",
        "  n+=1\n",
        "# Check results\n",
        "#print('True y all: ', y_true, '\\n')\n",
        "#print('Estimated y all: ', y_pred1, '\\n')\n",
        "y_true = np.concatenate(y_true)\n",
        "y_pred1 = np.concatenate(y_pred1)\n",
        "#print('True y all: ', y_true, '\\n')\n",
        "#print('Estimated y all: ', y_pred1, '\\n')\n",
        "#print('Prediction size: ', y_pred1.shape, '\\n')\n",
        "# calculate\n",
        "acc_kn_k = accuracy_score(y_true, y_pred1)\n",
        "auc_kn_k = roc_auc_score(y_true, y_pred1)\n",
        "print(\"Model Accuray: {:.2f}%\".format(100*acc_kn_k))\n",
        "print(\"Model AUC_ROC: {:.4f}\".format(auc_kn_k))"
      ]
    },
    {
      "cell_type": "markdown",
      "metadata": {
        "id": "pT0zLhSNsHkG"
      },
      "source": [
        "Finding: the k-Fold testing results are much lower, but we can also explain it with the hyposthesis that there are negative-effect training data when using k-Fold."
      ]
    },
    {
      "cell_type": "markdown",
      "metadata": {
        "id": "3PPlzHb6cB1_"
      },
      "source": [
        "## SVM"
      ]
    },
    {
      "cell_type": "code",
      "execution_count": 18,
      "metadata": {
        "colab": {
          "base_uri": "https://localhost:8080/"
        },
        "id": "ULkvDgopcDaz",
        "outputId": "6c468f61-55e2-4275-ae30-95b5d1ca3fde"
      },
      "outputs": [
        {
          "output_type": "stream",
          "name": "stdout",
          "text": [
            "Training Accuray: 78.00%\n",
            "Model Accuray: 67.86%\n",
            "Model AUC_ROC: 0.6724\n"
          ]
        }
      ],
      "source": [
        "# Support Vector Machine\n",
        "from sklearn.svm import SVC\n",
        "clf = SVC(gamma='auto')\n",
        "clf.fit(X_train0, y_train0)\n",
        "pred = clf.predict(X_test0)\n",
        "acc_svm_tr = clf.score(X_train0, y_train0)\n",
        "acc_svm_v = accuracy_score(y_test0, pred)\n",
        "auc_svm_v = roc_auc_score(y_test0, pred)\n",
        "print(\"Training Accuray: {:.2f}%\".format(100*clf.score(X_train0, y_train0)))\n",
        "print(\"Model Accuray: {:.2f}%\".format(100*acc_svm_v))\n",
        "#65-67%\n",
        "print(\"Model AUC_ROC: {:.4f}\".format(auc_svm_v))"
      ]
    },
    {
      "cell_type": "markdown",
      "metadata": {
        "id": "1iS7Rb63f7MB"
      },
      "source": [
        "Caution: low training accuracy"
      ]
    },
    {
      "cell_type": "code",
      "execution_count": 19,
      "metadata": {
        "colab": {
          "base_uri": "https://localhost:8080/"
        },
        "id": "oVeuNkf7nRXi",
        "outputId": "f9b3c1b7-1150-4128-e8b6-149a372751e5"
      },
      "outputs": [
        {
          "output_type": "stream",
          "name": "stdout",
          "text": [
            "Iteration 1\n",
            "\n",
            "Iteration 2\n",
            "\n",
            "Iteration 3\n",
            "\n",
            "Iteration 4\n",
            "\n",
            "Iteration 5\n",
            "\n",
            "Iteration 6\n",
            "\n",
            "Iteration 7\n",
            "\n",
            "Iteration 8\n",
            "\n",
            "Iteration 9\n",
            "\n",
            "Model Accuray: 63.47%\n",
            "Model AUC_ROC: 0.6221\n"
          ]
        }
      ],
      "source": [
        "# SVM LOCO\n",
        "y_true, y_pred1 = list(), list()\n",
        "n = 1\n",
        "for i in range(len(test1ist)):\n",
        " #print('Left chrom: ', labels[i], '\\n')\n",
        " # split data\n",
        " X_train1, X_test1 = [X[i] for i in train1ist[i]], [X[i] for i in test1ist[i]]\n",
        " y_train1, y_test1 = [Y[i] for i in train1ist[i]], [Y[i] for i in test1ist[i]]\n",
        " print(f\"Iteration {n}\\n\")\n",
        " #print('Train: ', X_train1, '\\n')\n",
        " #print('Test: ', X_test1, '\\n')\n",
        " # fit model\n",
        " clf = make_pipeline(StandardScaler(), SVC(gamma='auto'))\n",
        " clf.fit(X_train1, y_train1)\n",
        " # evaluate model\n",
        " yhat = clf.predict(X_test1)\n",
        " #print('True y: ', y_test1, '\\n')\n",
        " #print('Estimated y: ', yhat, '\\n')\n",
        " #print('Iteration accruacy: ', accuracy_score(y_test1, yhat), '\\n')\n",
        " # store\n",
        " y_true.append(y_test1)\n",
        " y_pred1.append(yhat)\n",
        " n+=1\n",
        "# Check results\n",
        "#print('True y all: ', y_true, '\\n')\n",
        "#print('Estimated y all: ', y_pred1, '\\n')\n",
        "y_true = np.concatenate(y_true)\n",
        "y_pred1 = np.concatenate(y_pred1)\n",
        "#print('True y all: ', y_true, '\\n')\n",
        "#print('Estimated y all: ', y_pred1, '\\n')\n",
        "#print('Prediction size: ', y_pred1.shape, '\\n')\n",
        "# calculate accuracy\n",
        "acc_svm_lolo = accuracy_score(y_true, y_pred1)\n",
        "auc_svm_lolo = roc_auc_score(y_true, y_pred1)\n",
        "print(\"Model Accuray: {:.2f}%\".format(100*acc_svm_lolo))\n",
        "print(\"Model AUC_ROC: {:.4f}\".format(auc_svm_lolo))\n",
        "#Model Accuray: 63.20%\n",
        "#Model AUC_ROC: 0.6098"
      ]
    },
    {
      "cell_type": "code",
      "execution_count": 20,
      "metadata": {
        "colab": {
          "base_uri": "https://localhost:8080/"
        },
        "id": "E5qZz6fl7FTM",
        "outputId": "f7250dff-78a0-41b2-92fa-751b2a717fa3"
      },
      "outputs": [
        {
          "output_type": "stream",
          "name": "stdout",
          "text": [
            "Iteration 1\n",
            "\n",
            "Iteration 2\n",
            "\n",
            "Iteration 3\n",
            "\n",
            "Iteration 4\n",
            "\n",
            "Iteration 5\n",
            "\n",
            "Iteration 6\n",
            "\n",
            "Iteration 7\n",
            "\n",
            "Iteration 8\n",
            "\n",
            "Iteration 9\n",
            "\n",
            "Model Accuray: 67.37%\n",
            "Model AUC_ROC: 0.6737\n"
          ]
        }
      ],
      "source": [
        "from sklearn.model_selection import KFold\n",
        "kfold = KFold(n_splits=n_t, shuffle=True, random_state=42)\n",
        "y_true, y_pred1 = [], []\n",
        "n = 1\n",
        "for train_indexes, test_indexes in kfold.split(X):\n",
        "  X_train1, X_test1 = [X[i] for i in train_indexes], [X[i] for i in test_indexes]\n",
        "  y_train1, y_test1 = [Y[i] for i in train_indexes], [Y[i] for i in test_indexes]\n",
        "  print(f\"Iteration {n}\\n\")\n",
        "  #print('Train: ', X_train1, '\\n')\n",
        "  #print('Test: ', X_test1, '\\n')\n",
        "  # fit model\n",
        "  clf = make_pipeline(StandardScaler(), SVC(gamma='auto'))\n",
        "  clf.fit(X_train1, y_train1)\n",
        "  # evaluate model\n",
        "  yhat = clf.predict(X_test1)\n",
        "  #print('True y: ', y_test1, '\\n')\n",
        "  #print('Estimated y: ', yhat, '\\n')\n",
        "  #print('Iteration accruacy: ', accuracy_score(y_test1, yhat), '\\n')\n",
        "  # store\n",
        "  y_true.append(y_test1)\n",
        "  y_pred1.append(yhat)\n",
        "  n+=1\n",
        "# Check results\n",
        "#print('True y all: ', y_true, '\\n')\n",
        "#print('Estimated y all: ', y_pred1, '\\n')\n",
        "y_true = np.concatenate(y_true)\n",
        "y_pred1 = np.concatenate(y_pred1)\n",
        "#print('True y all: ', y_true, '\\n')\n",
        "#print('Estimated y all: ', y_pred1, '\\n')\n",
        "#print('Prediction size: ', y_pred1.shape, '\\n')\n",
        "# calculate\n",
        "acc_svm_k = accuracy_score(y_true, y_pred1)\n",
        "auc_svm_k = roc_auc_score(y_true, y_pred1)\n",
        "print(\"Model Accuray: {:.2f}%\".format(100*auc_svm_k))\n",
        "print(\"Model AUC_ROC: {:.4f}\".format(auc_svm_k))"
      ]
    },
    {
      "cell_type": "markdown",
      "metadata": {
        "id": "8HtuoEWVbTYn"
      },
      "source": [
        "## Bayesian Model"
      ]
    },
    {
      "cell_type": "code",
      "execution_count": 21,
      "metadata": {
        "colab": {
          "base_uri": "https://localhost:8080/"
        },
        "id": "p-etBzVIbWvB",
        "outputId": "bd516f4c-e086-4938-8418-728d8cb990a1"
      },
      "outputs": [
        {
          "output_type": "stream",
          "name": "stdout",
          "text": [
            "Training Accuray: 70.00%\n",
            "Model Accuray: 60.71%\n",
            "Model AUC_ROC: 0.5998\n"
          ]
        }
      ],
      "source": [
        "# Bayesian Regression Model\n",
        "from sklearn.naive_bayes import GaussianNB\n",
        "gnb = GaussianNB()\n",
        "gnb.fit(X_train0, y_train0)\n",
        "pred = gnb.predict(X_test0)\n",
        "acc_b_tr = gnb.score(X_train0, y_train0)\n",
        "acc_b = accuracy_score(y_test0, pred)\n",
        "auc_b = roc_auc_score(y_test0, pred)\n",
        "print(\"Training Accuray: {:.2f}%\".format(100*acc_b_tr))\n",
        "print(\"Model Accuray: {:.2f}%\".format(100*acc_b))\n",
        "#65-67%\n",
        "print(\"Model AUC_ROC: {:.4f}\".format(auc_b))"
      ]
    },
    {
      "cell_type": "code",
      "execution_count": 23,
      "metadata": {
        "colab": {
          "base_uri": "https://localhost:8080/"
        },
        "id": "88v8KLpytf4s",
        "outputId": "778b7294-c835-4ae2-ab64-1722d6daba41"
      },
      "outputs": [
        {
          "output_type": "stream",
          "name": "stdout",
          "text": [
            "Iteration 1\n",
            "\n",
            "Iteration 2\n",
            "\n",
            "Iteration 3\n",
            "\n",
            "Iteration 4\n",
            "\n",
            "Iteration 5\n",
            "\n",
            "Iteration 6\n",
            "\n",
            "Iteration 7\n",
            "\n",
            "Iteration 8\n",
            "\n",
            "Iteration 9\n",
            "\n",
            "Model Accuray: 61.68%\n",
            "Model AUC_ROC: 0.5828\n"
          ]
        }
      ],
      "source": [
        "# Bayesian LOCO\n",
        "y_true, y_pred1 = list(), list()\n",
        "n = 1\n",
        "for i in range(len(test1ist)):\n",
        " #print('Left chrom: ', labels[i], '\\n')\n",
        " # split data\n",
        " X_train1, X_test1 = [X[i] for i in train1ist[i]], [X[i] for i in test1ist[i]]\n",
        " y_train1, y_test1 = [Y[i] for i in train1ist[i]], [Y[i] for i in test1ist[i]]\n",
        " print(f\"Iteration {n}\\n\")\n",
        " #print('Train: ', X_train1, '\\n')\n",
        " #print('Test: ', X_test1, '\\n')\n",
        " # fit model\n",
        " gnb = GaussianNB()\n",
        " gnb.fit(X_train1, y_train1)\n",
        " # evaluate model\n",
        " yhat = gnb.predict(X_test1)\n",
        " #print('True y: ', y_test1, '\\n')\n",
        " #print('Estimated y: ', yhat, '\\n')\n",
        " #print('Iteration accruacy: ', accuracy_score(y_test1, yhat), '\\n')\n",
        " # store\n",
        " y_true.append(y_test1)\n",
        " y_pred1.append(yhat)\n",
        " n+=1\n",
        "# Check results\n",
        "#print('True y all: ', y_true, '\\n')\n",
        "#print('Estimated y all: ', y_pred1, '\\n')\n",
        "y_true = np.concatenate(y_true)\n",
        "y_pred1 = np.concatenate(y_pred1)\n",
        "# print('True y all: ', y_true, '\\n')\n",
        "# print('Estimated y all: ', y_pred1, '\\n')\n",
        "# print('Prediction size: ', y_pred1.shape, '\\n')\n",
        "# calculate accuracy\n",
        "acc_b_lolo = accuracy_score(y_true, y_pred1)\n",
        "auc_b_lolo = roc_auc_score(y_true, y_pred1)\n",
        "print(\"Model Accuray: {:.2f}%\".format(100*acc_b_lolo))\n",
        "print(\"Model AUC_ROC: {:.4f}\".format(auc_b_lolo))\n",
        "#Model Accuray: 67.36%\n",
        "#Model AUC_ROC: 0.6620"
      ]
    },
    {
      "cell_type": "code",
      "execution_count": 24,
      "metadata": {
        "colab": {
          "base_uri": "https://localhost:8080/"
        },
        "id": "g5tx5FOoB2WC",
        "outputId": "cb063d86-e6a2-4b96-e04d-08b21e7bc5f2"
      },
      "outputs": [
        {
          "output_type": "stream",
          "name": "stdout",
          "text": [
            "Iteration 1\n",
            "\n",
            "Iteration 2\n",
            "\n",
            "Iteration 3\n",
            "\n",
            "Iteration 4\n",
            "\n",
            "Iteration 5\n",
            "\n",
            "Iteration 6\n",
            "\n",
            "Iteration 7\n",
            "\n",
            "Iteration 8\n",
            "\n",
            "Iteration 9\n",
            "\n",
            "Model Accuray: 60.48%\n",
            "Model AUC_ROC: 0.5736\n"
          ]
        }
      ],
      "source": [
        "from sklearn.model_selection import KFold\n",
        "kfold = KFold(n_splits=n_t, shuffle=True, random_state=42)\n",
        "y_true, y_pred1 = [], []\n",
        "n = 1\n",
        "for train_indexes, test_indexes in kfold.split(X):\n",
        "  X_train1, X_test1 = [X[i] for i in train_indexes], [X[i] for i in test_indexes]\n",
        "  y_train1, y_test1 = [Y[i] for i in train_indexes], [Y[i] for i in test_indexes]\n",
        "  print(f\"Iteration {n}\\n\")\n",
        "  #print('Train: ', X_train1, '\\n')\n",
        "  #print('Test: ', X_test1, '\\n')\n",
        "  gnb = GaussianNB()\n",
        "  gnb.fit(X_train1, y_train1)\n",
        "  # evaluate model\n",
        "  yhat = gnb.predict(X_test1)\n",
        "  #print('True y: ', y_test1, '\\n')\n",
        "  #print('Estimated y: ', yhat, '\\n')\n",
        "  #print('Iteration accruacy: ', accuracy_score(y_test1, yhat), '\\n')\n",
        "  # store\n",
        "  y_true.append(y_test1)\n",
        "  y_pred1.append(yhat)\n",
        "  n+=1\n",
        "# Check results\n",
        "#print('True y all: ', y_true, '\\n')\n",
        "#print('Estimated y all: ', y_pred1, '\\n')\n",
        "y_true = np.concatenate(y_true)\n",
        "y_pred1 = np.concatenate(y_pred1)\n",
        "#print('True y all: ', y_true, '\\n')\n",
        "#print('Estimated y all: ', y_pred1, '\\n')\n",
        "#print('Prediction size: ', y_pred1.shape, '\\n')\n",
        "# calculate\n",
        "acc_b_k = accuracy_score(y_true, y_pred1)\n",
        "auc_b_k = roc_auc_score(y_true, y_pred1)\n",
        "print(\"Model Accuray: {:.2f}%\".format(100*acc_b_k))\n",
        "print(\"Model AUC_ROC: {:.4f}\".format(auc_b_k))"
      ]
    },
    {
      "cell_type": "markdown",
      "metadata": {
        "id": "xEhVenlGhKO_"
      },
      "source": [
        "Finding: the training and testing accuracy are the closest."
      ]
    },
    {
      "cell_type": "markdown",
      "metadata": {
        "id": "vBSyZbrZ3g8k"
      },
      "source": [
        "## --NN Model"
      ]
    },
    {
      "cell_type": "markdown",
      "metadata": {
        "id": "rT37Rye0t1g7"
      },
      "source": [
        "### Terminology Explanantion:"
      ]
    },
    {
      "cell_type": "markdown",
      "metadata": {
        "id": "QPLCbEsLtiWl"
      },
      "source": [
        "1. **Adam** is different to classical stochastic gradient descent.\n",
        "\n",
        "Stochastic gradient descent maintains a single learning rate (termed alpha) for all weight updates and the learning rate does not change during training.\n",
        "\n",
        "A learning rate is maintained for each network weight (parameter) and separately adapted as learning unfolds.\n",
        "\n",
        "The method computes individual adaptive learning rates for different parameters from estimates of first and second moments of the gradients.\n",
        "\n",
        "The authors describe Adam as combining the advantages of two other extensions of stochastic gradient descent. Specifically:\n",
        "\n",
        "Adaptive Gradient Algorithm (AdaGrad) that maintains a per-parameter learning rate that improves performance on problems with sparse gradients (e.g. natural language and computer vision problems).\n",
        "Root Mean Square Propagation (RMSProp) that also maintains per-parameter learning rates that are adapted based on the average of recent magnitudes of the gradients for the weight (e.g. how quickly it is changing). This means the algorithm does well on online and non-stationary problems (e.g. noisy).\n",
        "Adam realizes the benefits of both AdaGrad and RMSProp.\n",
        "\n",
        "Instead of adapting the parameter learning rates based on the average first moment (the mean) as in RMSProp, Adam also makes use of the average of the second moments of the gradients (the uncentered variance).\n",
        "\n",
        "Specifically, the algorithm calculates an exponential moving average of the gradient and the squared gradient, and the parameters beta1 and beta2 control the decay rates of these moving averages.\n",
        "\n",
        "The initial value of the moving averages and beta1 and beta2 values close to 1.0 (recommended) result in a bias of moment estimates towards zero. This bias is overcome by first calculating the biased estimates before then calculating bias-corrected estimates."
      ]
    },
    {
      "cell_type": "markdown",
      "metadata": {
        "id": "P8Y3QXxhkpt7"
      },
      "source": [
        "2. The variability in accuracy between different training runs of the neural network model is due to the random initialization of the model's weights and biases. Neural networks often have many parameters, and these **randomly initialized** parameters can lead to different convergence paths during training. Therefore, it is common to observe some variability in the final accuracy across different runs."
      ]
    },
    {
      "cell_type": "markdown",
      "metadata": {
        "id": "KA61kVYq_uop"
      },
      "source": [
        "### Model building"
      ]
    },
    {
      "cell_type": "code",
      "execution_count": null,
      "metadata": {
        "colab": {
          "base_uri": "https://localhost:8080/"
        },
        "id": "8e7kJSvl7mMC",
        "outputId": "4d192384-8b97-4215-a584-65c542d59b70"
      },
      "outputs": [
        {
          "name": "stdout",
          "output_type": "stream",
          "text": [
            "training+validation index: 299;  testing index: 35\n"
          ]
        },
        {
          "name": "stderr",
          "output_type": "stream",
          "text": [
            "<ipython-input-90-e07abeadd33c>:54: DeprecationWarning: KerasClassifier is deprecated, use Sci-Keras (https://github.com/adriangb/scikeras) instead. See https://www.adriangb.com/scikeras/stable/migration.html for help migrating.\n",
            "  nn_model = KerasClassifier(build_fn=lambda: model, epochs=epochs, verbose=0)\n"
          ]
        }
      ],
      "source": [
        "#1 Initializatioin\n",
        "from keras.models import Sequential\n",
        "from keras.layers import Dense\n",
        "from keras.optimizers import Adam\n",
        "from skopt import BayesSearchCV\n",
        "from keras.wrappers.scikit_learn import KerasClassifier\n",
        "from sklearn.preprocessing import StandardScaler\n",
        "from sklearn.pipeline import make_pipeline\n",
        "\n",
        "#2 Standardize the features\n",
        "#2.1 Build training, validation and test sets/Extract individual index list\n",
        "train_v_indexes = train1ist[-1]\n",
        "val_indexes = vlist[-1]\n",
        "test_indexes = test1ist[-1]\n",
        "X_train, y_train= X[train_v_indexes], Y[train_v_indexes]\n",
        "X_test, y_test= X[test_indexes], Y[test_indexes]\n",
        "print(f\"training+validation index: {len(train_v_indexes)}; \", #{train_v_indexes},\n",
        "    f\"testing index: {len(test_indexes)}\") #{test_indexes},\n",
        "\n",
        "# scaler = StandardScaler()\n",
        "# ***The purpose of scaling is to standardize the features so that they\n",
        "# have zero mean and unit variance. This helps in preventing certain\n",
        "# features from dominating the learning process and ensures better\n",
        "# convergence during training.\n",
        "\n",
        "#3 Buid NN Model\n",
        "def build_nn_model(hidden_layers, units, learning_rate, epochs):\n",
        "    # hidden_layers=1, units=16, learning_rate=0.001, epochs=10\n",
        "\n",
        "    # #1 Preprocessing\n",
        "    # scaler = StandardScaler()\n",
        "    # X_train1 = scaler.fit_transform(X_train)\n",
        "    # X_test1 = scaler.transform(X_test)\n",
        "\n",
        "    #2 Input layer\n",
        "    model = Sequential()\n",
        "    model.add(Dense(units, input_dim=X.shape[1], activation='relu'))\n",
        "\n",
        "    #3 Hidden layers: If hidden_layers is greater than 1, a loop\n",
        "    # is used to add additional hidden layers, each having the\n",
        "    # specified number of units and using the ReLU activation function.\n",
        "    for _ in range(hidden_layers - 1):\n",
        "        model.add(Dense(units, activation='relu'))\n",
        "\n",
        "    #4 Output layer\n",
        "    # Binary classifier with one output unit and sigmoid activation\n",
        "    # model.add(Dense(1, activation='sigmoid'))\n",
        "    model.add(Dense(2, activation='softmax'))\n",
        "\n",
        "    optimizer = Adam(learning_rate=learning_rate)\n",
        "    model.compile(loss='sparse_categorical_crossentropy',\n",
        "                  optimizer=optimizer, metrics=['accuracy'])\n",
        "\n",
        "    nn_model = KerasClassifier(build_fn=lambda: model, epochs=epochs, verbose=0)\n",
        "\n",
        "    return nn_model\n",
        "\n",
        "# from keras.wrappers.scikit_learn import KerasClassifier\n",
        "# model = KerasClassifier(build_fn=build_nn_model, epochs=10, verbose=0)\n",
        "#(Keras.io) If unspecified, batch_size will default to 32. Do not specify the batch_size if your data is in the form of dataset, generators, or keras.\n",
        "# model = build_nn_model(1,16,0.001,10)\n",
        "    #hidden_layers=1, units=16, learning_rate=0.001, epochs=10)\n",
        "model = make_pipeline(StandardScaler(), build_nn_model(1,16,0.001,10))"
      ]
    },
    {
      "cell_type": "markdown",
      "metadata": {
        "id": "q268cbBmBpLi"
      },
      "source": [
        "###Simple Split"
      ]
    },
    {
      "cell_type": "code",
      "execution_count": null,
      "metadata": {
        "colab": {
          "base_uri": "https://localhost:8080/"
        },
        "id": "aEbfR-BSHdpq",
        "outputId": "9c9ff7e9-f818-4b63-9122-19288ad1e7da"
      },
      "outputs": [
        {
          "name": "stderr",
          "output_type": "stream",
          "text": [
            "<ipython-input-90-e07abeadd33c>:54: DeprecationWarning: KerasClassifier is deprecated, use Sci-Keras (https://github.com/adriangb/scikeras) instead. See https://www.adriangb.com/scikeras/stable/migration.html for help migrating.\n",
            "  nn_model = KerasClassifier(build_fn=lambda: model, epochs=epochs, verbose=0)\n"
          ]
        },
        {
          "name": "stdout",
          "output_type": "stream",
          "text": [
            "Round Accuray: 74.00%\n",
            "Round Accuray: 71.20%\n",
            "Round Accuray: 75.60%\n",
            "Round Accuray: 72.00%\n",
            "Round Accuray: 75.60%\n",
            "Round Accuray: 71.60%\n",
            "Round Accuray: 70.40%\n",
            "Round Accuray: 70.80%\n",
            "Round Accuray: 75.20%\n",
            "Round Accuray: 73.60%\n",
            "Best Training Accuray: 75.60%\n",
            "Model Accuray: 60.71%\n",
            "Model AUC_ROC: 0.5998\n",
            "[1 1 1 0 1 0 0 1 1 1 1 1 1 1 1 1 1 1 0 1 1 1 1 1 1 1 1 1 1 0 1 1 1 0 1 1 1\n",
            " 1 1 1 1 1 1 1 1 1 1 0 0 1 0 0 1 0 1 1 1 0 1 1 1 1 1 1 1 1 0 0 1 1 1 1 1 1\n",
            " 0 1 1 1 1 0 1 1 1 1]\n",
            "[1 0 1 0 0 0 0 1 1 0 0 0 1 1 0 1 1 0 0 1 0 1 1 0 1 0 0 0 1 0 1 0 1 0 0 1 1\n",
            " 0 0 1 1 0 1 1 0 1 1 1 0 1 1 1 0 0 0 0 1 0 0 0 0 1 1 1 1 1 0 0 1 0 1 1 0 1\n",
            " 1 0 1 0 1 0 1 1 0 1]\n"
          ]
        }
      ],
      "source": [
        "acc_nn_tr = 0\n",
        "model_result = make_pipeline(StandardScaler(), build_nn_model(1,16,0.001,10))\n",
        "for _ in range(10):\n",
        "  model = build_nn_model(1,16,0.001,10)\n",
        "  model.fit(X_train0,y_train0)\n",
        "  acc_nn_tr1 = model.score(X_train0, y_train0)\n",
        "  print(\"Round Accuray: {:.2f}%\".format(100*acc_nn_tr1))\n",
        "  if acc_nn_tr1>acc_nn_tr:\n",
        "    acc_nn_tr = acc_nn_tr1\n",
        "    model_result = model\n",
        "model_result.fit(X_train0, y_train0)\n",
        "acc_nn = accuracy_score(y_test0, pred)\n",
        "auc_nn = roc_auc_score(y_test0, pred)\n",
        "print(\"Best Training Accuray: {:.2f}%\".format(100*acc_nn_tr))\n",
        "print(\"Model Accuray: {:.2f}%\".format(100*acc_nn))\n",
        "# 65-67%\n",
        "print(\"Model AUC_ROC: {:.4f}\".format(auc_nn))\n",
        "print(pred)\n",
        "print(y_test0)"
      ]
    },
    {
      "cell_type": "markdown",
      "metadata": {
        "id": "09i6oQHW_39m"
      },
      "source": [
        "###LOCO"
      ]
    },
    {
      "cell_type": "code",
      "execution_count": null,
      "metadata": {
        "colab": {
          "base_uri": "https://localhost:8080/"
        },
        "id": "Fpfjjk6A27O6",
        "outputId": "08f0a634-fced-43a9-e90e-81402d958243"
      },
      "outputs": [
        {
          "name": "stdout",
          "output_type": "stream",
          "text": [
            "Iteration 1; \n",
            "training+validation index: 306;  testing index: 28\n"
          ]
        },
        {
          "name": "stderr",
          "output_type": "stream",
          "text": [
            "<ipython-input-90-e07abeadd33c>:54: DeprecationWarning: KerasClassifier is deprecated, use Sci-Keras (https://github.com/adriangb/scikeras) instead. See https://www.adriangb.com/scikeras/stable/migration.html for help migrating.\n",
            "  nn_model = KerasClassifier(build_fn=lambda: model, epochs=epochs, verbose=0)\n",
            "<ipython-input-90-e07abeadd33c>:54: DeprecationWarning: KerasClassifier is deprecated, use Sci-Keras (https://github.com/adriangb/scikeras) instead. See https://www.adriangb.com/scikeras/stable/migration.html for help migrating.\n",
            "  nn_model = KerasClassifier(build_fn=lambda: model, epochs=epochs, verbose=0)\n",
            "<ipython-input-90-e07abeadd33c>:54: DeprecationWarning: KerasClassifier is deprecated, use Sci-Keras (https://github.com/adriangb/scikeras) instead. See https://www.adriangb.com/scikeras/stable/migration.html for help migrating.\n",
            "  nn_model = KerasClassifier(build_fn=lambda: model, epochs=epochs, verbose=0)\n",
            "<ipython-input-90-e07abeadd33c>:54: DeprecationWarning: KerasClassifier is deprecated, use Sci-Keras (https://github.com/adriangb/scikeras) instead. See https://www.adriangb.com/scikeras/stable/migration.html for help migrating.\n",
            "  nn_model = KerasClassifier(build_fn=lambda: model, epochs=epochs, verbose=0)\n",
            "<ipython-input-90-e07abeadd33c>:54: DeprecationWarning: KerasClassifier is deprecated, use Sci-Keras (https://github.com/adriangb/scikeras) instead. See https://www.adriangb.com/scikeras/stable/migration.html for help migrating.\n",
            "  nn_model = KerasClassifier(build_fn=lambda: model, epochs=epochs, verbose=0)\n",
            "<ipython-input-90-e07abeadd33c>:54: DeprecationWarning: KerasClassifier is deprecated, use Sci-Keras (https://github.com/adriangb/scikeras) instead. See https://www.adriangb.com/scikeras/stable/migration.html for help migrating.\n",
            "  nn_model = KerasClassifier(build_fn=lambda: model, epochs=epochs, verbose=0)\n",
            "<ipython-input-90-e07abeadd33c>:54: DeprecationWarning: KerasClassifier is deprecated, use Sci-Keras (https://github.com/adriangb/scikeras) instead. See https://www.adriangb.com/scikeras/stable/migration.html for help migrating.\n",
            "  nn_model = KerasClassifier(build_fn=lambda: model, epochs=epochs, verbose=0)\n",
            "<ipython-input-90-e07abeadd33c>:54: DeprecationWarning: KerasClassifier is deprecated, use Sci-Keras (https://github.com/adriangb/scikeras) instead. See https://www.adriangb.com/scikeras/stable/migration.html for help migrating.\n",
            "  nn_model = KerasClassifier(build_fn=lambda: model, epochs=epochs, verbose=0)\n",
            "<ipython-input-90-e07abeadd33c>:54: DeprecationWarning: KerasClassifier is deprecated, use Sci-Keras (https://github.com/adriangb/scikeras) instead. See https://www.adriangb.com/scikeras/stable/migration.html for help migrating.\n",
            "  nn_model = KerasClassifier(build_fn=lambda: model, epochs=epochs, verbose=0)\n",
            "<ipython-input-90-e07abeadd33c>:54: DeprecationWarning: KerasClassifier is deprecated, use Sci-Keras (https://github.com/adriangb/scikeras) instead. See https://www.adriangb.com/scikeras/stable/migration.html for help migrating.\n",
            "  nn_model = KerasClassifier(build_fn=lambda: model, epochs=epochs, verbose=0)\n"
          ]
        },
        {
          "name": "stdout",
          "output_type": "stream",
          "text": [
            "Best Training Accuray: 76.14%\n",
            "1/1 [==============================] - 0s 266ms/step\n",
            "Iteration Accuray: 53.57%\n",
            "Iteration 2; \n",
            "training+validation index: 292;  testing index: 42\n"
          ]
        },
        {
          "name": "stderr",
          "output_type": "stream",
          "text": [
            "<ipython-input-90-e07abeadd33c>:54: DeprecationWarning: KerasClassifier is deprecated, use Sci-Keras (https://github.com/adriangb/scikeras) instead. See https://www.adriangb.com/scikeras/stable/migration.html for help migrating.\n",
            "  nn_model = KerasClassifier(build_fn=lambda: model, epochs=epochs, verbose=0)\n",
            "<ipython-input-90-e07abeadd33c>:54: DeprecationWarning: KerasClassifier is deprecated, use Sci-Keras (https://github.com/adriangb/scikeras) instead. See https://www.adriangb.com/scikeras/stable/migration.html for help migrating.\n",
            "  nn_model = KerasClassifier(build_fn=lambda: model, epochs=epochs, verbose=0)\n",
            "<ipython-input-90-e07abeadd33c>:54: DeprecationWarning: KerasClassifier is deprecated, use Sci-Keras (https://github.com/adriangb/scikeras) instead. See https://www.adriangb.com/scikeras/stable/migration.html for help migrating.\n",
            "  nn_model = KerasClassifier(build_fn=lambda: model, epochs=epochs, verbose=0)\n",
            "<ipython-input-90-e07abeadd33c>:54: DeprecationWarning: KerasClassifier is deprecated, use Sci-Keras (https://github.com/adriangb/scikeras) instead. See https://www.adriangb.com/scikeras/stable/migration.html for help migrating.\n",
            "  nn_model = KerasClassifier(build_fn=lambda: model, epochs=epochs, verbose=0)\n",
            "<ipython-input-90-e07abeadd33c>:54: DeprecationWarning: KerasClassifier is deprecated, use Sci-Keras (https://github.com/adriangb/scikeras) instead. See https://www.adriangb.com/scikeras/stable/migration.html for help migrating.\n",
            "  nn_model = KerasClassifier(build_fn=lambda: model, epochs=epochs, verbose=0)\n",
            "<ipython-input-90-e07abeadd33c>:54: DeprecationWarning: KerasClassifier is deprecated, use Sci-Keras (https://github.com/adriangb/scikeras) instead. See https://www.adriangb.com/scikeras/stable/migration.html for help migrating.\n",
            "  nn_model = KerasClassifier(build_fn=lambda: model, epochs=epochs, verbose=0)\n",
            "<ipython-input-90-e07abeadd33c>:54: DeprecationWarning: KerasClassifier is deprecated, use Sci-Keras (https://github.com/adriangb/scikeras) instead. See https://www.adriangb.com/scikeras/stable/migration.html for help migrating.\n",
            "  nn_model = KerasClassifier(build_fn=lambda: model, epochs=epochs, verbose=0)\n",
            "<ipython-input-90-e07abeadd33c>:54: DeprecationWarning: KerasClassifier is deprecated, use Sci-Keras (https://github.com/adriangb/scikeras) instead. See https://www.adriangb.com/scikeras/stable/migration.html for help migrating.\n",
            "  nn_model = KerasClassifier(build_fn=lambda: model, epochs=epochs, verbose=0)\n",
            "<ipython-input-90-e07abeadd33c>:54: DeprecationWarning: KerasClassifier is deprecated, use Sci-Keras (https://github.com/adriangb/scikeras) instead. See https://www.adriangb.com/scikeras/stable/migration.html for help migrating.\n",
            "  nn_model = KerasClassifier(build_fn=lambda: model, epochs=epochs, verbose=0)\n",
            "<ipython-input-90-e07abeadd33c>:54: DeprecationWarning: KerasClassifier is deprecated, use Sci-Keras (https://github.com/adriangb/scikeras) instead. See https://www.adriangb.com/scikeras/stable/migration.html for help migrating.\n",
            "  nn_model = KerasClassifier(build_fn=lambda: model, epochs=epochs, verbose=0)\n"
          ]
        },
        {
          "name": "stdout",
          "output_type": "stream",
          "text": [
            "Best Training Accuray: 74.66%\n",
            "2/2 [==============================] - 0s 5ms/step\n",
            "Iteration Accuray: 71.43%\n",
            "Iteration 3; \n",
            "training+validation index: 305;  testing index: 29\n"
          ]
        },
        {
          "name": "stderr",
          "output_type": "stream",
          "text": [
            "<ipython-input-90-e07abeadd33c>:54: DeprecationWarning: KerasClassifier is deprecated, use Sci-Keras (https://github.com/adriangb/scikeras) instead. See https://www.adriangb.com/scikeras/stable/migration.html for help migrating.\n",
            "  nn_model = KerasClassifier(build_fn=lambda: model, epochs=epochs, verbose=0)\n",
            "<ipython-input-90-e07abeadd33c>:54: DeprecationWarning: KerasClassifier is deprecated, use Sci-Keras (https://github.com/adriangb/scikeras) instead. See https://www.adriangb.com/scikeras/stable/migration.html for help migrating.\n",
            "  nn_model = KerasClassifier(build_fn=lambda: model, epochs=epochs, verbose=0)\n",
            "<ipython-input-90-e07abeadd33c>:54: DeprecationWarning: KerasClassifier is deprecated, use Sci-Keras (https://github.com/adriangb/scikeras) instead. See https://www.adriangb.com/scikeras/stable/migration.html for help migrating.\n",
            "  nn_model = KerasClassifier(build_fn=lambda: model, epochs=epochs, verbose=0)\n",
            "<ipython-input-90-e07abeadd33c>:54: DeprecationWarning: KerasClassifier is deprecated, use Sci-Keras (https://github.com/adriangb/scikeras) instead. See https://www.adriangb.com/scikeras/stable/migration.html for help migrating.\n",
            "  nn_model = KerasClassifier(build_fn=lambda: model, epochs=epochs, verbose=0)\n",
            "<ipython-input-90-e07abeadd33c>:54: DeprecationWarning: KerasClassifier is deprecated, use Sci-Keras (https://github.com/adriangb/scikeras) instead. See https://www.adriangb.com/scikeras/stable/migration.html for help migrating.\n",
            "  nn_model = KerasClassifier(build_fn=lambda: model, epochs=epochs, verbose=0)\n",
            "<ipython-input-90-e07abeadd33c>:54: DeprecationWarning: KerasClassifier is deprecated, use Sci-Keras (https://github.com/adriangb/scikeras) instead. See https://www.adriangb.com/scikeras/stable/migration.html for help migrating.\n",
            "  nn_model = KerasClassifier(build_fn=lambda: model, epochs=epochs, verbose=0)\n",
            "<ipython-input-90-e07abeadd33c>:54: DeprecationWarning: KerasClassifier is deprecated, use Sci-Keras (https://github.com/adriangb/scikeras) instead. See https://www.adriangb.com/scikeras/stable/migration.html for help migrating.\n",
            "  nn_model = KerasClassifier(build_fn=lambda: model, epochs=epochs, verbose=0)\n",
            "<ipython-input-90-e07abeadd33c>:54: DeprecationWarning: KerasClassifier is deprecated, use Sci-Keras (https://github.com/adriangb/scikeras) instead. See https://www.adriangb.com/scikeras/stable/migration.html for help migrating.\n",
            "  nn_model = KerasClassifier(build_fn=lambda: model, epochs=epochs, verbose=0)\n",
            "<ipython-input-90-e07abeadd33c>:54: DeprecationWarning: KerasClassifier is deprecated, use Sci-Keras (https://github.com/adriangb/scikeras) instead. See https://www.adriangb.com/scikeras/stable/migration.html for help migrating.\n",
            "  nn_model = KerasClassifier(build_fn=lambda: model, epochs=epochs, verbose=0)\n",
            "<ipython-input-90-e07abeadd33c>:54: DeprecationWarning: KerasClassifier is deprecated, use Sci-Keras (https://github.com/adriangb/scikeras) instead. See https://www.adriangb.com/scikeras/stable/migration.html for help migrating.\n",
            "  nn_model = KerasClassifier(build_fn=lambda: model, epochs=epochs, verbose=0)\n"
          ]
        },
        {
          "name": "stdout",
          "output_type": "stream",
          "text": [
            "Best Training Accuray: 76.72%\n",
            "1/1 [==============================] - 0s 54ms/step\n",
            "Iteration Accuray: 79.31%\n",
            "Iteration 4; \n",
            "training+validation index: 305;  testing index: 29\n"
          ]
        },
        {
          "name": "stderr",
          "output_type": "stream",
          "text": [
            "<ipython-input-90-e07abeadd33c>:54: DeprecationWarning: KerasClassifier is deprecated, use Sci-Keras (https://github.com/adriangb/scikeras) instead. See https://www.adriangb.com/scikeras/stable/migration.html for help migrating.\n",
            "  nn_model = KerasClassifier(build_fn=lambda: model, epochs=epochs, verbose=0)\n",
            "<ipython-input-90-e07abeadd33c>:54: DeprecationWarning: KerasClassifier is deprecated, use Sci-Keras (https://github.com/adriangb/scikeras) instead. See https://www.adriangb.com/scikeras/stable/migration.html for help migrating.\n",
            "  nn_model = KerasClassifier(build_fn=lambda: model, epochs=epochs, verbose=0)\n",
            "<ipython-input-90-e07abeadd33c>:54: DeprecationWarning: KerasClassifier is deprecated, use Sci-Keras (https://github.com/adriangb/scikeras) instead. See https://www.adriangb.com/scikeras/stable/migration.html for help migrating.\n",
            "  nn_model = KerasClassifier(build_fn=lambda: model, epochs=epochs, verbose=0)\n",
            "<ipython-input-90-e07abeadd33c>:54: DeprecationWarning: KerasClassifier is deprecated, use Sci-Keras (https://github.com/adriangb/scikeras) instead. See https://www.adriangb.com/scikeras/stable/migration.html for help migrating.\n",
            "  nn_model = KerasClassifier(build_fn=lambda: model, epochs=epochs, verbose=0)\n",
            "<ipython-input-90-e07abeadd33c>:54: DeprecationWarning: KerasClassifier is deprecated, use Sci-Keras (https://github.com/adriangb/scikeras) instead. See https://www.adriangb.com/scikeras/stable/migration.html for help migrating.\n",
            "  nn_model = KerasClassifier(build_fn=lambda: model, epochs=epochs, verbose=0)\n",
            "<ipython-input-90-e07abeadd33c>:54: DeprecationWarning: KerasClassifier is deprecated, use Sci-Keras (https://github.com/adriangb/scikeras) instead. See https://www.adriangb.com/scikeras/stable/migration.html for help migrating.\n",
            "  nn_model = KerasClassifier(build_fn=lambda: model, epochs=epochs, verbose=0)\n",
            "<ipython-input-90-e07abeadd33c>:54: DeprecationWarning: KerasClassifier is deprecated, use Sci-Keras (https://github.com/adriangb/scikeras) instead. See https://www.adriangb.com/scikeras/stable/migration.html for help migrating.\n",
            "  nn_model = KerasClassifier(build_fn=lambda: model, epochs=epochs, verbose=0)\n",
            "<ipython-input-90-e07abeadd33c>:54: DeprecationWarning: KerasClassifier is deprecated, use Sci-Keras (https://github.com/adriangb/scikeras) instead. See https://www.adriangb.com/scikeras/stable/migration.html for help migrating.\n",
            "  nn_model = KerasClassifier(build_fn=lambda: model, epochs=epochs, verbose=0)\n",
            "<ipython-input-90-e07abeadd33c>:54: DeprecationWarning: KerasClassifier is deprecated, use Sci-Keras (https://github.com/adriangb/scikeras) instead. See https://www.adriangb.com/scikeras/stable/migration.html for help migrating.\n",
            "  nn_model = KerasClassifier(build_fn=lambda: model, epochs=epochs, verbose=0)\n",
            "<ipython-input-90-e07abeadd33c>:54: DeprecationWarning: KerasClassifier is deprecated, use Sci-Keras (https://github.com/adriangb/scikeras) instead. See https://www.adriangb.com/scikeras/stable/migration.html for help migrating.\n",
            "  nn_model = KerasClassifier(build_fn=lambda: model, epochs=epochs, verbose=0)\n"
          ]
        },
        {
          "name": "stdout",
          "output_type": "stream",
          "text": [
            "Best Training Accuray: 74.75%\n",
            "1/1 [==============================] - 0s 115ms/step\n",
            "Iteration Accuray: 75.86%\n",
            "Iteration 5; \n",
            "training+validation index: 247;  testing index: 87\n"
          ]
        },
        {
          "name": "stderr",
          "output_type": "stream",
          "text": [
            "<ipython-input-90-e07abeadd33c>:54: DeprecationWarning: KerasClassifier is deprecated, use Sci-Keras (https://github.com/adriangb/scikeras) instead. See https://www.adriangb.com/scikeras/stable/migration.html for help migrating.\n",
            "  nn_model = KerasClassifier(build_fn=lambda: model, epochs=epochs, verbose=0)\n",
            "<ipython-input-90-e07abeadd33c>:54: DeprecationWarning: KerasClassifier is deprecated, use Sci-Keras (https://github.com/adriangb/scikeras) instead. See https://www.adriangb.com/scikeras/stable/migration.html for help migrating.\n",
            "  nn_model = KerasClassifier(build_fn=lambda: model, epochs=epochs, verbose=0)\n",
            "<ipython-input-90-e07abeadd33c>:54: DeprecationWarning: KerasClassifier is deprecated, use Sci-Keras (https://github.com/adriangb/scikeras) instead. See https://www.adriangb.com/scikeras/stable/migration.html for help migrating.\n",
            "  nn_model = KerasClassifier(build_fn=lambda: model, epochs=epochs, verbose=0)\n",
            "<ipython-input-90-e07abeadd33c>:54: DeprecationWarning: KerasClassifier is deprecated, use Sci-Keras (https://github.com/adriangb/scikeras) instead. See https://www.adriangb.com/scikeras/stable/migration.html for help migrating.\n",
            "  nn_model = KerasClassifier(build_fn=lambda: model, epochs=epochs, verbose=0)\n",
            "<ipython-input-90-e07abeadd33c>:54: DeprecationWarning: KerasClassifier is deprecated, use Sci-Keras (https://github.com/adriangb/scikeras) instead. See https://www.adriangb.com/scikeras/stable/migration.html for help migrating.\n",
            "  nn_model = KerasClassifier(build_fn=lambda: model, epochs=epochs, verbose=0)\n",
            "<ipython-input-90-e07abeadd33c>:54: DeprecationWarning: KerasClassifier is deprecated, use Sci-Keras (https://github.com/adriangb/scikeras) instead. See https://www.adriangb.com/scikeras/stable/migration.html for help migrating.\n",
            "  nn_model = KerasClassifier(build_fn=lambda: model, epochs=epochs, verbose=0)\n",
            "<ipython-input-90-e07abeadd33c>:54: DeprecationWarning: KerasClassifier is deprecated, use Sci-Keras (https://github.com/adriangb/scikeras) instead. See https://www.adriangb.com/scikeras/stable/migration.html for help migrating.\n",
            "  nn_model = KerasClassifier(build_fn=lambda: model, epochs=epochs, verbose=0)\n",
            "<ipython-input-90-e07abeadd33c>:54: DeprecationWarning: KerasClassifier is deprecated, use Sci-Keras (https://github.com/adriangb/scikeras) instead. See https://www.adriangb.com/scikeras/stable/migration.html for help migrating.\n",
            "  nn_model = KerasClassifier(build_fn=lambda: model, epochs=epochs, verbose=0)\n",
            "<ipython-input-90-e07abeadd33c>:54: DeprecationWarning: KerasClassifier is deprecated, use Sci-Keras (https://github.com/adriangb/scikeras) instead. See https://www.adriangb.com/scikeras/stable/migration.html for help migrating.\n",
            "  nn_model = KerasClassifier(build_fn=lambda: model, epochs=epochs, verbose=0)\n",
            "<ipython-input-90-e07abeadd33c>:54: DeprecationWarning: KerasClassifier is deprecated, use Sci-Keras (https://github.com/adriangb/scikeras) instead. See https://www.adriangb.com/scikeras/stable/migration.html for help migrating.\n",
            "  nn_model = KerasClassifier(build_fn=lambda: model, epochs=epochs, verbose=0)\n"
          ]
        },
        {
          "name": "stdout",
          "output_type": "stream",
          "text": [
            "Best Training Accuray: 77.33%\n",
            "3/3 [==============================] - 0s 4ms/step\n",
            "Iteration Accuray: 60.92%\n",
            "Iteration 6; \n",
            "training+validation index: 314;  testing index: 20\n"
          ]
        },
        {
          "name": "stderr",
          "output_type": "stream",
          "text": [
            "<ipython-input-90-e07abeadd33c>:54: DeprecationWarning: KerasClassifier is deprecated, use Sci-Keras (https://github.com/adriangb/scikeras) instead. See https://www.adriangb.com/scikeras/stable/migration.html for help migrating.\n",
            "  nn_model = KerasClassifier(build_fn=lambda: model, epochs=epochs, verbose=0)\n",
            "<ipython-input-90-e07abeadd33c>:54: DeprecationWarning: KerasClassifier is deprecated, use Sci-Keras (https://github.com/adriangb/scikeras) instead. See https://www.adriangb.com/scikeras/stable/migration.html for help migrating.\n",
            "  nn_model = KerasClassifier(build_fn=lambda: model, epochs=epochs, verbose=0)\n",
            "<ipython-input-90-e07abeadd33c>:54: DeprecationWarning: KerasClassifier is deprecated, use Sci-Keras (https://github.com/adriangb/scikeras) instead. See https://www.adriangb.com/scikeras/stable/migration.html for help migrating.\n",
            "  nn_model = KerasClassifier(build_fn=lambda: model, epochs=epochs, verbose=0)\n",
            "<ipython-input-90-e07abeadd33c>:54: DeprecationWarning: KerasClassifier is deprecated, use Sci-Keras (https://github.com/adriangb/scikeras) instead. See https://www.adriangb.com/scikeras/stable/migration.html for help migrating.\n",
            "  nn_model = KerasClassifier(build_fn=lambda: model, epochs=epochs, verbose=0)\n",
            "<ipython-input-90-e07abeadd33c>:54: DeprecationWarning: KerasClassifier is deprecated, use Sci-Keras (https://github.com/adriangb/scikeras) instead. See https://www.adriangb.com/scikeras/stable/migration.html for help migrating.\n",
            "  nn_model = KerasClassifier(build_fn=lambda: model, epochs=epochs, verbose=0)\n",
            "<ipython-input-90-e07abeadd33c>:54: DeprecationWarning: KerasClassifier is deprecated, use Sci-Keras (https://github.com/adriangb/scikeras) instead. See https://www.adriangb.com/scikeras/stable/migration.html for help migrating.\n",
            "  nn_model = KerasClassifier(build_fn=lambda: model, epochs=epochs, verbose=0)\n",
            "<ipython-input-90-e07abeadd33c>:54: DeprecationWarning: KerasClassifier is deprecated, use Sci-Keras (https://github.com/adriangb/scikeras) instead. See https://www.adriangb.com/scikeras/stable/migration.html for help migrating.\n",
            "  nn_model = KerasClassifier(build_fn=lambda: model, epochs=epochs, verbose=0)\n",
            "<ipython-input-90-e07abeadd33c>:54: DeprecationWarning: KerasClassifier is deprecated, use Sci-Keras (https://github.com/adriangb/scikeras) instead. See https://www.adriangb.com/scikeras/stable/migration.html for help migrating.\n",
            "  nn_model = KerasClassifier(build_fn=lambda: model, epochs=epochs, verbose=0)\n",
            "<ipython-input-90-e07abeadd33c>:54: DeprecationWarning: KerasClassifier is deprecated, use Sci-Keras (https://github.com/adriangb/scikeras) instead. See https://www.adriangb.com/scikeras/stable/migration.html for help migrating.\n",
            "  nn_model = KerasClassifier(build_fn=lambda: model, epochs=epochs, verbose=0)\n",
            "<ipython-input-90-e07abeadd33c>:54: DeprecationWarning: KerasClassifier is deprecated, use Sci-Keras (https://github.com/adriangb/scikeras) instead. See https://www.adriangb.com/scikeras/stable/migration.html for help migrating.\n",
            "  nn_model = KerasClassifier(build_fn=lambda: model, epochs=epochs, verbose=0)\n"
          ]
        },
        {
          "name": "stdout",
          "output_type": "stream",
          "text": [
            "Best Training Accuray: 77.07%\n",
            "1/1 [==============================] - 0s 64ms/step\n",
            "Iteration Accuray: 45.00%\n",
            "Iteration 7; \n",
            "training+validation index: 300;  testing index: 34\n"
          ]
        },
        {
          "name": "stderr",
          "output_type": "stream",
          "text": [
            "<ipython-input-90-e07abeadd33c>:54: DeprecationWarning: KerasClassifier is deprecated, use Sci-Keras (https://github.com/adriangb/scikeras) instead. See https://www.adriangb.com/scikeras/stable/migration.html for help migrating.\n",
            "  nn_model = KerasClassifier(build_fn=lambda: model, epochs=epochs, verbose=0)\n",
            "<ipython-input-90-e07abeadd33c>:54: DeprecationWarning: KerasClassifier is deprecated, use Sci-Keras (https://github.com/adriangb/scikeras) instead. See https://www.adriangb.com/scikeras/stable/migration.html for help migrating.\n",
            "  nn_model = KerasClassifier(build_fn=lambda: model, epochs=epochs, verbose=0)\n",
            "<ipython-input-90-e07abeadd33c>:54: DeprecationWarning: KerasClassifier is deprecated, use Sci-Keras (https://github.com/adriangb/scikeras) instead. See https://www.adriangb.com/scikeras/stable/migration.html for help migrating.\n",
            "  nn_model = KerasClassifier(build_fn=lambda: model, epochs=epochs, verbose=0)\n",
            "<ipython-input-90-e07abeadd33c>:54: DeprecationWarning: KerasClassifier is deprecated, use Sci-Keras (https://github.com/adriangb/scikeras) instead. See https://www.adriangb.com/scikeras/stable/migration.html for help migrating.\n",
            "  nn_model = KerasClassifier(build_fn=lambda: model, epochs=epochs, verbose=0)\n",
            "<ipython-input-90-e07abeadd33c>:54: DeprecationWarning: KerasClassifier is deprecated, use Sci-Keras (https://github.com/adriangb/scikeras) instead. See https://www.adriangb.com/scikeras/stable/migration.html for help migrating.\n",
            "  nn_model = KerasClassifier(build_fn=lambda: model, epochs=epochs, verbose=0)\n",
            "<ipython-input-90-e07abeadd33c>:54: DeprecationWarning: KerasClassifier is deprecated, use Sci-Keras (https://github.com/adriangb/scikeras) instead. See https://www.adriangb.com/scikeras/stable/migration.html for help migrating.\n",
            "  nn_model = KerasClassifier(build_fn=lambda: model, epochs=epochs, verbose=0)\n",
            "<ipython-input-90-e07abeadd33c>:54: DeprecationWarning: KerasClassifier is deprecated, use Sci-Keras (https://github.com/adriangb/scikeras) instead. See https://www.adriangb.com/scikeras/stable/migration.html for help migrating.\n",
            "  nn_model = KerasClassifier(build_fn=lambda: model, epochs=epochs, verbose=0)\n",
            "<ipython-input-90-e07abeadd33c>:54: DeprecationWarning: KerasClassifier is deprecated, use Sci-Keras (https://github.com/adriangb/scikeras) instead. See https://www.adriangb.com/scikeras/stable/migration.html for help migrating.\n",
            "  nn_model = KerasClassifier(build_fn=lambda: model, epochs=epochs, verbose=0)\n",
            "<ipython-input-90-e07abeadd33c>:54: DeprecationWarning: KerasClassifier is deprecated, use Sci-Keras (https://github.com/adriangb/scikeras) instead. See https://www.adriangb.com/scikeras/stable/migration.html for help migrating.\n",
            "  nn_model = KerasClassifier(build_fn=lambda: model, epochs=epochs, verbose=0)\n",
            "<ipython-input-90-e07abeadd33c>:54: DeprecationWarning: KerasClassifier is deprecated, use Sci-Keras (https://github.com/adriangb/scikeras) instead. See https://www.adriangb.com/scikeras/stable/migration.html for help migrating.\n",
            "  nn_model = KerasClassifier(build_fn=lambda: model, epochs=epochs, verbose=0)\n"
          ]
        },
        {
          "name": "stdout",
          "output_type": "stream",
          "text": [
            "Best Training Accuray: 79.00%\n",
            "2/2 [==============================] - 0s 7ms/step\n",
            "Iteration Accuray: 52.94%\n",
            "Iteration 8; \n",
            "training+validation index: 304;  testing index: 30\n"
          ]
        },
        {
          "name": "stderr",
          "output_type": "stream",
          "text": [
            "<ipython-input-90-e07abeadd33c>:54: DeprecationWarning: KerasClassifier is deprecated, use Sci-Keras (https://github.com/adriangb/scikeras) instead. See https://www.adriangb.com/scikeras/stable/migration.html for help migrating.\n",
            "  nn_model = KerasClassifier(build_fn=lambda: model, epochs=epochs, verbose=0)\n",
            "<ipython-input-90-e07abeadd33c>:54: DeprecationWarning: KerasClassifier is deprecated, use Sci-Keras (https://github.com/adriangb/scikeras) instead. See https://www.adriangb.com/scikeras/stable/migration.html for help migrating.\n",
            "  nn_model = KerasClassifier(build_fn=lambda: model, epochs=epochs, verbose=0)\n",
            "<ipython-input-90-e07abeadd33c>:54: DeprecationWarning: KerasClassifier is deprecated, use Sci-Keras (https://github.com/adriangb/scikeras) instead. See https://www.adriangb.com/scikeras/stable/migration.html for help migrating.\n",
            "  nn_model = KerasClassifier(build_fn=lambda: model, epochs=epochs, verbose=0)\n",
            "<ipython-input-90-e07abeadd33c>:54: DeprecationWarning: KerasClassifier is deprecated, use Sci-Keras (https://github.com/adriangb/scikeras) instead. See https://www.adriangb.com/scikeras/stable/migration.html for help migrating.\n",
            "  nn_model = KerasClassifier(build_fn=lambda: model, epochs=epochs, verbose=0)\n",
            "<ipython-input-90-e07abeadd33c>:54: DeprecationWarning: KerasClassifier is deprecated, use Sci-Keras (https://github.com/adriangb/scikeras) instead. See https://www.adriangb.com/scikeras/stable/migration.html for help migrating.\n",
            "  nn_model = KerasClassifier(build_fn=lambda: model, epochs=epochs, verbose=0)\n",
            "<ipython-input-90-e07abeadd33c>:54: DeprecationWarning: KerasClassifier is deprecated, use Sci-Keras (https://github.com/adriangb/scikeras) instead. See https://www.adriangb.com/scikeras/stable/migration.html for help migrating.\n",
            "  nn_model = KerasClassifier(build_fn=lambda: model, epochs=epochs, verbose=0)\n",
            "<ipython-input-90-e07abeadd33c>:54: DeprecationWarning: KerasClassifier is deprecated, use Sci-Keras (https://github.com/adriangb/scikeras) instead. See https://www.adriangb.com/scikeras/stable/migration.html for help migrating.\n",
            "  nn_model = KerasClassifier(build_fn=lambda: model, epochs=epochs, verbose=0)\n",
            "<ipython-input-90-e07abeadd33c>:54: DeprecationWarning: KerasClassifier is deprecated, use Sci-Keras (https://github.com/adriangb/scikeras) instead. See https://www.adriangb.com/scikeras/stable/migration.html for help migrating.\n",
            "  nn_model = KerasClassifier(build_fn=lambda: model, epochs=epochs, verbose=0)\n",
            "<ipython-input-90-e07abeadd33c>:54: DeprecationWarning: KerasClassifier is deprecated, use Sci-Keras (https://github.com/adriangb/scikeras) instead. See https://www.adriangb.com/scikeras/stable/migration.html for help migrating.\n",
            "  nn_model = KerasClassifier(build_fn=lambda: model, epochs=epochs, verbose=0)\n",
            "<ipython-input-90-e07abeadd33c>:54: DeprecationWarning: KerasClassifier is deprecated, use Sci-Keras (https://github.com/adriangb/scikeras) instead. See https://www.adriangb.com/scikeras/stable/migration.html for help migrating.\n",
            "  nn_model = KerasClassifier(build_fn=lambda: model, epochs=epochs, verbose=0)\n"
          ]
        },
        {
          "name": "stdout",
          "output_type": "stream",
          "text": [
            "Best Training Accuray: 76.64%\n",
            "1/1 [==============================] - 0s 58ms/step\n",
            "Iteration Accuray: 66.67%\n",
            "Iteration 9; \n",
            "training+validation index: 299;  testing index: 35\n"
          ]
        },
        {
          "name": "stderr",
          "output_type": "stream",
          "text": [
            "<ipython-input-90-e07abeadd33c>:54: DeprecationWarning: KerasClassifier is deprecated, use Sci-Keras (https://github.com/adriangb/scikeras) instead. See https://www.adriangb.com/scikeras/stable/migration.html for help migrating.\n",
            "  nn_model = KerasClassifier(build_fn=lambda: model, epochs=epochs, verbose=0)\n",
            "<ipython-input-90-e07abeadd33c>:54: DeprecationWarning: KerasClassifier is deprecated, use Sci-Keras (https://github.com/adriangb/scikeras) instead. See https://www.adriangb.com/scikeras/stable/migration.html for help migrating.\n",
            "  nn_model = KerasClassifier(build_fn=lambda: model, epochs=epochs, verbose=0)\n",
            "<ipython-input-90-e07abeadd33c>:54: DeprecationWarning: KerasClassifier is deprecated, use Sci-Keras (https://github.com/adriangb/scikeras) instead. See https://www.adriangb.com/scikeras/stable/migration.html for help migrating.\n",
            "  nn_model = KerasClassifier(build_fn=lambda: model, epochs=epochs, verbose=0)\n",
            "<ipython-input-90-e07abeadd33c>:54: DeprecationWarning: KerasClassifier is deprecated, use Sci-Keras (https://github.com/adriangb/scikeras) instead. See https://www.adriangb.com/scikeras/stable/migration.html for help migrating.\n",
            "  nn_model = KerasClassifier(build_fn=lambda: model, epochs=epochs, verbose=0)\n",
            "<ipython-input-90-e07abeadd33c>:54: DeprecationWarning: KerasClassifier is deprecated, use Sci-Keras (https://github.com/adriangb/scikeras) instead. See https://www.adriangb.com/scikeras/stable/migration.html for help migrating.\n",
            "  nn_model = KerasClassifier(build_fn=lambda: model, epochs=epochs, verbose=0)\n",
            "<ipython-input-90-e07abeadd33c>:54: DeprecationWarning: KerasClassifier is deprecated, use Sci-Keras (https://github.com/adriangb/scikeras) instead. See https://www.adriangb.com/scikeras/stable/migration.html for help migrating.\n",
            "  nn_model = KerasClassifier(build_fn=lambda: model, epochs=epochs, verbose=0)\n",
            "<ipython-input-90-e07abeadd33c>:54: DeprecationWarning: KerasClassifier is deprecated, use Sci-Keras (https://github.com/adriangb/scikeras) instead. See https://www.adriangb.com/scikeras/stable/migration.html for help migrating.\n",
            "  nn_model = KerasClassifier(build_fn=lambda: model, epochs=epochs, verbose=0)\n",
            "<ipython-input-90-e07abeadd33c>:54: DeprecationWarning: KerasClassifier is deprecated, use Sci-Keras (https://github.com/adriangb/scikeras) instead. See https://www.adriangb.com/scikeras/stable/migration.html for help migrating.\n",
            "  nn_model = KerasClassifier(build_fn=lambda: model, epochs=epochs, verbose=0)\n",
            "<ipython-input-90-e07abeadd33c>:54: DeprecationWarning: KerasClassifier is deprecated, use Sci-Keras (https://github.com/adriangb/scikeras) instead. See https://www.adriangb.com/scikeras/stable/migration.html for help migrating.\n",
            "  nn_model = KerasClassifier(build_fn=lambda: model, epochs=epochs, verbose=0)\n",
            "<ipython-input-90-e07abeadd33c>:54: DeprecationWarning: KerasClassifier is deprecated, use Sci-Keras (https://github.com/adriangb/scikeras) instead. See https://www.adriangb.com/scikeras/stable/migration.html for help migrating.\n",
            "  nn_model = KerasClassifier(build_fn=lambda: model, epochs=epochs, verbose=0)\n"
          ]
        },
        {
          "name": "stdout",
          "output_type": "stream",
          "text": [
            "Best Training Accuray: 74.92%\n",
            "2/2 [==============================] - 0s 6ms/step\n",
            "Iteration Accuray: 74.29%\n",
            "Average Accuray: 64.44%\n",
            "Whole Accuray: 64.67%\n",
            "AUC Score: 0.6350\n",
            "Prediction: [0 1 1 1 0 1 1 1 1 1 0 1 0 1 1 1 0 1 0 0 0 1 0 1 1 1 0 0 1 0 0 1 0 1 1 1 1\n",
            " 0 0 0 1 1 0 1 1 1 1 0 1 1 0 0 1 1 1 1 1 1 1 1 1 1 0 1 1 1 0 0 0 0 1 0 0 1\n",
            " 0 0 0 1 0 1 1 1 0 0 1 0 1 1 1 1 1 1 1 1 1 1 1 1 1 1 0 1 1 1 1 0 1 0 1 0 0\n",
            " 0 0 1 0 0 0 0 0 0 0 0 0 1 1 0 0 0 1 0 1 1 1 0 0 1 0 1 1 1 0 0 1 0 1 1 1 0\n",
            " 0 0 1 1 1 0 1 1 1 1 0 0 0 1 0 0 1 0 1 1 1 1 0 1 1 1 1 1 0 0 0 1 1 0 1 1 1\n",
            " 1 1 1 1 1 0 1 1 0 1 1 1 0 0 1 1 1 1 1 0 0 1 0 1 1 1 0 0 1 1 0 0 1 1 0 0 0\n",
            " 0 0 1 1 1 1 1 1 1 0 1 0 1 1 1 1 1 0 1 0 0 1 1 0 0 0 0 1 1 0 0 1 0 1 1 0 1\n",
            " 1 1 1 1 1 1 1 1 1 1 0 0 0 1 1 0 1 1 1 1 0 0 0 0 1 0 0 1 0 0 0 0 1 1 0 1 1\n",
            " 0 1 0 1 1 1 1 1 1 0 1 1 1 1 1 0 1 1 1 0 0 0 1 1 1 1 1 1 1 1 1 1 1 1 0 0 1\n",
            " 1]\n"
          ]
        }
      ],
      "source": [
        "# Replacing loop with LOCO testing function\n",
        "\n",
        "def loco_test(model, X, Y, trainlist,testlist):\n",
        "  acc_scores = []\n",
        "  #best_params_list = [\n",
        "  yhat_all = []\n",
        "  ytrue_all = []\n",
        "  for i in range(len(testlist)):\n",
        "    print(f\"Iteration {i+1}; \")\n",
        "\n",
        "    #1 Build training, validation and test sets/Extract individual index list\n",
        "    train_v_indexes = trainlist[i]\n",
        "    test_indexes = testlist[i]\n",
        "    X_train, y_train= X[train_v_indexes], Y[train_v_indexes]\n",
        "    X_test, y_test= X[test_indexes], Y[test_indexes]\n",
        "    print(f\"training+validation index: {len(train_v_indexes)}; \", #{train_v_indexes},\n",
        "        f\"testing index: {len(test_indexes)}\") #{test_indexes}\n",
        "    #3 Create model and repeat training for optimal score\n",
        "    acc_nn_tr = 0\n",
        "    for _ in range(10):\n",
        "      model = make_pipeline(StandardScaler(), build_nn_model(1,16,0.001,10))\n",
        "      model.fit(X_train,y_train)\n",
        "      acc_nn_tr1 = model.score(X_train, y_train)\n",
        "      if acc_nn_tr1>acc_nn_tr:\n",
        "        acc_nn_tr = acc_nn_tr1\n",
        "        model_result = model\n",
        "    print(\"Best Training Accuray: {:.2f}%\".format(100*acc_nn_tr))\n",
        "    yhat = model_result.predict(X_test)\n",
        "    #6 Calculate and store\n",
        "    acc = accuracy_score(y_test, yhat)\n",
        "    # auc = roc_auc_score(y_test, yhat)\n",
        "    acc_scores.append(acc)\n",
        "    ytrue_all.append(y_test)\n",
        "    yhat_all.append(yhat)\n",
        "    # auc_scores.append(auc)\n",
        "    print(\"Iteration Accuray: {:.2f}%\".format(100*acc))\n",
        "    # print(\"Iteration AUC_ROC: {:.4f}\".format(np.mean(auc)))\n",
        "\n",
        "  \"\"\"Note: the BayeSearchCV introduces randomness when search for the optimal hyperparameters.\"\"\"\n",
        "  #7 Results for all testing folds\n",
        "  # print(\"Average Accuray: {:.2f}%\".format(100*np.mean(acc_scores))) #redundant\n",
        "  ytrue_all = np.concatenate(ytrue_all)\n",
        "  yhat_all= np.concatenate(yhat_all)\n",
        "  acc_w = accuracy_score(ytrue_all, yhat_all)\n",
        "  auc =  roc_auc_score(ytrue_all, yhat_all)\n",
        "  acc_ave = np.mean(acc_scores)\n",
        "\n",
        "  return acc_ave, acc_w, auc, yhat_all, ytrue_all\n",
        "\n",
        "# No optimisation test\n",
        "# model = build_nn_model(1,16,0.001,10)\n",
        "model = make_pipeline(StandardScaler(), build_nn_model(1,16,0.001,10))\n",
        "acc_ave, acc_w, auc, yhat_all, ytrue_all = loco_test(model, X, Y, train1ist,test1ist)\n",
        "print(\"Average Accuray: {:.2f}%\".format(100*acc_ave))\n",
        "print(\"Whole Accuray: {:.2f}%\".format(100*acc_w))\n",
        "print(\"AUC Score: {:.4f}\".format(auc))\n",
        "print(\"Prediction: {}\".format(yhat_all))\n",
        "acc_nn_lolo = acc_w\n",
        "acc_nn_lolo = auc"
      ]
    },
    {
      "cell_type": "code",
      "execution_count": null,
      "metadata": {
        "colab": {
          "base_uri": "https://localhost:8080/"
        },
        "id": "Y6mSrEzBNGsa",
        "outputId": "e79dcf82-99a8-4fda-dcd0-07c016b83a1b"
      },
      "outputs": [
        {
          "name": "stdout",
          "output_type": "stream",
          "text": [
            "0.6467065868263473 0.6350176434210048\n"
          ]
        }
      ],
      "source": [
        "acc_nn_lolo = acc_w\n",
        "auc_nn_lolo = auc\n",
        "print(acc_nn_lolo, auc_nn_lolo)"
      ]
    },
    {
      "cell_type": "markdown",
      "metadata": {
        "id": "pErCkxeG3g9L"
      },
      "source": [
        "### Kfold"
      ]
    },
    {
      "cell_type": "code",
      "execution_count": null,
      "metadata": {
        "colab": {
          "base_uri": "https://localhost:8080/"
        },
        "id": "dhy7Ovr_3g9L",
        "outputId": "c8769b7e-7f72-4489-f85c-984a2e410aaa"
      },
      "outputs": [
        {
          "name": "stdout",
          "output_type": "stream",
          "text": [
            "Iteration 1\n",
            "\n"
          ]
        },
        {
          "name": "stderr",
          "output_type": "stream",
          "text": [
            "<ipython-input-90-e07abeadd33c>:54: DeprecationWarning: KerasClassifier is deprecated, use Sci-Keras (https://github.com/adriangb/scikeras) instead. See https://www.adriangb.com/scikeras/stable/migration.html for help migrating.\n",
            "  nn_model = KerasClassifier(build_fn=lambda: model, epochs=epochs, verbose=0)\n",
            "<ipython-input-90-e07abeadd33c>:54: DeprecationWarning: KerasClassifier is deprecated, use Sci-Keras (https://github.com/adriangb/scikeras) instead. See https://www.adriangb.com/scikeras/stable/migration.html for help migrating.\n",
            "  nn_model = KerasClassifier(build_fn=lambda: model, epochs=epochs, verbose=0)\n",
            "<ipython-input-90-e07abeadd33c>:54: DeprecationWarning: KerasClassifier is deprecated, use Sci-Keras (https://github.com/adriangb/scikeras) instead. See https://www.adriangb.com/scikeras/stable/migration.html for help migrating.\n",
            "  nn_model = KerasClassifier(build_fn=lambda: model, epochs=epochs, verbose=0)\n",
            "<ipython-input-90-e07abeadd33c>:54: DeprecationWarning: KerasClassifier is deprecated, use Sci-Keras (https://github.com/adriangb/scikeras) instead. See https://www.adriangb.com/scikeras/stable/migration.html for help migrating.\n",
            "  nn_model = KerasClassifier(build_fn=lambda: model, epochs=epochs, verbose=0)\n",
            "<ipython-input-90-e07abeadd33c>:54: DeprecationWarning: KerasClassifier is deprecated, use Sci-Keras (https://github.com/adriangb/scikeras) instead. See https://www.adriangb.com/scikeras/stable/migration.html for help migrating.\n",
            "  nn_model = KerasClassifier(build_fn=lambda: model, epochs=epochs, verbose=0)\n",
            "<ipython-input-90-e07abeadd33c>:54: DeprecationWarning: KerasClassifier is deprecated, use Sci-Keras (https://github.com/adriangb/scikeras) instead. See https://www.adriangb.com/scikeras/stable/migration.html for help migrating.\n",
            "  nn_model = KerasClassifier(build_fn=lambda: model, epochs=epochs, verbose=0)\n",
            "<ipython-input-90-e07abeadd33c>:54: DeprecationWarning: KerasClassifier is deprecated, use Sci-Keras (https://github.com/adriangb/scikeras) instead. See https://www.adriangb.com/scikeras/stable/migration.html for help migrating.\n",
            "  nn_model = KerasClassifier(build_fn=lambda: model, epochs=epochs, verbose=0)\n",
            "<ipython-input-90-e07abeadd33c>:54: DeprecationWarning: KerasClassifier is deprecated, use Sci-Keras (https://github.com/adriangb/scikeras) instead. See https://www.adriangb.com/scikeras/stable/migration.html for help migrating.\n",
            "  nn_model = KerasClassifier(build_fn=lambda: model, epochs=epochs, verbose=0)\n",
            "<ipython-input-90-e07abeadd33c>:54: DeprecationWarning: KerasClassifier is deprecated, use Sci-Keras (https://github.com/adriangb/scikeras) instead. See https://www.adriangb.com/scikeras/stable/migration.html for help migrating.\n",
            "  nn_model = KerasClassifier(build_fn=lambda: model, epochs=epochs, verbose=0)\n",
            "<ipython-input-90-e07abeadd33c>:54: DeprecationWarning: KerasClassifier is deprecated, use Sci-Keras (https://github.com/adriangb/scikeras) instead. See https://www.adriangb.com/scikeras/stable/migration.html for help migrating.\n",
            "  nn_model = KerasClassifier(build_fn=lambda: model, epochs=epochs, verbose=0)\n"
          ]
        },
        {
          "name": "stdout",
          "output_type": "stream",
          "text": [
            "Best Training Accuray: 75.67%\n",
            "2/2 [==============================] - 0s 5ms/step\n",
            "Iteration accruacy:  0.7352941176470589 \n",
            "\n",
            "Iteration 2\n",
            "\n"
          ]
        },
        {
          "name": "stderr",
          "output_type": "stream",
          "text": [
            "<ipython-input-90-e07abeadd33c>:54: DeprecationWarning: KerasClassifier is deprecated, use Sci-Keras (https://github.com/adriangb/scikeras) instead. See https://www.adriangb.com/scikeras/stable/migration.html for help migrating.\n",
            "  nn_model = KerasClassifier(build_fn=lambda: model, epochs=epochs, verbose=0)\n",
            "<ipython-input-90-e07abeadd33c>:54: DeprecationWarning: KerasClassifier is deprecated, use Sci-Keras (https://github.com/adriangb/scikeras) instead. See https://www.adriangb.com/scikeras/stable/migration.html for help migrating.\n",
            "  nn_model = KerasClassifier(build_fn=lambda: model, epochs=epochs, verbose=0)\n",
            "<ipython-input-90-e07abeadd33c>:54: DeprecationWarning: KerasClassifier is deprecated, use Sci-Keras (https://github.com/adriangb/scikeras) instead. See https://www.adriangb.com/scikeras/stable/migration.html for help migrating.\n",
            "  nn_model = KerasClassifier(build_fn=lambda: model, epochs=epochs, verbose=0)\n",
            "<ipython-input-90-e07abeadd33c>:54: DeprecationWarning: KerasClassifier is deprecated, use Sci-Keras (https://github.com/adriangb/scikeras) instead. See https://www.adriangb.com/scikeras/stable/migration.html for help migrating.\n",
            "  nn_model = KerasClassifier(build_fn=lambda: model, epochs=epochs, verbose=0)\n",
            "<ipython-input-90-e07abeadd33c>:54: DeprecationWarning: KerasClassifier is deprecated, use Sci-Keras (https://github.com/adriangb/scikeras) instead. See https://www.adriangb.com/scikeras/stable/migration.html for help migrating.\n",
            "  nn_model = KerasClassifier(build_fn=lambda: model, epochs=epochs, verbose=0)\n",
            "<ipython-input-90-e07abeadd33c>:54: DeprecationWarning: KerasClassifier is deprecated, use Sci-Keras (https://github.com/adriangb/scikeras) instead. See https://www.adriangb.com/scikeras/stable/migration.html for help migrating.\n",
            "  nn_model = KerasClassifier(build_fn=lambda: model, epochs=epochs, verbose=0)\n",
            "<ipython-input-90-e07abeadd33c>:54: DeprecationWarning: KerasClassifier is deprecated, use Sci-Keras (https://github.com/adriangb/scikeras) instead. See https://www.adriangb.com/scikeras/stable/migration.html for help migrating.\n",
            "  nn_model = KerasClassifier(build_fn=lambda: model, epochs=epochs, verbose=0)\n",
            "<ipython-input-90-e07abeadd33c>:54: DeprecationWarning: KerasClassifier is deprecated, use Sci-Keras (https://github.com/adriangb/scikeras) instead. See https://www.adriangb.com/scikeras/stable/migration.html for help migrating.\n",
            "  nn_model = KerasClassifier(build_fn=lambda: model, epochs=epochs, verbose=0)\n",
            "<ipython-input-90-e07abeadd33c>:54: DeprecationWarning: KerasClassifier is deprecated, use Sci-Keras (https://github.com/adriangb/scikeras) instead. See https://www.adriangb.com/scikeras/stable/migration.html for help migrating.\n",
            "  nn_model = KerasClassifier(build_fn=lambda: model, epochs=epochs, verbose=0)\n",
            "<ipython-input-90-e07abeadd33c>:54: DeprecationWarning: KerasClassifier is deprecated, use Sci-Keras (https://github.com/adriangb/scikeras) instead. See https://www.adriangb.com/scikeras/stable/migration.html for help migrating.\n",
            "  nn_model = KerasClassifier(build_fn=lambda: model, epochs=epochs, verbose=0)\n"
          ]
        },
        {
          "name": "stdout",
          "output_type": "stream",
          "text": [
            "Best Training Accuray: 74.33%\n",
            "2/2 [==============================] - 0s 9ms/step\n",
            "Iteration accruacy:  0.7352941176470589 \n",
            "\n",
            "Iteration 3\n",
            "\n"
          ]
        },
        {
          "name": "stderr",
          "output_type": "stream",
          "text": [
            "<ipython-input-90-e07abeadd33c>:54: DeprecationWarning: KerasClassifier is deprecated, use Sci-Keras (https://github.com/adriangb/scikeras) instead. See https://www.adriangb.com/scikeras/stable/migration.html for help migrating.\n",
            "  nn_model = KerasClassifier(build_fn=lambda: model, epochs=epochs, verbose=0)\n",
            "<ipython-input-90-e07abeadd33c>:54: DeprecationWarning: KerasClassifier is deprecated, use Sci-Keras (https://github.com/adriangb/scikeras) instead. See https://www.adriangb.com/scikeras/stable/migration.html for help migrating.\n",
            "  nn_model = KerasClassifier(build_fn=lambda: model, epochs=epochs, verbose=0)\n",
            "<ipython-input-90-e07abeadd33c>:54: DeprecationWarning: KerasClassifier is deprecated, use Sci-Keras (https://github.com/adriangb/scikeras) instead. See https://www.adriangb.com/scikeras/stable/migration.html for help migrating.\n",
            "  nn_model = KerasClassifier(build_fn=lambda: model, epochs=epochs, verbose=0)\n",
            "<ipython-input-90-e07abeadd33c>:54: DeprecationWarning: KerasClassifier is deprecated, use Sci-Keras (https://github.com/adriangb/scikeras) instead. See https://www.adriangb.com/scikeras/stable/migration.html for help migrating.\n",
            "  nn_model = KerasClassifier(build_fn=lambda: model, epochs=epochs, verbose=0)\n",
            "<ipython-input-90-e07abeadd33c>:54: DeprecationWarning: KerasClassifier is deprecated, use Sci-Keras (https://github.com/adriangb/scikeras) instead. See https://www.adriangb.com/scikeras/stable/migration.html for help migrating.\n",
            "  nn_model = KerasClassifier(build_fn=lambda: model, epochs=epochs, verbose=0)\n",
            "<ipython-input-90-e07abeadd33c>:54: DeprecationWarning: KerasClassifier is deprecated, use Sci-Keras (https://github.com/adriangb/scikeras) instead. See https://www.adriangb.com/scikeras/stable/migration.html for help migrating.\n",
            "  nn_model = KerasClassifier(build_fn=lambda: model, epochs=epochs, verbose=0)\n",
            "<ipython-input-90-e07abeadd33c>:54: DeprecationWarning: KerasClassifier is deprecated, use Sci-Keras (https://github.com/adriangb/scikeras) instead. See https://www.adriangb.com/scikeras/stable/migration.html for help migrating.\n",
            "  nn_model = KerasClassifier(build_fn=lambda: model, epochs=epochs, verbose=0)\n",
            "<ipython-input-90-e07abeadd33c>:54: DeprecationWarning: KerasClassifier is deprecated, use Sci-Keras (https://github.com/adriangb/scikeras) instead. See https://www.adriangb.com/scikeras/stable/migration.html for help migrating.\n",
            "  nn_model = KerasClassifier(build_fn=lambda: model, epochs=epochs, verbose=0)\n",
            "<ipython-input-90-e07abeadd33c>:54: DeprecationWarning: KerasClassifier is deprecated, use Sci-Keras (https://github.com/adriangb/scikeras) instead. See https://www.adriangb.com/scikeras/stable/migration.html for help migrating.\n",
            "  nn_model = KerasClassifier(build_fn=lambda: model, epochs=epochs, verbose=0)\n",
            "<ipython-input-90-e07abeadd33c>:54: DeprecationWarning: KerasClassifier is deprecated, use Sci-Keras (https://github.com/adriangb/scikeras) instead. See https://www.adriangb.com/scikeras/stable/migration.html for help migrating.\n",
            "  nn_model = KerasClassifier(build_fn=lambda: model, epochs=epochs, verbose=0)\n"
          ]
        },
        {
          "name": "stdout",
          "output_type": "stream",
          "text": [
            "Best Training Accuray: 78.67%\n",
            "2/2 [==============================] - 0s 5ms/step\n",
            "Iteration accruacy:  0.8823529411764706 \n",
            "\n",
            "Iteration 4\n",
            "\n"
          ]
        },
        {
          "name": "stderr",
          "output_type": "stream",
          "text": [
            "<ipython-input-90-e07abeadd33c>:54: DeprecationWarning: KerasClassifier is deprecated, use Sci-Keras (https://github.com/adriangb/scikeras) instead. See https://www.adriangb.com/scikeras/stable/migration.html for help migrating.\n",
            "  nn_model = KerasClassifier(build_fn=lambda: model, epochs=epochs, verbose=0)\n",
            "<ipython-input-90-e07abeadd33c>:54: DeprecationWarning: KerasClassifier is deprecated, use Sci-Keras (https://github.com/adriangb/scikeras) instead. See https://www.adriangb.com/scikeras/stable/migration.html for help migrating.\n",
            "  nn_model = KerasClassifier(build_fn=lambda: model, epochs=epochs, verbose=0)\n",
            "<ipython-input-90-e07abeadd33c>:54: DeprecationWarning: KerasClassifier is deprecated, use Sci-Keras (https://github.com/adriangb/scikeras) instead. See https://www.adriangb.com/scikeras/stable/migration.html for help migrating.\n",
            "  nn_model = KerasClassifier(build_fn=lambda: model, epochs=epochs, verbose=0)\n",
            "<ipython-input-90-e07abeadd33c>:54: DeprecationWarning: KerasClassifier is deprecated, use Sci-Keras (https://github.com/adriangb/scikeras) instead. See https://www.adriangb.com/scikeras/stable/migration.html for help migrating.\n",
            "  nn_model = KerasClassifier(build_fn=lambda: model, epochs=epochs, verbose=0)\n",
            "<ipython-input-90-e07abeadd33c>:54: DeprecationWarning: KerasClassifier is deprecated, use Sci-Keras (https://github.com/adriangb/scikeras) instead. See https://www.adriangb.com/scikeras/stable/migration.html for help migrating.\n",
            "  nn_model = KerasClassifier(build_fn=lambda: model, epochs=epochs, verbose=0)\n",
            "<ipython-input-90-e07abeadd33c>:54: DeprecationWarning: KerasClassifier is deprecated, use Sci-Keras (https://github.com/adriangb/scikeras) instead. See https://www.adriangb.com/scikeras/stable/migration.html for help migrating.\n",
            "  nn_model = KerasClassifier(build_fn=lambda: model, epochs=epochs, verbose=0)\n",
            "<ipython-input-90-e07abeadd33c>:54: DeprecationWarning: KerasClassifier is deprecated, use Sci-Keras (https://github.com/adriangb/scikeras) instead. See https://www.adriangb.com/scikeras/stable/migration.html for help migrating.\n",
            "  nn_model = KerasClassifier(build_fn=lambda: model, epochs=epochs, verbose=0)\n",
            "<ipython-input-90-e07abeadd33c>:54: DeprecationWarning: KerasClassifier is deprecated, use Sci-Keras (https://github.com/adriangb/scikeras) instead. See https://www.adriangb.com/scikeras/stable/migration.html for help migrating.\n",
            "  nn_model = KerasClassifier(build_fn=lambda: model, epochs=epochs, verbose=0)\n",
            "<ipython-input-90-e07abeadd33c>:54: DeprecationWarning: KerasClassifier is deprecated, use Sci-Keras (https://github.com/adriangb/scikeras) instead. See https://www.adriangb.com/scikeras/stable/migration.html for help migrating.\n",
            "  nn_model = KerasClassifier(build_fn=lambda: model, epochs=epochs, verbose=0)\n",
            "<ipython-input-90-e07abeadd33c>:54: DeprecationWarning: KerasClassifier is deprecated, use Sci-Keras (https://github.com/adriangb/scikeras) instead. See https://www.adriangb.com/scikeras/stable/migration.html for help migrating.\n",
            "  nn_model = KerasClassifier(build_fn=lambda: model, epochs=epochs, verbose=0)\n"
          ]
        },
        {
          "name": "stdout",
          "output_type": "stream",
          "text": [
            "Best Training Accuray: 75.33%\n",
            "2/2 [==============================] - 0s 6ms/step\n",
            "Iteration accruacy:  0.7058823529411765 \n",
            "\n",
            "Iteration 5\n",
            "\n"
          ]
        },
        {
          "name": "stderr",
          "output_type": "stream",
          "text": [
            "<ipython-input-90-e07abeadd33c>:54: DeprecationWarning: KerasClassifier is deprecated, use Sci-Keras (https://github.com/adriangb/scikeras) instead. See https://www.adriangb.com/scikeras/stable/migration.html for help migrating.\n",
            "  nn_model = KerasClassifier(build_fn=lambda: model, epochs=epochs, verbose=0)\n",
            "<ipython-input-90-e07abeadd33c>:54: DeprecationWarning: KerasClassifier is deprecated, use Sci-Keras (https://github.com/adriangb/scikeras) instead. See https://www.adriangb.com/scikeras/stable/migration.html for help migrating.\n",
            "  nn_model = KerasClassifier(build_fn=lambda: model, epochs=epochs, verbose=0)\n",
            "<ipython-input-90-e07abeadd33c>:54: DeprecationWarning: KerasClassifier is deprecated, use Sci-Keras (https://github.com/adriangb/scikeras) instead. See https://www.adriangb.com/scikeras/stable/migration.html for help migrating.\n",
            "  nn_model = KerasClassifier(build_fn=lambda: model, epochs=epochs, verbose=0)\n",
            "<ipython-input-90-e07abeadd33c>:54: DeprecationWarning: KerasClassifier is deprecated, use Sci-Keras (https://github.com/adriangb/scikeras) instead. See https://www.adriangb.com/scikeras/stable/migration.html for help migrating.\n",
            "  nn_model = KerasClassifier(build_fn=lambda: model, epochs=epochs, verbose=0)\n",
            "<ipython-input-90-e07abeadd33c>:54: DeprecationWarning: KerasClassifier is deprecated, use Sci-Keras (https://github.com/adriangb/scikeras) instead. See https://www.adriangb.com/scikeras/stable/migration.html for help migrating.\n",
            "  nn_model = KerasClassifier(build_fn=lambda: model, epochs=epochs, verbose=0)\n",
            "<ipython-input-90-e07abeadd33c>:54: DeprecationWarning: KerasClassifier is deprecated, use Sci-Keras (https://github.com/adriangb/scikeras) instead. See https://www.adriangb.com/scikeras/stable/migration.html for help migrating.\n",
            "  nn_model = KerasClassifier(build_fn=lambda: model, epochs=epochs, verbose=0)\n",
            "<ipython-input-90-e07abeadd33c>:54: DeprecationWarning: KerasClassifier is deprecated, use Sci-Keras (https://github.com/adriangb/scikeras) instead. See https://www.adriangb.com/scikeras/stable/migration.html for help migrating.\n",
            "  nn_model = KerasClassifier(build_fn=lambda: model, epochs=epochs, verbose=0)\n",
            "<ipython-input-90-e07abeadd33c>:54: DeprecationWarning: KerasClassifier is deprecated, use Sci-Keras (https://github.com/adriangb/scikeras) instead. See https://www.adriangb.com/scikeras/stable/migration.html for help migrating.\n",
            "  nn_model = KerasClassifier(build_fn=lambda: model, epochs=epochs, verbose=0)\n",
            "<ipython-input-90-e07abeadd33c>:54: DeprecationWarning: KerasClassifier is deprecated, use Sci-Keras (https://github.com/adriangb/scikeras) instead. See https://www.adriangb.com/scikeras/stable/migration.html for help migrating.\n",
            "  nn_model = KerasClassifier(build_fn=lambda: model, epochs=epochs, verbose=0)\n",
            "<ipython-input-90-e07abeadd33c>:54: DeprecationWarning: KerasClassifier is deprecated, use Sci-Keras (https://github.com/adriangb/scikeras) instead. See https://www.adriangb.com/scikeras/stable/migration.html for help migrating.\n",
            "  nn_model = KerasClassifier(build_fn=lambda: model, epochs=epochs, verbose=0)\n"
          ]
        },
        {
          "name": "stdout",
          "output_type": "stream",
          "text": [
            "Best Training Accuray: 74.09%\n",
            "2/2 [==============================] - 0s 7ms/step\n",
            "Iteration accruacy:  0.696969696969697 \n",
            "\n",
            "Iteration 6\n",
            "\n"
          ]
        },
        {
          "name": "stderr",
          "output_type": "stream",
          "text": [
            "<ipython-input-90-e07abeadd33c>:54: DeprecationWarning: KerasClassifier is deprecated, use Sci-Keras (https://github.com/adriangb/scikeras) instead. See https://www.adriangb.com/scikeras/stable/migration.html for help migrating.\n",
            "  nn_model = KerasClassifier(build_fn=lambda: model, epochs=epochs, verbose=0)\n",
            "<ipython-input-90-e07abeadd33c>:54: DeprecationWarning: KerasClassifier is deprecated, use Sci-Keras (https://github.com/adriangb/scikeras) instead. See https://www.adriangb.com/scikeras/stable/migration.html for help migrating.\n",
            "  nn_model = KerasClassifier(build_fn=lambda: model, epochs=epochs, verbose=0)\n",
            "<ipython-input-90-e07abeadd33c>:54: DeprecationWarning: KerasClassifier is deprecated, use Sci-Keras (https://github.com/adriangb/scikeras) instead. See https://www.adriangb.com/scikeras/stable/migration.html for help migrating.\n",
            "  nn_model = KerasClassifier(build_fn=lambda: model, epochs=epochs, verbose=0)\n",
            "<ipython-input-90-e07abeadd33c>:54: DeprecationWarning: KerasClassifier is deprecated, use Sci-Keras (https://github.com/adriangb/scikeras) instead. See https://www.adriangb.com/scikeras/stable/migration.html for help migrating.\n",
            "  nn_model = KerasClassifier(build_fn=lambda: model, epochs=epochs, verbose=0)\n",
            "<ipython-input-90-e07abeadd33c>:54: DeprecationWarning: KerasClassifier is deprecated, use Sci-Keras (https://github.com/adriangb/scikeras) instead. See https://www.adriangb.com/scikeras/stable/migration.html for help migrating.\n",
            "  nn_model = KerasClassifier(build_fn=lambda: model, epochs=epochs, verbose=0)\n",
            "<ipython-input-90-e07abeadd33c>:54: DeprecationWarning: KerasClassifier is deprecated, use Sci-Keras (https://github.com/adriangb/scikeras) instead. See https://www.adriangb.com/scikeras/stable/migration.html for help migrating.\n",
            "  nn_model = KerasClassifier(build_fn=lambda: model, epochs=epochs, verbose=0)\n",
            "<ipython-input-90-e07abeadd33c>:54: DeprecationWarning: KerasClassifier is deprecated, use Sci-Keras (https://github.com/adriangb/scikeras) instead. See https://www.adriangb.com/scikeras/stable/migration.html for help migrating.\n",
            "  nn_model = KerasClassifier(build_fn=lambda: model, epochs=epochs, verbose=0)\n",
            "<ipython-input-90-e07abeadd33c>:54: DeprecationWarning: KerasClassifier is deprecated, use Sci-Keras (https://github.com/adriangb/scikeras) instead. See https://www.adriangb.com/scikeras/stable/migration.html for help migrating.\n",
            "  nn_model = KerasClassifier(build_fn=lambda: model, epochs=epochs, verbose=0)\n",
            "<ipython-input-90-e07abeadd33c>:54: DeprecationWarning: KerasClassifier is deprecated, use Sci-Keras (https://github.com/adriangb/scikeras) instead. See https://www.adriangb.com/scikeras/stable/migration.html for help migrating.\n",
            "  nn_model = KerasClassifier(build_fn=lambda: model, epochs=epochs, verbose=0)\n",
            "<ipython-input-90-e07abeadd33c>:54: DeprecationWarning: KerasClassifier is deprecated, use Sci-Keras (https://github.com/adriangb/scikeras) instead. See https://www.adriangb.com/scikeras/stable/migration.html for help migrating.\n",
            "  nn_model = KerasClassifier(build_fn=lambda: model, epochs=epochs, verbose=0)\n"
          ]
        },
        {
          "name": "stdout",
          "output_type": "stream",
          "text": [
            "Best Training Accuray: 74.09%\n",
            "2/2 [==============================] - 0s 5ms/step\n",
            "Iteration accruacy:  0.7878787878787878 \n",
            "\n",
            "Iteration 7\n",
            "\n"
          ]
        },
        {
          "name": "stderr",
          "output_type": "stream",
          "text": [
            "<ipython-input-90-e07abeadd33c>:54: DeprecationWarning: KerasClassifier is deprecated, use Sci-Keras (https://github.com/adriangb/scikeras) instead. See https://www.adriangb.com/scikeras/stable/migration.html for help migrating.\n",
            "  nn_model = KerasClassifier(build_fn=lambda: model, epochs=epochs, verbose=0)\n",
            "<ipython-input-90-e07abeadd33c>:54: DeprecationWarning: KerasClassifier is deprecated, use Sci-Keras (https://github.com/adriangb/scikeras) instead. See https://www.adriangb.com/scikeras/stable/migration.html for help migrating.\n",
            "  nn_model = KerasClassifier(build_fn=lambda: model, epochs=epochs, verbose=0)\n",
            "<ipython-input-90-e07abeadd33c>:54: DeprecationWarning: KerasClassifier is deprecated, use Sci-Keras (https://github.com/adriangb/scikeras) instead. See https://www.adriangb.com/scikeras/stable/migration.html for help migrating.\n",
            "  nn_model = KerasClassifier(build_fn=lambda: model, epochs=epochs, verbose=0)\n",
            "<ipython-input-90-e07abeadd33c>:54: DeprecationWarning: KerasClassifier is deprecated, use Sci-Keras (https://github.com/adriangb/scikeras) instead. See https://www.adriangb.com/scikeras/stable/migration.html for help migrating.\n",
            "  nn_model = KerasClassifier(build_fn=lambda: model, epochs=epochs, verbose=0)\n",
            "<ipython-input-90-e07abeadd33c>:54: DeprecationWarning: KerasClassifier is deprecated, use Sci-Keras (https://github.com/adriangb/scikeras) instead. See https://www.adriangb.com/scikeras/stable/migration.html for help migrating.\n",
            "  nn_model = KerasClassifier(build_fn=lambda: model, epochs=epochs, verbose=0)\n",
            "<ipython-input-90-e07abeadd33c>:54: DeprecationWarning: KerasClassifier is deprecated, use Sci-Keras (https://github.com/adriangb/scikeras) instead. See https://www.adriangb.com/scikeras/stable/migration.html for help migrating.\n",
            "  nn_model = KerasClassifier(build_fn=lambda: model, epochs=epochs, verbose=0)\n",
            "<ipython-input-90-e07abeadd33c>:54: DeprecationWarning: KerasClassifier is deprecated, use Sci-Keras (https://github.com/adriangb/scikeras) instead. See https://www.adriangb.com/scikeras/stable/migration.html for help migrating.\n",
            "  nn_model = KerasClassifier(build_fn=lambda: model, epochs=epochs, verbose=0)\n",
            "<ipython-input-90-e07abeadd33c>:54: DeprecationWarning: KerasClassifier is deprecated, use Sci-Keras (https://github.com/adriangb/scikeras) instead. See https://www.adriangb.com/scikeras/stable/migration.html for help migrating.\n",
            "  nn_model = KerasClassifier(build_fn=lambda: model, epochs=epochs, verbose=0)\n",
            "<ipython-input-90-e07abeadd33c>:54: DeprecationWarning: KerasClassifier is deprecated, use Sci-Keras (https://github.com/adriangb/scikeras) instead. See https://www.adriangb.com/scikeras/stable/migration.html for help migrating.\n",
            "  nn_model = KerasClassifier(build_fn=lambda: model, epochs=epochs, verbose=0)\n",
            "<ipython-input-90-e07abeadd33c>:54: DeprecationWarning: KerasClassifier is deprecated, use Sci-Keras (https://github.com/adriangb/scikeras) instead. See https://www.adriangb.com/scikeras/stable/migration.html for help migrating.\n",
            "  nn_model = KerasClassifier(build_fn=lambda: model, epochs=epochs, verbose=0)\n"
          ]
        },
        {
          "name": "stdout",
          "output_type": "stream",
          "text": [
            "Best Training Accuray: 76.08%\n",
            "2/2 [==============================] - 0s 6ms/step\n",
            "Iteration accruacy:  0.696969696969697 \n",
            "\n",
            "Iteration 8\n",
            "\n"
          ]
        },
        {
          "name": "stderr",
          "output_type": "stream",
          "text": [
            "<ipython-input-90-e07abeadd33c>:54: DeprecationWarning: KerasClassifier is deprecated, use Sci-Keras (https://github.com/adriangb/scikeras) instead. See https://www.adriangb.com/scikeras/stable/migration.html for help migrating.\n",
            "  nn_model = KerasClassifier(build_fn=lambda: model, epochs=epochs, verbose=0)\n",
            "<ipython-input-90-e07abeadd33c>:54: DeprecationWarning: KerasClassifier is deprecated, use Sci-Keras (https://github.com/adriangb/scikeras) instead. See https://www.adriangb.com/scikeras/stable/migration.html for help migrating.\n",
            "  nn_model = KerasClassifier(build_fn=lambda: model, epochs=epochs, verbose=0)\n",
            "<ipython-input-90-e07abeadd33c>:54: DeprecationWarning: KerasClassifier is deprecated, use Sci-Keras (https://github.com/adriangb/scikeras) instead. See https://www.adriangb.com/scikeras/stable/migration.html for help migrating.\n",
            "  nn_model = KerasClassifier(build_fn=lambda: model, epochs=epochs, verbose=0)\n",
            "<ipython-input-90-e07abeadd33c>:54: DeprecationWarning: KerasClassifier is deprecated, use Sci-Keras (https://github.com/adriangb/scikeras) instead. See https://www.adriangb.com/scikeras/stable/migration.html for help migrating.\n",
            "  nn_model = KerasClassifier(build_fn=lambda: model, epochs=epochs, verbose=0)\n",
            "<ipython-input-90-e07abeadd33c>:54: DeprecationWarning: KerasClassifier is deprecated, use Sci-Keras (https://github.com/adriangb/scikeras) instead. See https://www.adriangb.com/scikeras/stable/migration.html for help migrating.\n",
            "  nn_model = KerasClassifier(build_fn=lambda: model, epochs=epochs, verbose=0)\n",
            "<ipython-input-90-e07abeadd33c>:54: DeprecationWarning: KerasClassifier is deprecated, use Sci-Keras (https://github.com/adriangb/scikeras) instead. See https://www.adriangb.com/scikeras/stable/migration.html for help migrating.\n",
            "  nn_model = KerasClassifier(build_fn=lambda: model, epochs=epochs, verbose=0)\n",
            "<ipython-input-90-e07abeadd33c>:54: DeprecationWarning: KerasClassifier is deprecated, use Sci-Keras (https://github.com/adriangb/scikeras) instead. See https://www.adriangb.com/scikeras/stable/migration.html for help migrating.\n",
            "  nn_model = KerasClassifier(build_fn=lambda: model, epochs=epochs, verbose=0)\n",
            "<ipython-input-90-e07abeadd33c>:54: DeprecationWarning: KerasClassifier is deprecated, use Sci-Keras (https://github.com/adriangb/scikeras) instead. See https://www.adriangb.com/scikeras/stable/migration.html for help migrating.\n",
            "  nn_model = KerasClassifier(build_fn=lambda: model, epochs=epochs, verbose=0)\n",
            "<ipython-input-90-e07abeadd33c>:54: DeprecationWarning: KerasClassifier is deprecated, use Sci-Keras (https://github.com/adriangb/scikeras) instead. See https://www.adriangb.com/scikeras/stable/migration.html for help migrating.\n",
            "  nn_model = KerasClassifier(build_fn=lambda: model, epochs=epochs, verbose=0)\n",
            "<ipython-input-90-e07abeadd33c>:54: DeprecationWarning: KerasClassifier is deprecated, use Sci-Keras (https://github.com/adriangb/scikeras) instead. See https://www.adriangb.com/scikeras/stable/migration.html for help migrating.\n",
            "  nn_model = KerasClassifier(build_fn=lambda: model, epochs=epochs, verbose=0)\n"
          ]
        },
        {
          "name": "stdout",
          "output_type": "stream",
          "text": [
            "Best Training Accuray: 75.42%\n",
            "2/2 [==============================] - 0s 6ms/step\n",
            "Iteration accruacy:  0.7272727272727273 \n",
            "\n",
            "Iteration 9\n",
            "\n"
          ]
        },
        {
          "name": "stderr",
          "output_type": "stream",
          "text": [
            "<ipython-input-90-e07abeadd33c>:54: DeprecationWarning: KerasClassifier is deprecated, use Sci-Keras (https://github.com/adriangb/scikeras) instead. See https://www.adriangb.com/scikeras/stable/migration.html for help migrating.\n",
            "  nn_model = KerasClassifier(build_fn=lambda: model, epochs=epochs, verbose=0)\n",
            "<ipython-input-90-e07abeadd33c>:54: DeprecationWarning: KerasClassifier is deprecated, use Sci-Keras (https://github.com/adriangb/scikeras) instead. See https://www.adriangb.com/scikeras/stable/migration.html for help migrating.\n",
            "  nn_model = KerasClassifier(build_fn=lambda: model, epochs=epochs, verbose=0)\n",
            "<ipython-input-90-e07abeadd33c>:54: DeprecationWarning: KerasClassifier is deprecated, use Sci-Keras (https://github.com/adriangb/scikeras) instead. See https://www.adriangb.com/scikeras/stable/migration.html for help migrating.\n",
            "  nn_model = KerasClassifier(build_fn=lambda: model, epochs=epochs, verbose=0)\n",
            "<ipython-input-90-e07abeadd33c>:54: DeprecationWarning: KerasClassifier is deprecated, use Sci-Keras (https://github.com/adriangb/scikeras) instead. See https://www.adriangb.com/scikeras/stable/migration.html for help migrating.\n",
            "  nn_model = KerasClassifier(build_fn=lambda: model, epochs=epochs, verbose=0)\n",
            "<ipython-input-90-e07abeadd33c>:54: DeprecationWarning: KerasClassifier is deprecated, use Sci-Keras (https://github.com/adriangb/scikeras) instead. See https://www.adriangb.com/scikeras/stable/migration.html for help migrating.\n",
            "  nn_model = KerasClassifier(build_fn=lambda: model, epochs=epochs, verbose=0)\n",
            "<ipython-input-90-e07abeadd33c>:54: DeprecationWarning: KerasClassifier is deprecated, use Sci-Keras (https://github.com/adriangb/scikeras) instead. See https://www.adriangb.com/scikeras/stable/migration.html for help migrating.\n",
            "  nn_model = KerasClassifier(build_fn=lambda: model, epochs=epochs, verbose=0)\n",
            "<ipython-input-90-e07abeadd33c>:54: DeprecationWarning: KerasClassifier is deprecated, use Sci-Keras (https://github.com/adriangb/scikeras) instead. See https://www.adriangb.com/scikeras/stable/migration.html for help migrating.\n",
            "  nn_model = KerasClassifier(build_fn=lambda: model, epochs=epochs, verbose=0)\n",
            "<ipython-input-90-e07abeadd33c>:54: DeprecationWarning: KerasClassifier is deprecated, use Sci-Keras (https://github.com/adriangb/scikeras) instead. See https://www.adriangb.com/scikeras/stable/migration.html for help migrating.\n",
            "  nn_model = KerasClassifier(build_fn=lambda: model, epochs=epochs, verbose=0)\n",
            "<ipython-input-90-e07abeadd33c>:54: DeprecationWarning: KerasClassifier is deprecated, use Sci-Keras (https://github.com/adriangb/scikeras) instead. See https://www.adriangb.com/scikeras/stable/migration.html for help migrating.\n",
            "  nn_model = KerasClassifier(build_fn=lambda: model, epochs=epochs, verbose=0)\n",
            "<ipython-input-90-e07abeadd33c>:54: DeprecationWarning: KerasClassifier is deprecated, use Sci-Keras (https://github.com/adriangb/scikeras) instead. See https://www.adriangb.com/scikeras/stable/migration.html for help migrating.\n",
            "  nn_model = KerasClassifier(build_fn=lambda: model, epochs=epochs, verbose=0)\n"
          ]
        },
        {
          "name": "stdout",
          "output_type": "stream",
          "text": [
            "Best Training Accuray: 74.42%\n",
            "2/2 [==============================] - 0s 5ms/step\n",
            "Iteration accruacy:  0.7575757575757576 \n",
            "\n",
            "Iteration 10\n",
            "\n"
          ]
        },
        {
          "name": "stderr",
          "output_type": "stream",
          "text": [
            "<ipython-input-90-e07abeadd33c>:54: DeprecationWarning: KerasClassifier is deprecated, use Sci-Keras (https://github.com/adriangb/scikeras) instead. See https://www.adriangb.com/scikeras/stable/migration.html for help migrating.\n",
            "  nn_model = KerasClassifier(build_fn=lambda: model, epochs=epochs, verbose=0)\n",
            "<ipython-input-90-e07abeadd33c>:54: DeprecationWarning: KerasClassifier is deprecated, use Sci-Keras (https://github.com/adriangb/scikeras) instead. See https://www.adriangb.com/scikeras/stable/migration.html for help migrating.\n",
            "  nn_model = KerasClassifier(build_fn=lambda: model, epochs=epochs, verbose=0)\n",
            "<ipython-input-90-e07abeadd33c>:54: DeprecationWarning: KerasClassifier is deprecated, use Sci-Keras (https://github.com/adriangb/scikeras) instead. See https://www.adriangb.com/scikeras/stable/migration.html for help migrating.\n",
            "  nn_model = KerasClassifier(build_fn=lambda: model, epochs=epochs, verbose=0)\n",
            "<ipython-input-90-e07abeadd33c>:54: DeprecationWarning: KerasClassifier is deprecated, use Sci-Keras (https://github.com/adriangb/scikeras) instead. See https://www.adriangb.com/scikeras/stable/migration.html for help migrating.\n",
            "  nn_model = KerasClassifier(build_fn=lambda: model, epochs=epochs, verbose=0)\n",
            "<ipython-input-90-e07abeadd33c>:54: DeprecationWarning: KerasClassifier is deprecated, use Sci-Keras (https://github.com/adriangb/scikeras) instead. See https://www.adriangb.com/scikeras/stable/migration.html for help migrating.\n",
            "  nn_model = KerasClassifier(build_fn=lambda: model, epochs=epochs, verbose=0)\n",
            "<ipython-input-90-e07abeadd33c>:54: DeprecationWarning: KerasClassifier is deprecated, use Sci-Keras (https://github.com/adriangb/scikeras) instead. See https://www.adriangb.com/scikeras/stable/migration.html for help migrating.\n",
            "  nn_model = KerasClassifier(build_fn=lambda: model, epochs=epochs, verbose=0)\n",
            "<ipython-input-90-e07abeadd33c>:54: DeprecationWarning: KerasClassifier is deprecated, use Sci-Keras (https://github.com/adriangb/scikeras) instead. See https://www.adriangb.com/scikeras/stable/migration.html for help migrating.\n",
            "  nn_model = KerasClassifier(build_fn=lambda: model, epochs=epochs, verbose=0)\n",
            "<ipython-input-90-e07abeadd33c>:54: DeprecationWarning: KerasClassifier is deprecated, use Sci-Keras (https://github.com/adriangb/scikeras) instead. See https://www.adriangb.com/scikeras/stable/migration.html for help migrating.\n",
            "  nn_model = KerasClassifier(build_fn=lambda: model, epochs=epochs, verbose=0)\n",
            "<ipython-input-90-e07abeadd33c>:54: DeprecationWarning: KerasClassifier is deprecated, use Sci-Keras (https://github.com/adriangb/scikeras) instead. See https://www.adriangb.com/scikeras/stable/migration.html for help migrating.\n",
            "  nn_model = KerasClassifier(build_fn=lambda: model, epochs=epochs, verbose=0)\n",
            "<ipython-input-90-e07abeadd33c>:54: DeprecationWarning: KerasClassifier is deprecated, use Sci-Keras (https://github.com/adriangb/scikeras) instead. See https://www.adriangb.com/scikeras/stable/migration.html for help migrating.\n",
            "  nn_model = KerasClassifier(build_fn=lambda: model, epochs=epochs, verbose=0)\n"
          ]
        },
        {
          "name": "stdout",
          "output_type": "stream",
          "text": [
            "Best Training Accuray: 75.42%\n",
            "2/2 [==============================] - 0s 5ms/step\n",
            "Iteration accruacy:  0.6666666666666666 \n",
            "\n",
            "Model Accuray: 63.47%\n",
            "Model AUC_ROC: 0.6003\n"
          ]
        }
      ],
      "source": [
        "from sklearn.model_selection import KFold\n",
        "kfold = KFold(n_splits=10, shuffle=True, random_state=42)\n",
        "y_true, y_pred1 = [], []\n",
        "n = 1\n",
        "for train_indexes, test_indexes in kfold.split(X):\n",
        "  X_train1, X_test1 = [X[i] for i in train_indexes], [X[i] for i in test_indexes]\n",
        "  y_train1, y_test1 = [Y[i] for i in train_indexes], [Y[i] for i in test_indexes]\n",
        "  print(f\"Iteration {n}\\n\")\n",
        "  #print('Train: ', X_train1, '\\n')\n",
        "  #print('Test: ', X_test1, '\\n')\n",
        "  #3 Create model and repeat training for optimal score\n",
        "  acc_nn_tr = 0\n",
        "  acc_nn_tr = 0\n",
        "  for _ in range(10):\n",
        "    model = make_pipeline(StandardScaler(), build_nn_model(1,16,0.001,10))\n",
        "    model.fit(X_train,y_train)\n",
        "    acc_nn_tr1 = model.score(X_train1, y_train1)\n",
        "    if acc_nn_tr1>acc_nn_tr:\n",
        "      acc_nn_tr = acc_nn_tr1\n",
        "      model_result = model\n",
        "  print(\"Best Training Accuray: {:.2f}%\".format(100*acc_nn_tr))\n",
        "  yhat = model_result.predict(X_test1)\n",
        "  #6 Calculate and store\n",
        "  acc = accuracy_score(y_test1, yhat)\n",
        "  #print('True y: ', y_test1, '\\n')\n",
        "  #print('Estimated y: ', yhat, '\\n')\n",
        "  print('Iteration accruacy: ', accuracy_score(y_test1, yhat), '\\n')\n",
        "  # store\n",
        "  y_true.append(y_test1)\n",
        "  y_pred1.append(yhat)\n",
        "  n+=1\n",
        "# Check results\n",
        "#print('True y all: ', y_true, '\\n')\n",
        "#print('Estimated y all: ', y_pred1, '\\n')\n",
        "y_true = np.concatenate(y_true)\n",
        "y_pred1 = np.concatenate(y_pred1)\n",
        "#print('True y all: ', y_true, '\\n')\n",
        "#print('Estimated y all: ', y_pred1, '\\n')\n",
        "#print('Prediction size: ', y_pred1.shape, '\\n')\n",
        "# calculate\n",
        "acc_nn_k = accuracy_score(y_true, y_pred1)\n",
        "auc_nn_k = roc_auc_score(y_true, y_pred1)\n",
        "print(\"Model Accuray: {:.2f}%\".format(100*acc_b_k))\n",
        "print(\"Model AUC_ROC: {:.4f}\".format(auc_b_k))"
      ]
    },
    {
      "cell_type": "markdown",
      "metadata": {
        "id": "UHt0buco3g9M"
      },
      "source": [
        "Finding: the training and testing accuracy are the closest."
      ]
    },
    {
      "cell_type": "markdown",
      "metadata": {
        "id": "FF0_rdXbLZOw"
      },
      "source": [
        "## Results Display"
      ]
    },
    {
      "cell_type": "code",
      "execution_count": null,
      "metadata": {
        "colab": {
          "base_uri": "https://localhost:8080/",
          "height": 544
        },
        "id": "oirVx-ulc9Yq",
        "outputId": "b5fdea3d-660d-4808-ff94-de0a8e8b5054"
      },
      "outputs": [
        {
          "name": "stderr",
          "output_type": "stream",
          "text": [
            "WARNING:matplotlib.legend:No artists with labels found to put in legend.  Note that artists whose label start with an underscore are ignored when legend() is called with no argument.\n"
          ]
        },
        {
          "name": "stdout",
          "output_type": "stream",
          "text": [
            "<class 'numpy.ndarray'>\n"
          ]
        },
        {
          "data": {
            "image/png": "[encoded data removed]",
            "text/plain": [
              "<Figure size 1000x500 with 1 Axes>"
            ]
          },
          "metadata": {},
          "output_type": "display_data"
        }
      ],
      "source": [
        "## Display all results from different classifiers in one chart.\n",
        "data = np.array([acc_lr_tr, acc_lr_v, auc_lr_v, acc_lr_k, auc_lr_k, acc_lr_lolo, auc_lr_lolo,\n",
        "           acc_xg_tr, acc_xg_v, auc_xg_v, acc_xg_k, auc_xg_k, acc_xg_lolo, auc_xg_lolo,\n",
        "            acc_gb_tr, acc_gb, auc_gb, acc_gb_k, auc_gb_k, acc_gb_lolo, auc_gb_lolo,\n",
        "             acc_nn_tr, acc_nn, auc_nn, acc_nn_k, auc_nn_k, acc_nn_lolo, auc_nn_lolo,\n",
        "              acc_svm_tr, acc_svm_v, auc_svm_v, acc_svm_k, auc_svm_lolo, acc_svm_lolo, auc_svm_lolo,\n",
        "               acc_b_tr, acc_b, auc_b, acc_b_k, auc_b_k, acc_b_lolo, auc_b_lolo,]).reshape(-1, 1)\n",
        "print(type(data))\n",
        "plt.figure(figsize=(10,5))\n",
        "\n",
        "# Define the labels for the data\n",
        "#labels = ['1', '2', '3', '4', '5', '6', '7']\n",
        "labels = np.linspace(0, 6*7, num=6*7)\n",
        "# Plot the data as a bar chart and assign the labels to the bars\n",
        "colors = ['r','r','r','r','r','r','r',\n",
        "       'y','y','y','y','y','y','y',\n",
        "        'g','g','g','g','g','g','g',\n",
        "         'b','b','b','b','b','b','b',\n",
        "          'm','m','m','m','m','m','m',\n",
        "          'c','c','c','c','c','c','c']\n",
        "for i in range(len(data)):\n",
        "  plt.barh(labels[i], data[i], color=colors[i])#label=names[i],\n",
        "# Add a legend to the plot\n",
        "plt.legend()\n",
        "# Set the x-axis ticks and labels\n",
        "\n",
        "# Set the y-axis label\n",
        "#plt.ylim(0.212,0.218)\n",
        "plt.xlabel('Scores: Tr_acc, T_acc, T_auc, K_T_acc, K_T_auc, LOCO_T_acc, LOCO_T_auc')#,size=16\n",
        "plt.ylabel('Different ML models: lr, xg, gb, nn, svm, baye\\'s')#,size=16\n",
        "plt.title(\"Preliminary comparison of 6 ML models with 3 testing methods\")#(Scores:Tr_acc, T_acc, T_auc, K_T_acc, K_T_auc, LOCO_T_acc, LOCO T_auc;\\n Different ML models: xg, lr, nn, svm, baye\\'s)\n",
        "#plt.xticks()\n",
        "#plt.yticks()\n",
        "plt.grid()\n",
        "\n",
        "# Show the plot\n",
        "plt.show()"
      ]
    }
  ],
  "metadata": {
    "colab": {
      "collapsed_sections": [
        "1aN7108gPYrz",
        "oVXqYWn4NDSK",
        "Z8wOltXAMfv4",
        "GC3LPIDnNMYW",
        "gO-R6LQcbQl7",
        "up138Jh8gIlC",
        "3PPlzHb6cB1_",
        "8HtuoEWVbTYn",
        "vBSyZbrZ3g8k",
        "rT37Rye0t1g7",
        "KA61kVYq_uop",
        "q268cbBmBpLi",
        "09i6oQHW_39m",
        "pErCkxeG3g9L"
      ],
      "provenance": [],
      "authorship_tag": "ABX9TyOl+J6j/+wA12X5ImoYBRcJ",
      "include_colab_link": true
    },
    "kernelspec": {
      "display_name": "Python 3",
      "name": "python3"
    },
    "language_info": {
      "name": "python"
    }
  },
  "nbformat": 4,
  "nbformat_minor": 0
}