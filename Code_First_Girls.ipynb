{
  "nbformat": 4,
  "nbformat_minor": 0,
  "metadata": {
    "colab": {
      "provenance": [],
      "include_colab_link": true
    },
    "kernelspec": {
      "name": "python3",
      "display_name": "Python 3"
    },
    "language_info": {
      "name": "python"
    }
  },
  "cells": [
    {
      "cell_type": "markdown",
      "metadata": {
        "id": "view-in-github",
        "colab_type": "text"
      },
      "source": [
        "<a href=\"https://colab.research.google.com/github/katha815/ADME-Classifier/blob/main/Code_First_Girls.ipynb\" target=\"_parent\"><img src=\"https://colab.research.google.com/assets/colab-badge.svg\" alt=\"Open In Colab\"/></a>"
      ]
    },
    {
      "cell_type": "markdown",
      "source": [
        "1. Read the Edamam API documentation ★\n",
        "https://developer.edamam.com/edamam-docs-recipe-api\n",
        "2. Ask the user to enter an ingredient that they want to search for\n",
        "3. Create a function that makes a request to the Edamam API with the required ingredient as part of the search query (also included your Application ID and Application Key\n",
        "4. Get the returned recipes from the API response\n",
        "5. Display the recipes for each search result\n"
      ],
      "metadata": {
        "id": "9zHHfOME00jY"
      }
    },
    {
      "cell_type": "code",
      "execution_count": null,
      "metadata": {
        "id": "IlhZzZZRyDRQ"
      },
      "outputs": [],
      "source": [
        "\n"
      ]
    },
    {
      "cell_type": "markdown",
      "source": [
        "25/07/24 Updates:"
      ],
      "metadata": {
        "id": "Tv05jUiV-i9C"
      }
    },
    {
      "cell_type": "code",
      "source": [],
      "metadata": {
        "id": "dzTjsYv6-lqq"
      },
      "execution_count": null,
      "outputs": []
    }
  ]
}