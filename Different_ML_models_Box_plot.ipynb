{
  "cells": [
    {
      "cell_type": "markdown",
      "metadata": {
        "id": "view-in-github",
        "colab_type": "text"
      },
      "source": [
        "<a href=\"https://colab.research.google.com/github/katha815/ADME-Classifier/blob/main/Different_ML_models_Box_plot.ipynb\" target=\"_parent\"><img src=\"https://colab.research.google.com/assets/colab-badge.svg\" alt=\"Open In Colab\"/></a>"
      ]
    },
    {
      "cell_type": "markdown",
      "metadata": {
        "id": "SOXIFx7Ua5RB"
      },
      "source": [
        "## Initialization\n",
        "Feature groups: (1)6 phastCons scores, (2)6 phyloP scores, (3)vepDistance, (4){A-C,A-G,A-T,C-A,...}categorical input, (5)Ensemble search consequence , (6)corresponding SIFT and Polyphen scores, (7) popoulation frequencies."
      ]
    },
    {
      "cell_type": "code",
      "execution_count": null,
      "metadata": {
        "colab": {
          "base_uri": "https://localhost:8080/"
        },
        "id": "8_IRjAP0bgCL",
        "outputId": "db3f0acb-d4f7-4ff8-9159-8945178e2044"
      },
      "outputs": [
        {
          "output_type": "stream",
          "name": "stdout",
          "text": [
            "Drive already mounted at /content/gdrive; to attempt to forcibly remount, call drive.mount(\"/content/gdrive\", force_remount=True).\n",
            "Requirement already satisfied: scikit-optimize in /usr/local/lib/python3.10/dist-packages (0.9.0)\n",
            "Requirement already satisfied: joblib>=0.11 in /usr/local/lib/python3.10/dist-packages (from scikit-optimize) (1.3.2)\n",
            "Requirement already satisfied: pyaml>=16.9 in /usr/local/lib/python3.10/dist-packages (from scikit-optimize) (23.7.0)\n",
            "Requirement already satisfied: numpy>=1.13.3 in /usr/local/lib/python3.10/dist-packages (from scikit-optimize) (1.23.5)\n",
            "Requirement already satisfied: scipy>=0.19.1 in /usr/local/lib/python3.10/dist-packages (from scikit-optimize) (1.10.1)\n",
            "Requirement already satisfied: scikit-learn>=0.20.0 in /usr/local/lib/python3.10/dist-packages (from scikit-optimize) (1.2.2)\n",
            "Requirement already satisfied: PyYAML in /usr/local/lib/python3.10/dist-packages (from pyaml>=16.9->scikit-optimize) (6.0.1)\n",
            "Requirement already satisfied: threadpoolctl>=2.0.0 in /usr/local/lib/python3.10/dist-packages (from scikit-learn>=0.20.0->scikit-optimize) (3.2.0)\n"
          ]
        }
      ],
      "source": [
        "from google.colab import drive\n",
        "drive.mount('/content/gdrive')\n",
        "import numpy as np\n",
        "import pandas as pd\n",
        "import sklearn\n",
        "from sklearn.model_selection import train_test_split\n",
        "from sklearn.metrics import mean_squared_error\n",
        "import xgboost as xgb\n",
        "from xgboost import XGBClassifier, plot_tree\n",
        "from sklearn.metrics import accuracy_score\n",
        "from sklearn.metrics import roc_auc_score\n",
        "import matplotlib.pyplot as plt\n",
        "from sklearn.tree import export_graphviz\n",
        "!pip install scikit-optimize\n",
        "import skopt\n",
        "from skopt import BayesSearchCV\n",
        "from sklearn.model_selection import PredefinedSplit\n",
        "from sklearn.preprocessing import StandardScaler\n",
        "from sklearn.pipeline import make_pipeline\n",
        "from skopt.space import Real, Categorical, Integer"
      ]
    },
    {
      "cell_type": "code",
      "execution_count": null,
      "metadata": {
        "colab": {
          "base_uri": "https://localhost:8080/"
        },
        "id": "SQwQ8RmH19Hc",
        "outputId": "96b6a11e-d3db-4b29-fd7f-7416248acc6a"
      },
      "outputs": [
        {
          "output_type": "stream",
          "name": "stdout",
          "text": [
            "Requirement already satisfied: numba in /usr/local/lib/python3.10/dist-packages (0.56.4)\n",
            "Requirement already satisfied: llvmlite<0.40,>=0.39.0dev0 in /usr/local/lib/python3.10/dist-packages (from numba) (0.39.1)\n",
            "Requirement already satisfied: numpy<1.24,>=1.18 in /usr/local/lib/python3.10/dist-packages (from numba) (1.23.5)\n",
            "Requirement already satisfied: setuptools in /usr/local/lib/python3.10/dist-packages (from numba) (67.7.2)\n",
            "/usr/local/lib/python3.10/dist-packages/jaxlib/cuda/nvvm/libdevice\n",
            "/usr/local/cuda-11.8/nvvm/libdevice\n",
            "find: ‘/proc/61/task/61/net’: Invalid argument\n",
            "find: ‘/proc/61/net’: Invalid argument\n",
            "/usr/local/cuda-11.8/nvvm/lib64/libnvvm.so\n",
            "find: ‘/proc/61/task/61/net’: Invalid argument\n",
            "find: ‘/proc/61/net’: Invalid argument\n"
          ]
        }
      ],
      "source": [
        "!pip install numba\n",
        "!find / -iname 'libdevice'\n",
        "!find / -iname 'libnvvm.so'"
      ]
    },
    {
      "cell_type": "code",
      "execution_count": null,
      "metadata": {
        "id": "GuJ6rc9T2LCc"
      },
      "outputs": [],
      "source": [
        "import math\n",
        "from numba import jit, njit, vectorize, cuda, uint32, f8, uint8"
      ]
    },
    {
      "cell_type": "code",
      "source": [
        "base = \"/content/gdrive/My Drive/Colab Notebooks/ADME Project/\""
      ],
      "metadata": {
        "id": "gt1Jymdwyz-O"
      },
      "execution_count": null,
      "outputs": []
    },
    {
      "cell_type": "markdown",
      "metadata": {
        "id": "oVXqYWn4NDSK"
      },
      "source": [
        "## Data loading and testing/training split preparation"
      ]
    },
    {
      "cell_type": "markdown",
      "source": [
        "###Odata"
      ],
      "metadata": {
        "id": "1C98Ee9djeX4"
      }
    },
    {
      "cell_type": "code",
      "execution_count": null,
      "metadata": {
        "colab": {
          "base_uri": "https://localhost:8080/"
        },
        "id": "_m--1Phdw-lP",
        "outputId": "c197811b-1a64-4e9f-c9c6-9cbc9f2ce34d"
      },
      "outputs": [
        {
          "output_type": "stream",
          "name": "stdout",
          "text": [
            "Whole data:     Chromo  Location1  Location2 Ref Alter  Label  chr  transcript_ablation  \\\n",
            "0     chr1   46930150   46930150   C     T      1    1                    0   \n",
            "1     chr1   46930161   46930161   G     A      1    1                    0   \n",
            "2     chr1   46932824   46932824   T     C      1    1                    0   \n",
            "3     chr1   46932987   46932987   C     T      1    1                    0   \n",
            "4     chr1   46934207   46934207   A     G      0    1                    0   \n",
            "..     ...        ...        ...  ..   ...    ...  ...                  ...   \n",
            "329  chr22   42129836   42129836   C     T      0   22                    0   \n",
            "330  chr22   42130692   42130692   C     T      1   22                    0   \n",
            "331  chr22   42130710   42130710   C     T      0   22                    0   \n",
            "332  chr22   42130715   42130715   G     A      1   22                    0   \n",
            "333  chr22   42130761   42130761   G     A      1   22                    0   \n",
            "\n",
            "     splice_acceptor_variant  splice_donor_variant  ...  A/T  C/A  C/G  C/T  \\\n",
            "0                          0                     0  ...    0    0    0    1   \n",
            "1                          0                     0  ...    0    0    0    0   \n",
            "2                          0                     0  ...    0    0    0    0   \n",
            "3                          0                     0  ...    0    0    0    1   \n",
            "4                          0                     0  ...    0    0    0    0   \n",
            "..                       ...                   ...  ...  ...  ...  ...  ...   \n",
            "329                        0                     0  ...    0    0    0    1   \n",
            "330                        0                     0  ...    0    0    0    1   \n",
            "331                        0                     0  ...    0    0    0    1   \n",
            "332                        0                     0  ...    0    0    0    0   \n",
            "333                        0                     0  ...    0    0    0    0   \n",
            "\n",
            "     G/A  G/C  G/T  T/A  T/C  T/G  \n",
            "0      0    0    0    0    0    0  \n",
            "1      1    0    0    0    0    0  \n",
            "2      0    0    0    0    1    0  \n",
            "3      0    0    0    0    0    0  \n",
            "4      0    0    0    0    0    0  \n",
            "..   ...  ...  ...  ...  ...  ...  \n",
            "329    0    0    0    0    0    0  \n",
            "330    0    0    0    0    0    0  \n",
            "331    0    0    0    0    0    0  \n",
            "332    1    0    0    0    0    0  \n",
            "333    1    0    0    0    0    0  \n",
            "\n",
            "[334 rows x 100 columns]\n",
            "\n",
            "    Chromo  transcript_ablation  splice_acceptor_variant  \\\n",
            "0     chr1                    0                        0   \n",
            "1     chr1                    0                        0   \n",
            "2     chr1                    0                        0   \n",
            "3     chr1                    0                        0   \n",
            "4     chr1                    0                        0   \n",
            "..     ...                  ...                      ...   \n",
            "329  chr22                    0                        0   \n",
            "330  chr22                    0                        0   \n",
            "331  chr22                    0                        0   \n",
            "332  chr22                    0                        0   \n",
            "333  chr22                    0                        0   \n",
            "\n",
            "     splice_donor_variant  stop_gained  frameshift_variant  stop_lost  \\\n",
            "0                       0            0                   0          0   \n",
            "1                       0            0                   0          0   \n",
            "2                       0            0                   0          0   \n",
            "3                       0            0                   0          0   \n",
            "4                       0            0                   0          0   \n",
            "..                    ...          ...                 ...        ...   \n",
            "329                     0            0                   0          0   \n",
            "330                     0            0                   0          0   \n",
            "331                     0            0                   0          0   \n",
            "332                     0            0                   0          0   \n",
            "333                     0            0                   0          0   \n",
            "\n",
            "     start_lost  transcript_amplification  feature_elongation  ...  A/T  C/A  \\\n",
            "0             0                         0                   0  ...    0    0   \n",
            "1             0                         0                   0  ...    0    0   \n",
            "2             0                         0                   0  ...    0    0   \n",
            "3             0                         0                   0  ...    0    0   \n",
            "4             0                         0                   0  ...    0    0   \n",
            "..          ...                       ...                 ...  ...  ...  ...   \n",
            "329           0                         0                   0  ...    0    0   \n",
            "330           0                         0                   0  ...    0    0   \n",
            "331           0                         0                   0  ...    0    0   \n",
            "332           0                         0                   0  ...    0    0   \n",
            "333           0                         0                   0  ...    0    0   \n",
            "\n",
            "     C/G  C/T  G/A  G/C  G/T  T/A  T/C  T/G  \n",
            "0      0    1    0    0    0    0    0    0  \n",
            "1      0    0    1    0    0    0    0    0  \n",
            "2      0    0    0    0    0    0    1    0  \n",
            "3      0    1    0    0    0    0    0    0  \n",
            "4      0    0    0    0    0    0    0    0  \n",
            "..   ...  ...  ...  ...  ...  ...  ...  ...  \n",
            "329    0    1    0    0    0    0    0    0  \n",
            "330    0    1    0    0    0    0    0    0  \n",
            "331    0    1    0    0    0    0    0    0  \n",
            "332    0    0    1    0    0    0    0    0  \n",
            "333    0    0    1    0    0    0    0    0  \n",
            "\n",
            "[334 rows x 94 columns] \n",
            "\n",
            "Chromo                                  object\n",
            "transcript_ablation                      int64\n",
            "splice_acceptor_variant                  int64\n",
            "splice_donor_variant                     int64\n",
            "stop_gained                              int64\n",
            "frameshift_variant                       int64\n",
            "stop_lost                                int64\n",
            "start_lost                               int64\n",
            "transcript_amplification                 int64\n",
            "feature_elongation                       int64\n",
            "feature_truncation                       int64\n",
            "inframe_insertion                        int64\n",
            "inframe_deletion                         int64\n",
            "missense_variant                         int64\n",
            "protein_altering_variant                 int64\n",
            "splice_donor_5th_base_variant            int64\n",
            "splice_region_variant                    int64\n",
            "splice_donor_region_variant              int64\n",
            "splice_polypyrimidine_tract_variant      int64\n",
            "incomplete_terminal_codon_variant        int64\n",
            "start_retained_variant                   int64\n",
            "stop_retained_variant                    int64\n",
            "synonymous_variant                       int64\n",
            "coding_sequence_variant                  int64\n",
            "mature_miRNA_variant                     int64\n",
            "5_prime_UTR_variant                      int64\n",
            "3_prime_UTR_variant                      int64\n",
            "non_coding_transcript_exon_variant       int64\n",
            "intron_variant                           int64\n",
            "NMD_transcript_variant                   int64\n",
            "non_coding_transcript_variant            int64\n",
            "coding_transcript_variant                int64\n",
            "upstream_gene_variant                    int64\n",
            "downstream_gene_variant                  int64\n",
            "TFBS_ablation                            int64\n",
            "TFBS_amplification                       int64\n",
            "TF_binding_site_variant                  int64\n",
            "regulatory_region_ablation               int64\n",
            "regulatory_region_amplification          int64\n",
            "regulatory_region_variant                int64\n",
            "intergenic_variant                       int64\n",
            "sequence_variant                         int64\n",
            "cds_end_NF                             float64\n",
            "cds_start_NF                           float64\n",
            "('DISTANCE', 'max')                    float64\n",
            "('DISTANCE', 'min')                    float64\n",
            "('DISTANCE', 'mean')                   float64\n",
            "('SIFT', 'max')                        float64\n",
            "('SIFT', 'min')                        float64\n",
            "('SIFT', 'mean')                       float64\n",
            "('PolyPhen', 'max')                    float64\n",
            "('PolyPhen', 'min')                    float64\n",
            "('PolyPhen', 'mean')                   float64\n",
            "AF                                     float64\n",
            "AFR_AF                                 float64\n",
            "AMR_AF                                 float64\n",
            "EAS_AF                                 float64\n",
            "EUR_AF                                 float64\n",
            "SAS_AF                                 float64\n",
            "gnomADg_AF                             float64\n",
            "gnomADg_AFR_AF                         float64\n",
            "gnomADg_AMI_AF                         float64\n",
            "gnomADg_AMR_AF                         float64\n",
            "gnomADg_ASJ_AF                         float64\n",
            "gnomADg_EAS_AF                         float64\n",
            "gnomADg_FIN_AF                         float64\n",
            "gnomADg_MID_AF                         float64\n",
            "gnomADg_NFE_AF                         float64\n",
            "gnomADg_OTH_AF                         float64\n",
            "gnomADg_SAS_AF                         float64\n",
            "Con4                                   float64\n",
            "Con7                                   float64\n",
            "Con17                                  float64\n",
            "Con20                                  float64\n",
            "Con30                                  float64\n",
            "Con100                                 float64\n",
            "P4                                     float64\n",
            "P7                                     float64\n",
            "P17                                    float64\n",
            "P20                                    float64\n",
            "P30                                    float64\n",
            "P100                                   float64\n",
            "A/C                                      int64\n",
            "A/G                                      int64\n",
            "A/T                                      int64\n",
            "C/A                                      int64\n",
            "C/G                                      int64\n",
            "C/T                                      int64\n",
            "G/A                                      int64\n",
            "G/C                                      int64\n",
            "G/T                                      int64\n",
            "T/A                                      int64\n",
            "T/C                                      int64\n",
            "T/G                                      int64\n",
            "dtype: object \n",
            "\n",
            "0      1\n",
            "1      1\n",
            "2      1\n",
            "3      1\n",
            "4      0\n",
            "      ..\n",
            "329    0\n",
            "330    1\n",
            "331    0\n",
            "332    1\n",
            "333    1\n",
            "Name: Label, Length: 334, dtype: int64 \n",
            "\n"
          ]
        }
      ],
      "source": [
        "# Import data\n",
        "data2 = pd.read_csv(\"/content/gdrive/My Drive/Colab Notebooks/ADME Project/Odata_fzero.csv\")\n",
        "# One hot encode with get_dummies\n",
        "print(f\"Whole data: {data2}\\n\")\n",
        "Y = data2['Label']\n",
        "X = data2[[col for col in data2.columns if col!=\"Location1\" and col!=\"Location2\" and\n",
        "           col!=\"chr\" and col!=\"Label\" and col!=\"Ref\" and col!=\"Alter\"and col!=\"baseChange\"]]\n",
        "print(X,'\\n')\n",
        "pd.set_option('display.max_rows', None)  # Set the max_rows option to None to show all rows\n",
        "pd.set_option('display.max_columns', None)  # Set the max_columns option to None to show all columns\n",
        "print(X.dtypes,'\\n')\n",
        "pd.reset_option('display.max_rows')\n",
        "pd.reset_option('display.max_columns')\n",
        "print(Y,'\\n')"
      ]
    },
    {
      "cell_type": "code",
      "execution_count": null,
      "metadata": {
        "colab": {
          "base_uri": "https://localhost:8080/"
        },
        "id": "3_cCsz5_w7t-",
        "outputId": "b5921941-f76f-4115-af89-d7060ad4de9d"
      },
      "outputs": [
        {
          "output_type": "stream",
          "name": "stdout",
          "text": [
            "<class 'pandas.core.indexes.numeric.Int64Index'> (18,)\n",
            "[0, 1, 2, 3, 4, 5, 6, 7, 8, 9, 10, 11, 12, 13, 14, 15, 16, 17]\n",
            "Chromosome: chr1:\n",
            "Data_size: 18\n",
            "Test indexes: [0, 1, 2, 3, 4, 5, 6, 7, 8, 9, 10, 11, 12, 13, 14, 15, 16, 17]\n",
            "\n",
            "Chromosome: chr2:\n",
            "Data_size: 28\n",
            "Test indexes: [18, 19, 20, 21, 22, 23, 24, 25, 26, 27, 28, 29, 30, 31, 32, 33, 34, 35, 36, 37, 38, 39, 40, 41, 42, 43, 44, 45]\n",
            "\n",
            "Chromosome: chr3:\n",
            "Data_size: 8\n",
            "Test indexes: [46, 47, 48, 49, 50, 51, 52, 53]\n",
            "\n",
            "Chromosome: chr4:\n",
            "Data_size: 8\n",
            "Test indexes: [54, 55, 56, 57, 58, 59, 60, 61]\n",
            "\n",
            "Chromosome: chr6:\n",
            "Data_size: 42\n",
            "Test indexes: [62, 63, 64, 65, 66, 67, 68, 69, 70, 71, 72, 73, 74, 75, 76, 77, 78, 79, 80, 81, 82, 83, 84, 85, 86, 87, 88, 89, 90, 91, 92, 93, 94, 95, 96, 97, 98, 99, 100, 101, 102, 103]\n",
            "\n",
            "Chromosome: chr7:\n",
            "Data_size: 11\n",
            "Test indexes: [104, 105, 106, 107, 108, 109, 110, 111, 112, 113, 114]\n",
            "\n",
            "Chromosome: chr8:\n",
            "Data_size: 29\n",
            "Test indexes: [115, 116, 117, 118, 119, 120, 121, 122, 123, 124, 125, 126, 127, 128, 129, 130, 131, 132, 133, 134, 135, 136, 137, 138, 139, 140, 141, 142, 143]\n",
            "\n",
            "Chromosome: chr9:\n",
            "Data_size: 1\n",
            "Test indexes: [144]\n",
            "\n",
            "Chromosome: chr10:\n",
            "Data_size: 87\n",
            "Test indexes: [145, 146, 147, 148, 149, 150, 151, 152, 153, 154, 155, 156, 157, 158, 159, 160, 161, 162, 163, 164, 165, 166, 167, 168, 169, 170, 171, 172, 173, 174, 175, 176, 177, 178, 179, 180, 181, 182, 183, 184, 185, 186, 187, 188, 189, 190, 191, 192, 193, 194, 195, 196, 197, 198, 199, 200, 201, 202, 203, 204, 205, 206, 207, 208, 209, 210, 211, 212, 213, 214, 215, 216, 217, 218, 219, 220, 221, 222, 223, 224, 225, 226, 227, 228, 229, 230, 231]\n",
            "\n",
            "Chromosome: chr11:\n",
            "Data_size: 5\n",
            "Test indexes: [232, 233, 234, 235, 236]\n",
            "\n",
            "Chromosome: chr12:\n",
            "Data_size: 2\n",
            "Test indexes: [237, 238]\n",
            "\n",
            "Chromosome: chr13:\n",
            "Data_size: 4\n",
            "Test indexes: [239, 240, 241, 242]\n",
            "\n",
            "Chromosome: chr15:\n",
            "Data_size: 17\n",
            "Test indexes: [243, 244, 245, 246, 247, 248, 249, 250, 251, 252, 253, 254, 255, 256, 257, 258, 259]\n",
            "\n",
            "Chromosome: chr16:\n",
            "Data_size: 17\n",
            "Test indexes: [260, 261, 262, 263, 264, 265, 266, 267, 268, 269, 270, 271, 272, 273, 274, 275, 276]\n",
            "\n",
            "Chromosome: chr17:\n",
            "Data_size: 7\n",
            "Test indexes: [277, 278, 279, 280, 281, 282, 283]\n",
            "\n",
            "Chromosome: chr19:\n",
            "Data_size: 30\n",
            "Test indexes: [284, 285, 286, 287, 288, 289, 290, 291, 292, 293, 294, 295, 296, 297, 298, 299, 300, 301, 302, 303, 304, 305, 306, 307, 308, 309, 310, 311, 312, 313]\n",
            "\n",
            "Chromosome: chr20:\n",
            "Data_size: 3\n",
            "Test indexes: [314, 315, 316]\n",
            "\n",
            "Chromosome: chr22:\n",
            "Data_size: 17\n",
            "Test indexes: [317, 318, 319, 320, 321, 322, 323, 324, 325, 326, 327, 328, 329, 330, 331, 332, 333]\n",
            "\n",
            "[144] [237, 238]\n",
            "[144, 237, 238] [314, 315, 316]\n",
            "[239, 240, 241, 242] [232, 233, 234, 235, 236]\n",
            "[144, 237, 238, 314, 315, 316] [277, 278, 279, 280, 281, 282, 283]\n",
            "[46, 47, 48, 49, 50, 51, 52, 53] [54, 55, 56, 57, 58, 59, 60, 61]\n",
            "[239, 240, 241, 242, 232, 233, 234, 235, 236] [104, 105, 106, 107, 108, 109, 110, 111, 112, 113, 114]\n",
            "[144, 237, 238, 314, 315, 316, 277, 278, 279, 280, 281, 282, 283] [46, 47, 48, 49, 50, 51, 52, 53, 54, 55, 56, 57, 58, 59, 60, 61]\n",
            "[243, 244, 245, 246, 247, 248, 249, 250, 251, 252, 253, 254, 255, 256, 257, 258, 259] [260, 261, 262, 263, 264, 265, 266, 267, 268, 269, 270, 271, 272, 273, 274, 275, 276]\n",
            "[317, 318, 319, 320, 321, 322, 323, 324, 325, 326, 327, 328, 329, 330, 331, 332, 333] [0, 1, 2, 3, 4, 5, 6, 7, 8, 9, 10, 11, 12, 13, 14, 15, 16, 17]\n",
            "Test size: 28;\n",
            "Test size: 42;\n",
            "Test size: 29;\n",
            "Test size: 29;\n",
            "Test size: 87;\n",
            "Test size: 20;\n",
            "Test size: 34;\n",
            "Test size: 30;\n",
            "Test size: 35;\n",
            "Validation size: 42;\n",
            "Validation size: 29;\n",
            "Validation size: 29;\n",
            "Validation size: 87;\n",
            "Validation size: 20;\n",
            "Validation size: 34;\n",
            "Validation size: 30;\n",
            "Validation size: 35;\n",
            "Validation size: 28;\n",
            "Train size: 306;\n",
            "Train size: 292;\n",
            "Train size: 305;\n",
            "Train size: 305;\n",
            "Train size: 247;\n",
            "Train size: 314;\n",
            "Train size: 300;\n",
            "Train size: 304;\n",
            "Train size: 299;\n"
          ]
        }
      ],
      "source": [
        "## Prepare leave one chromosome out split indexes\n",
        "chrom_values = X['Chromo'].unique()\n",
        "grouped = X.groupby(['Chromo'])\n",
        "\n",
        "# Initialization\n",
        "datasplit = []\n",
        "labels = []\n",
        "combined_index = [None for _ in range(chrom_values.shape[0])]\n",
        "testlist = [None for _ in range(chrom_values.shape[0])]\n",
        "trainlist = [None for _ in range(chrom_values.shape[0])]\n",
        "\n",
        "# Extract info from grouped data\n",
        "for n in range(chrom_values.shape[0]):\n",
        "    chrom_i = chrom_values[n]\n",
        "    new_data = grouped.get_group(chrom_i)  # Generate random data\n",
        "    label = f\"{chrom_i}\"  # Generate label\n",
        "    datasplit.append(new_data)  # Store data\n",
        "    labels.append(label)  # Store label\n",
        "print(type(datasplit[0].index),np.shape(datasplit[0].index))\n",
        "print(datasplit[0].index.tolist())\n",
        "\n",
        "# Convert it to chromo label and chromo-splitted testing sets\n",
        "for i in range(len(labels)):\n",
        "    print(f\"Chromosome: {labels[i]}:\")\n",
        "    # print(f\"Iteration: {i+1}\\n\")\n",
        "    # print(f\"Data_index: {datasplit[i].index}\")\n",
        "    print(f\"Data_size: {len(datasplit[i])}\")\n",
        "    testlist[i] = np.array(datasplit[i].index).tolist()\n",
        "    # print(f\"Test size: {len(testlist[i])}\\n\")\n",
        "    print(f\"Test indexes: {testlist[i]}\\n\")\n",
        "    # Label: {labels[i]}\\n {type(testlist[i])}\\n\")\n",
        "\n",
        "# Always merge the shortest lists, make sure the minimum length<20\n",
        "while min(map(len, testlist)) < 20 and len(testlist) > 1:\n",
        "    idx1, idx2 = sorted(range(len(testlist)), key=lambda i: len(testlist[i]))[:2] #not including 2, so 0/1\n",
        "    print(testlist[idx1], testlist[idx2])\n",
        "    testlist[idx1] = testlist[idx1] + testlist[idx2]\n",
        "    testlist.pop(idx2)\n",
        "# Check merged-testing sets length:\n",
        "for x in testlist:\n",
        "    print(f\"Test size: {len(x)};\")\n",
        "\n",
        "# Validation list: order = order+1 for the testlist\n",
        "vlist = testlist[1:] + [testlist[0]]\n",
        "for x in vlist:\n",
        "    print(f\"Validation size: {len(x)};\")\n",
        "\n",
        "# Build training sets accordingly\n",
        "all = list(range(len(X)))\n",
        "# print(all)\n",
        "trainlist = []\n",
        "for i, test_indexes in enumerate(testlist):\n",
        "    train_indexes = np.array([index for index in all if index not in test_indexes])\n",
        "    trainlist.append(train_indexes)\n",
        "for x in trainlist:\n",
        "    print(f\"Train size: {len(x)};\")\n",
        "    # print(f\"Train size: {len(trainlist[i])}\\n\")\n",
        "    # print(f\"Train indexes: {trainlist[i]}\\n {type(trainlist[i])}\\n\")"
      ]
    },
    {
      "cell_type": "code",
      "execution_count": null,
      "metadata": {
        "colab": {
          "base_uri": "https://localhost:8080/"
        },
        "id": "EmnltTUn3_pl",
        "outputId": "969e605c-3497-4ebe-830b-63358a16653f"
      },
      "outputs": [
        {
          "output_type": "stream",
          "name": "stdout",
          "text": [
            "Train size: 264;\n",
            "Train size: 263;\n",
            "Train size: 276;\n",
            "Train size: 218;\n",
            "Train size: 227;\n",
            "Train size: 280;\n",
            "Train size: 270;\n",
            "Train size: 269;\n",
            "Train size: 271;\n"
          ]
        }
      ],
      "source": [
        "updated_trainlist = []\n",
        "for i, test_indexes in enumerate(trainlist):\n",
        "    v_indexes = vlist[i]\n",
        "    updated_test_indexes = np.array([index for index in test_indexes if index not in v_indexes])\n",
        "    updated_trainlist.append(updated_test_indexes)\n",
        "for x in updated_trainlist:\n",
        "    print(f\"Train size: {len(x)};\")"
      ]
    },
    {
      "cell_type": "code",
      "execution_count": null,
      "metadata": {
        "id": "0Q0FRbtpUeX5"
      },
      "outputs": [],
      "source": [
        "# Finalizing with scaling\n",
        "from sklearn.preprocessing import StandardScaler\n",
        "X = X.drop('Chromo', axis=1)\n",
        "X = np.array([X.values.tolist()]).reshape(X.shape[0],-1)\n",
        "Y = np.array([Y.values.tolist()]).reshape(X.shape[0],)\n",
        "scaler = StandardScaler()\n",
        "X = scaler.fit_transform(X)"
      ]
    },
    {
      "cell_type": "code",
      "source": [
        "base = \"/content/gdrive/My Drive/Colab Notebooks/ADME Project/\""
      ],
      "metadata": {
        "id": "lQTOatXGjurE"
      },
      "execution_count": null,
      "outputs": []
    },
    {
      "cell_type": "markdown",
      "source": [
        "###GKBdata"
      ],
      "metadata": {
        "id": "4RplYFZhjhom"
      }
    },
    {
      "cell_type": "code",
      "execution_count": null,
      "metadata": {
        "colab": {
          "base_uri": "https://localhost:8080/"
        },
        "outputId": "6f30dcfe-41bd-4427-fc34-4c0311718970",
        "id": "ckl0LLRwjhpK"
      },
      "outputs": [
        {
          "output_type": "stream",
          "name": "stdout",
          "text": [
            "Whole data:      chr  Location1 Ref Alter  transcript_ablation  splice_acceptor_variant  \\\n",
            "0      1   97057448   G     A                    0                        0   \n",
            "1      1   97073844   G     A                    0                        0   \n",
            "2      1   97077914   T     C                    0                        0   \n",
            "3      1   97078076   A     G                    0                        0   \n",
            "4      1   97078196   G     A                    0                        0   \n",
            "..   ...        ...  ..   ...                  ...                      ...   \n",
            "695   22   42129033   C     T                    0                        0   \n",
            "696   22   42130692   G     A                    0                        0   \n",
            "697   22   42130718   C     T                    0                        0   \n",
            "698   22   42131289   G     T                    0                        0   \n",
            "699   22   42132375   G     C                    0                        0   \n",
            "\n",
            "     splice_donor_variant  stop_gained  frameshift_variant  stop_lost  ...  \\\n",
            "0                       0            0                   0          0  ...   \n",
            "1                       0            0                   0          0  ...   \n",
            "2                       0            0                   0          0  ...   \n",
            "3                       0            0                   0          0  ...   \n",
            "4                       0            0                   0          0  ...   \n",
            "..                    ...          ...                 ...        ...  ...   \n",
            "695                     0            0                   0          0  ...   \n",
            "696                     0            0                   0          0  ...   \n",
            "697                     0            0                   0          0  ...   \n",
            "698                     0            0                   0          0  ...   \n",
            "699                     0            0                   0          0  ...   \n",
            "\n",
            "     A/T  C/A  C/G  C/T  G/A  G/C  G/T  T/A  T/C  T/G  \n",
            "0      0    0    0    0    1    0    0    0    0    0  \n",
            "1      0    0    0    0    1    0    0    0    0    0  \n",
            "2      0    0    0    0    0    0    0    0    1    0  \n",
            "3      0    0    0    0    0    0    0    0    0    0  \n",
            "4      0    0    0    0    1    0    0    0    0    0  \n",
            "..   ...  ...  ...  ...  ...  ...  ...  ...  ...  ...  \n",
            "695    0    0    0    1    0    0    0    0    0    0  \n",
            "696    0    0    0    0    1    0    0    0    0    0  \n",
            "697    0    0    0    1    0    0    0    0    0    0  \n",
            "698    0    0    0    0    0    0    1    0    0    0  \n",
            "699    0    0    0    0    0    1    0    0    0    0  \n",
            "\n",
            "[700 rows x 98 columns]\n",
            "\n",
            "     chr  transcript_ablation  splice_acceptor_variant  splice_donor_variant  \\\n",
            "0      1                    0                        0                     0   \n",
            "1      1                    0                        0                     0   \n",
            "2      1                    0                        0                     0   \n",
            "3      1                    0                        0                     0   \n",
            "4      1                    0                        0                     0   \n",
            "..   ...                  ...                      ...                   ...   \n",
            "695   22                    0                        0                     0   \n",
            "696   22                    0                        0                     0   \n",
            "697   22                    0                        0                     0   \n",
            "698   22                    0                        0                     0   \n",
            "699   22                    0                        0                     0   \n",
            "\n",
            "     stop_gained  frameshift_variant  stop_lost  start_lost  \\\n",
            "0              0                   0          0           0   \n",
            "1              0                   0          0           0   \n",
            "2              0                   0          0           0   \n",
            "3              0                   0          0           0   \n",
            "4              0                   0          0           0   \n",
            "..           ...                 ...        ...         ...   \n",
            "695            0                   0          0           0   \n",
            "696            0                   0          0           0   \n",
            "697            0                   0          0           0   \n",
            "698            0                   0          0           0   \n",
            "699            0                   0          0           0   \n",
            "\n",
            "     transcript_amplification  feature_elongation  ...  A/T  C/A  C/G  C/T  \\\n",
            "0                           0                   0  ...    0    0    0    0   \n",
            "1                           0                   0  ...    0    0    0    0   \n",
            "2                           0                   0  ...    0    0    0    0   \n",
            "3                           0                   0  ...    0    0    0    0   \n",
            "4                           0                   0  ...    0    0    0    0   \n",
            "..                        ...                 ...  ...  ...  ...  ...  ...   \n",
            "695                         0                   0  ...    0    0    0    1   \n",
            "696                         0                   0  ...    0    0    0    0   \n",
            "697                         0                   0  ...    0    0    0    1   \n",
            "698                         0                   0  ...    0    0    0    0   \n",
            "699                         0                   0  ...    0    0    0    0   \n",
            "\n",
            "     G/A  G/C  G/T  T/A  T/C  T/G  \n",
            "0      1    0    0    0    0    0  \n",
            "1      1    0    0    0    0    0  \n",
            "2      0    0    0    0    1    0  \n",
            "3      0    0    0    0    0    0  \n",
            "4      1    0    0    0    0    0  \n",
            "..   ...  ...  ...  ...  ...  ...  \n",
            "695    0    0    0    0    0    0  \n",
            "696    1    0    0    0    0    0  \n",
            "697    0    0    0    0    0    0  \n",
            "698    0    0    1    0    0    0  \n",
            "699    0    1    0    0    0    0  \n",
            "\n",
            "[700 rows x 94 columns] \n",
            "\n",
            "chr                                      int64\n",
            "transcript_ablation                      int64\n",
            "splice_acceptor_variant                  int64\n",
            "splice_donor_variant                     int64\n",
            "stop_gained                              int64\n",
            "frameshift_variant                       int64\n",
            "stop_lost                                int64\n",
            "start_lost                               int64\n",
            "transcript_amplification                 int64\n",
            "feature_elongation                       int64\n",
            "feature_truncation                       int64\n",
            "inframe_insertion                        int64\n",
            "inframe_deletion                         int64\n",
            "missense_variant                         int64\n",
            "protein_altering_variant                 int64\n",
            "splice_donor_5th_base_variant            int64\n",
            "splice_region_variant                    int64\n",
            "splice_donor_region_variant              int64\n",
            "splice_polypyrimidine_tract_variant      int64\n",
            "incomplete_terminal_codon_variant        int64\n",
            "start_retained_variant                   int64\n",
            "stop_retained_variant                    int64\n",
            "synonymous_variant                       int64\n",
            "coding_sequence_variant                  int64\n",
            "mature_miRNA_variant                     int64\n",
            "5_prime_UTR_variant                      int64\n",
            "3_prime_UTR_variant                      int64\n",
            "non_coding_transcript_exon_variant       int64\n",
            "intron_variant                           int64\n",
            "NMD_transcript_variant                   int64\n",
            "non_coding_transcript_variant            int64\n",
            "coding_transcript_variant                int64\n",
            "upstream_gene_variant                    int64\n",
            "downstream_gene_variant                  int64\n",
            "TFBS_ablation                            int64\n",
            "TFBS_amplification                       int64\n",
            "TF_binding_site_variant                  int64\n",
            "regulatory_region_ablation               int64\n",
            "regulatory_region_amplification          int64\n",
            "regulatory_region_variant                int64\n",
            "intergenic_variant                       int64\n",
            "sequence_variant                         int64\n",
            "cds_end_NF                             float64\n",
            "cds_start_NF                           float64\n",
            "maxDis                                 float64\n",
            "minDis                                 float64\n",
            "meanDis                                float64\n",
            "maxSIFT                                float64\n",
            "minSIFT                                float64\n",
            "meanSIFT                               float64\n",
            "maxPolyPhen                            float64\n",
            "minPolyPhen                            float64\n",
            "mmeanPolyPhen                          float64\n",
            "AF                                     float64\n",
            "AFR_AF                                 float64\n",
            "AMR_AF                                 float64\n",
            "EAS_AF                                 float64\n",
            "EUR_AF                                 float64\n",
            "SAS_AF                                 float64\n",
            "gnomADg_AF                             float64\n",
            "gnomADg_AFR_AF                         float64\n",
            "gnomADg_AMI_AF                         float64\n",
            "gnomADg_AMR_AF                         float64\n",
            "gnomADg_ASJ_AF                         float64\n",
            "gnomADg_EAS_AF                         float64\n",
            "gnomADg_FIN_AF                         float64\n",
            "gnomADg_MID_AF                         float64\n",
            "gnomADg_NFE_AF                         float64\n",
            "gnomADg_OTH_AF                         float64\n",
            "gnomADg_SAS_AF                         float64\n",
            "Con4                                   float64\n",
            "Con7                                   float64\n",
            "Con17                                  float64\n",
            "Con20                                  float64\n",
            "Con30                                  float64\n",
            "Con100                                 float64\n",
            "P4                                     float64\n",
            "P7                                     float64\n",
            "P17                                    float64\n",
            "P20                                    float64\n",
            "P30                                    float64\n",
            "P100                                   float64\n",
            "A/C                                      int64\n",
            "A/G                                      int64\n",
            "A/T                                      int64\n",
            "C/A                                      int64\n",
            "C/G                                      int64\n",
            "C/T                                      int64\n",
            "G/A                                      int64\n",
            "G/C                                      int64\n",
            "G/T                                      int64\n",
            "T/A                                      int64\n",
            "T/C                                      int64\n",
            "T/G                                      int64\n",
            "dtype: object \n",
            "\n",
            "0      1\n",
            "1      1\n",
            "2      0\n",
            "3      0\n",
            "4      0\n",
            "      ..\n",
            "695    1\n",
            "696    1\n",
            "697    1\n",
            "698    0\n",
            "699    1\n",
            "Name: Label, Length: 700, dtype: int64 \n",
            "\n"
          ]
        }
      ],
      "source": [
        "# Import data\n",
        "gkb = pd.read_csv(\"/content/gdrive/My Drive/Colab Notebooks/ADME Project/GKBdata_fzero.csv\")\n",
        "# One hot encode with get_dummies\n",
        "print(f\"Whole data: {gkb}\\n\")\n",
        "gkb_Y = gkb['Label']\n",
        "gkb_X = gkb[[col for col in gkb.columns if col!=\"Location1\" and col!=\"Location2\" and\n",
        "           col!=\"Label\" and col!=\"Ref\" and col!=\"Alter\"and col!=\"baseChange\"]]\n",
        "print(gkb_X,'\\n')\n",
        "pd.set_option('display.max_rows', None)  # Set the max_rows option to None to show all rows\n",
        "pd.set_option('display.max_columns', None)  # Set the max_columns option to None to show all columns\n",
        "print(gkb_X.dtypes,'\\n')\n",
        "pd.reset_option('display.max_rows')\n",
        "pd.reset_option('display.max_columns')\n",
        "print(gkb_Y,'\\n')"
      ]
    },
    {
      "cell_type": "code",
      "execution_count": null,
      "metadata": {
        "colab": {
          "base_uri": "https://localhost:8080/"
        },
        "outputId": "0d6737a3-bf08-4f14-88bc-51a5bb463daa",
        "id": "DEa4ljEvjhpL"
      },
      "outputs": [
        {
          "output_type": "stream",
          "name": "stdout",
          "text": [
            "<class 'pandas.core.indexes.numeric.Int64Index'> (136,)\n",
            "[0, 1, 2, 3, 4, 5, 6, 7, 8, 9, 10, 11, 12, 13, 14, 15, 16, 17, 18, 19, 20, 21, 22, 23, 24, 25, 26, 27, 28, 29, 30, 31, 32, 33, 34, 35, 36, 37, 38, 39, 40, 41, 42, 43, 44, 45, 46, 47, 48, 49, 50, 51, 52, 53, 54, 55, 56, 57, 58, 59, 60, 61, 62, 63, 64, 65, 66, 67, 68, 69, 70, 71, 72, 73, 74, 75, 76, 77, 78, 79, 80, 81, 82, 83, 84, 85, 86, 87, 88, 89, 90, 91, 92, 93, 94, 95, 96, 97, 98, 99, 100, 101, 102, 103, 104, 105, 106, 107, 108, 109, 110, 111, 112, 113, 114, 115, 116, 117, 118, 119, 342, 343, 344, 345, 346, 347, 348, 349, 350, 351, 352, 353, 354, 355, 356, 357]\n",
            "Chromosome: 1:\n",
            "Data_size: 136\n",
            "Test indexes: [0, 1, 2, 3, 4, 5, 6, 7, 8, 9, 10, 11, 12, 13, 14, 15, 16, 17, 18, 19, 20, 21, 22, 23, 24, 25, 26, 27, 28, 29, 30, 31, 32, 33, 34, 35, 36, 37, 38, 39, 40, 41, 42, 43, 44, 45, 46, 47, 48, 49, 50, 51, 52, 53, 54, 55, 56, 57, 58, 59, 60, 61, 62, 63, 64, 65, 66, 67, 68, 69, 70, 71, 72, 73, 74, 75, 76, 77, 78, 79, 80, 81, 82, 83, 84, 85, 86, 87, 88, 89, 90, 91, 92, 93, 94, 95, 96, 97, 98, 99, 100, 101, 102, 103, 104, 105, 106, 107, 108, 109, 110, 111, 112, 113, 114, 115, 116, 117, 118, 119, 342, 343, 344, 345, 346, 347, 348, 349, 350, 351, 352, 353, 354, 355, 356, 357]\n",
            "\n",
            "Chromosome: 2:\n",
            "Data_size: 62\n",
            "Test indexes: [120, 121, 122, 123, 124, 125, 126, 127, 128, 129, 130, 131, 132, 358, 359, 360, 361, 362, 363, 364, 365, 366, 367, 368, 369, 370, 371, 372, 373, 374, 375, 376, 377, 378, 379, 380, 381, 382, 383, 384, 385, 386, 387, 388, 389, 390, 391, 392, 393, 394, 395, 396, 397, 398, 399, 400, 401, 402, 403, 404, 405, 406]\n",
            "\n",
            "Chromosome: 4:\n",
            "Data_size: 51\n",
            "Test indexes: [133, 134, 135, 136, 137, 138, 139, 140, 141, 142, 143, 144, 145, 146, 147, 148, 149, 150, 151, 152, 153, 154, 155, 156, 157, 158, 159, 160, 161, 162, 163, 164, 165, 166, 167, 168, 169, 170, 171, 172, 173, 174, 175, 176, 177, 178, 179, 180, 181, 426, 427]\n",
            "\n",
            "Chromosome: 6:\n",
            "Data_size: 17\n",
            "Test indexes: [182, 183, 184, 185, 186, 187, 188, 189, 190, 191, 192, 428, 429, 430, 431, 432, 433]\n",
            "\n",
            "Chromosome: 7:\n",
            "Data_size: 83\n",
            "Test indexes: [193, 194, 195, 196, 197, 198, 199, 200, 201, 202, 203, 204, 205, 206, 207, 208, 209, 210, 211, 212, 213, 214, 215, 216, 217, 218, 219, 220, 221, 222, 223, 224, 225, 226, 227, 228, 229, 230, 231, 232, 233, 234, 235, 236, 237, 238, 239, 240, 241, 242, 243, 244, 245, 246, 247, 248, 249, 250, 251, 252, 253, 254, 255, 256, 434, 435, 436, 437, 438, 439, 440, 441, 442, 443, 444, 445, 446, 447, 448, 449, 450, 451, 452]\n",
            "\n",
            "Chromosome: 8:\n",
            "Data_size: 14\n",
            "Test indexes: [257, 258, 259, 260, 261, 262, 263, 264, 265, 266, 267, 453, 454, 455]\n",
            "\n",
            "Chromosome: 10:\n",
            "Data_size: 121\n",
            "Test indexes: [268, 269, 270, 271, 272, 273, 274, 459, 460, 461, 462, 463, 464, 465, 466, 467, 468, 469, 470, 471, 472, 473, 474, 475, 476, 477, 478, 479, 480, 481, 482, 483, 484, 485, 486, 487, 488, 489, 490, 491, 492, 493, 494, 495, 496, 497, 498, 499, 500, 501, 502, 503, 504, 505, 506, 507, 508, 509, 510, 511, 512, 513, 514, 515, 516, 517, 518, 519, 520, 521, 522, 523, 524, 525, 526, 527, 528, 529, 530, 531, 532, 533, 534, 535, 536, 537, 538, 539, 540, 541, 542, 543, 544, 545, 546, 547, 548, 549, 550, 551, 552, 553, 554, 555, 556, 557, 558, 559, 560, 561, 562, 563, 564, 565, 566, 567, 568, 569, 570, 571, 572]\n",
            "\n",
            "Chromosome: 11:\n",
            "Data_size: 7\n",
            "Test indexes: [275, 276, 277, 278, 279, 280, 573]\n",
            "\n",
            "Chromosome: 12:\n",
            "Data_size: 37\n",
            "Test indexes: [281, 282, 283, 284, 285, 286, 287, 288, 574, 575, 576, 577, 578, 579, 580, 581, 582, 583, 584, 585, 586, 587, 588, 589, 590, 591, 592, 593, 594, 595, 596, 597, 598, 599, 600, 601, 602]\n",
            "\n",
            "Chromosome: 15:\n",
            "Data_size: 19\n",
            "Test indexes: [289, 290, 291, 292, 293, 294, 606, 607, 608, 609, 610, 611, 612, 613, 614, 615, 616, 617, 618]\n",
            "\n",
            "Chromosome: 16:\n",
            "Data_size: 31\n",
            "Test indexes: [295, 296, 297, 298, 299, 300, 301, 302, 303, 304, 305, 306, 619, 620, 621, 622, 623, 624, 625, 626, 627, 628, 629, 630, 631, 632, 633, 634, 635, 636, 637]\n",
            "\n",
            "Chromosome: 19:\n",
            "Data_size: 70\n",
            "Test indexes: [307, 308, 309, 310, 311, 312, 313, 314, 315, 316, 317, 318, 319, 320, 321, 322, 323, 324, 325, 326, 327, 328, 329, 330, 331, 332, 333, 334, 335, 336, 337, 338, 339, 643, 644, 645, 646, 647, 648, 649, 650, 651, 652, 653, 654, 655, 656, 657, 658, 659, 660, 661, 662, 663, 664, 665, 666, 667, 668, 669, 670, 671, 672, 673, 674, 675, 676, 677, 678, 679]\n",
            "\n",
            "Chromosome: 22:\n",
            "Data_size: 19\n",
            "Test indexes: [340, 341, 683, 684, 685, 686, 687, 688, 689, 690, 691, 692, 693, 694, 695, 696, 697, 698, 699]\n",
            "\n",
            "Chromosome: 3:\n",
            "Data_size: 19\n",
            "Test indexes: [407, 408, 409, 410, 411, 412, 413, 414, 415, 416, 417, 418, 419, 420, 421, 422, 423, 424, 425]\n",
            "\n",
            "Chromosome: 9:\n",
            "Data_size: 3\n",
            "Test indexes: [456, 457, 458]\n",
            "\n",
            "Chromosome: 13:\n",
            "Data_size: 3\n",
            "Test indexes: [603, 604, 605]\n",
            "\n",
            "Chromosome: 17:\n",
            "Data_size: 5\n",
            "Test indexes: [638, 639, 640, 641, 642]\n",
            "\n",
            "Chromosome: 20:\n",
            "Data_size: 3\n",
            "Test indexes: [680, 681, 682]\n",
            "\n",
            "[456, 457, 458] [603, 604, 605]\n",
            "[680, 681, 682] [638, 639, 640, 641, 642]\n",
            "[456, 457, 458, 603, 604, 605] [275, 276, 277, 278, 279, 280, 573]\n",
            "[680, 681, 682, 638, 639, 640, 641, 642] [456, 457, 458, 603, 604, 605, 275, 276, 277, 278, 279, 280, 573]\n",
            "[257, 258, 259, 260, 261, 262, 263, 264, 265, 266, 267, 453, 454, 455] [182, 183, 184, 185, 186, 187, 188, 189, 190, 191, 192, 428, 429, 430, 431, 432, 433]\n",
            "[289, 290, 291, 292, 293, 294, 606, 607, 608, 609, 610, 611, 612, 613, 614, 615, 616, 617, 618] [340, 341, 683, 684, 685, 686, 687, 688, 689, 690, 691, 692, 693, 694, 695, 696, 697, 698, 699]\n",
            "[407, 408, 409, 410, 411, 412, 413, 414, 415, 416, 417, 418, 419, 420, 421, 422, 423, 424, 425] [680, 681, 682, 638, 639, 640, 641, 642, 456, 457, 458, 603, 604, 605, 275, 276, 277, 278, 279, 280, 573]\n",
            "Test size: 136;\n",
            "Test size: 62;\n",
            "Test size: 51;\n",
            "Test size: 83;\n",
            "Test size: 31;\n",
            "Test size: 121;\n",
            "Test size: 37;\n",
            "Test size: 38;\n",
            "Test size: 31;\n",
            "Test size: 70;\n",
            "Test size: 40;\n",
            "Validation size: 62;\n",
            "Validation size: 51;\n",
            "Validation size: 83;\n",
            "Validation size: 31;\n",
            "Validation size: 121;\n",
            "Validation size: 37;\n",
            "Validation size: 38;\n",
            "Validation size: 31;\n",
            "Validation size: 70;\n",
            "Validation size: 40;\n",
            "Validation size: 136;\n",
            "Train size: 564;\n",
            "Train size: 638;\n",
            "Train size: 649;\n",
            "Train size: 617;\n",
            "Train size: 669;\n",
            "Train size: 579;\n",
            "Train size: 663;\n",
            "Train size: 662;\n",
            "Train size: 669;\n",
            "Train size: 630;\n",
            "Train size: 660;\n"
          ]
        }
      ],
      "source": [
        "## Prepare leave one chromosome out split indexes\n",
        "chrom_values = gkb_X['chr'].unique()\n",
        "grouped = gkb_X.groupby(['chr'])\n",
        "\n",
        "# Initialization\n",
        "datasplit = []\n",
        "labels = []\n",
        "combined_index = [None for _ in range(chrom_values.shape[0])]\n",
        "testlist2 = [None for _ in range(chrom_values.shape[0])]\n",
        "trainlist2 = [None for _ in range(chrom_values.shape[0])]\n",
        "\n",
        "# Extract info from grouped data\n",
        "for n in range(chrom_values.shape[0]):\n",
        "    chrom_i = chrom_values[n]\n",
        "    new_data = grouped.get_group(chrom_i)  # Generate random data\n",
        "    label = f\"{chrom_i}\"  # Generate label\n",
        "    datasplit.append(new_data)  # Store data\n",
        "    labels.append(label)  # Store label\n",
        "print(type(datasplit[0].index),np.shape(datasplit[0].index))\n",
        "print(datasplit[0].index.tolist())\n",
        "\n",
        "# Convert it to chromo label and chromo-splitted testing sets\n",
        "for i in range(len(labels)):\n",
        "    print(f\"Chromosome: {labels[i]}:\")\n",
        "    # print(f\"Iteration: {i+1}\\n\")\n",
        "    # print(f\"Data_index: {datasplit[i].index}\")\n",
        "    print(f\"Data_size: {len(datasplit[i])}\")\n",
        "    testlist2[i] = np.array(datasplit[i].index).tolist()\n",
        "    # print(f\"Test size: {len(testlist2[i])}\\n\")\n",
        "    print(f\"Test indexes: {testlist2[i]}\\n\")\n",
        "    # Label: {labels[i]}\\n {type(testlist2[i])}\\n\")\n",
        "\n",
        "# Always merge the shortest lists, make sure the minimum length<20\n",
        "while min(map(len, testlist2)) < 20 and len(testlist2) > 1:\n",
        "    idx1, idx2 = sorted(range(len(testlist2)), key=lambda i: len(testlist2[i]))[:2] #not including 2, so 0/1\n",
        "    print(testlist2[idx1], testlist2[idx2])\n",
        "    testlist2[idx1] = testlist2[idx1] + testlist2[idx2]\n",
        "    testlist2.pop(idx2)\n",
        "# Check merged-testing sets length:\n",
        "for x in testlist2:\n",
        "    print(f\"Test size: {len(x)};\")\n",
        "\n",
        "# Validation list: order = order+1 for the testlist2\n",
        "vlist2 = testlist2[1:] + [testlist2[0]]\n",
        "for x in vlist2:\n",
        "    print(f\"Validation size: {len(x)};\")\n",
        "\n",
        "# Build training sets accordingly\n",
        "all = list(range(len(gkb_X)))\n",
        "# print(all)\n",
        "trainlist2 = []\n",
        "for i, test_indexes in enumerate(testlist2):\n",
        "    train_indexes = np.array([index for index in all if index not in test_indexes])\n",
        "    trainlist2.append(train_indexes)\n",
        "for x in trainlist2:\n",
        "    print(f\"Train size: {len(x)};\")\n",
        "    # print(f\"Train size: {len(trainlist2[i])}\\n\")\n",
        "    # print(f\"Train indexes: {trainlist2[i]}\\n {type(trainlist2[i])}\\n\")"
      ]
    },
    {
      "cell_type": "code",
      "execution_count": null,
      "metadata": {
        "colab": {
          "base_uri": "https://localhost:8080/"
        },
        "outputId": "6bbb3f1a-d93a-43dd-b4be-6996b06094b5",
        "id": "3DoOAyWtjhpM"
      },
      "outputs": [
        {
          "output_type": "stream",
          "name": "stdout",
          "text": [
            "Train size: 502;\n",
            "Train size: 587;\n",
            "Train size: 566;\n",
            "Train size: 586;\n",
            "Train size: 548;\n",
            "Train size: 542;\n",
            "Train size: 625;\n",
            "Train size: 631;\n",
            "Train size: 599;\n",
            "Train size: 590;\n",
            "Train size: 524;\n"
          ]
        }
      ],
      "source": [
        "updated_trainlist2 = []\n",
        "for i, test_indexes in enumerate(trainlist2):\n",
        "    v_indexes = vlist2[i]\n",
        "    updated_test_indexes = np.array([index for index in test_indexes if index not in v_indexes])\n",
        "    updated_trainlist2.append(updated_test_indexes)\n",
        "for x in updated_trainlist2:\n",
        "    print(f\"Train size: {len(x)};\")"
      ]
    },
    {
      "cell_type": "code",
      "execution_count": null,
      "metadata": {
        "id": "fpq05p_VjhpN"
      },
      "outputs": [],
      "source": [
        "# Finalizing with scaling\n",
        "from sklearn.preprocessing import StandardScaler\n",
        "gkb_X = gkb_X.drop('chr', axis=1)\n",
        "gkb_X = np.array([gkb_X.values.tolist()]).reshape(gkb_X.shape[0],-1)\n",
        "gkb_Y = np.array([gkb_Y.values.tolist()]).reshape(gkb_X.shape[0],)\n",
        "scaler = StandardScaler()\n",
        "gkb_X = scaler.fit_transform(gkb_X)"
      ]
    },
    {
      "cell_type": "code",
      "source": [
        "base = \"/content/gdrive/My Drive/Colab Notebooks/ADME Project/\""
      ],
      "metadata": {
        "id": "p0GFpa_hjhpO"
      },
      "execution_count": null,
      "outputs": []
    },
    {
      "cell_type": "markdown",
      "metadata": {
        "id": "gO-R6LQcbQl7"
      },
      "source": [
        "## Dummy Models"
      ]
    },
    {
      "cell_type": "markdown",
      "source": [
        "*DummyClassifier* makes predictions that ignore the input features.\n",
        "0. Default setting: class sklearn.dummy.DummyClassifier(*, strategy='prior', random_state=None, constant=None)\n",
        "\n",
        "This classifier serves as a simple baseline to compare against other more complex classifiers.\n",
        "\n",
        "The specific behavior of the baseline is selected with the strategy parameter.\n",
        "\n",
        "1. strategy{“most_frequent”, “prior”, “stratified”, “uniform”, “constant”}, default=”prior”\n",
        "Strategy to use to generate predictions.\n",
        "\n",
        "“most_frequent”: the predict method always returns the most frequent class label in the observed y argument passed to fit. The predict_proba method returns the matching one-hot encoded vector.\n",
        "\n",
        "“prior”: the predict method always returns the most frequent class label in the observed y argument passed to fit (like “most_frequent”). predict_proba always returns the empirical class distribution of y also known as the empirical class prior distribution.\n",
        "\n",
        "“stratified”: the predict_proba method randomly samples one-hot vectors from a multinomial distribution parametrized by the empirical class prior probabilities. The predict method returns the class label which got probability one in the one-hot vector of predict_proba. Each sampled row of both methods is therefore independent and identically distributed.\n",
        "\n",
        "“uniform”: generates predictions uniformly at random from the list of unique classes observed in y, i.e. each class has equal probability.\n",
        "\n",
        "“constant”: always predicts a constant label that is provided by the user. This is useful for metrics that evaluate a non-majority class.\n",
        "\n",
        "2. score(X, y, sample_weight=None)[source]\n",
        "Return the mean accuracy on the given test data and labels."
      ],
      "metadata": {
        "id": "L5mr7tzQZCX7"
      }
    },
    {
      "cell_type": "markdown",
      "source": [
        "### Odata"
      ],
      "metadata": {
        "id": "pi0P896jc0aX"
      }
    },
    {
      "cell_type": "markdown",
      "source": [
        "####Trial"
      ],
      "metadata": {
        "id": "jg5OV5u2kXKG"
      }
    },
    {
      "cell_type": "code",
      "execution_count": null,
      "metadata": {
        "colab": {
          "base_uri": "https://localhost:8080/"
        },
        "id": "_olRRSYbbGVa",
        "outputId": "87b16267-7a37-41c3-ea45-a5ffcccc1152"
      },
      "outputs": [
        {
          "output_type": "execute_result",
          "data": {
            "text/plain": [
              "0.5714285714285714"
            ]
          },
          "metadata": {},
          "execution_count": 63
        }
      ],
      "source": [
        "from sklearn.dummy import DummyClassifier\n",
        "X_train0, X_test0 = [X[n] for n in trainlist[0]], [X[n] for n in testlist[0]]\n",
        "y_train0, y_test0 = [Y[n] for n in trainlist[0]], [Y[n] for n in testlist[0]]\n",
        "dummy_clf = DummyClassifier(strategy=\"most_frequent\")\n",
        "dummy_clf.fit(X_train0, y_train0)\n",
        "dummy_clf.predict(X_test0)\n",
        "dummy_clf.score(X_test0, y_test0)\n",
        "#Accuray: 67.06%"
      ]
    },
    {
      "cell_type": "code",
      "source": [
        "from sklearn.dummy import DummyClassifier\n",
        "X_train0, X_test0 = [X[n] for n in trainlist[0]], [X[n] for n in testlist[0]]\n",
        "y_train0, y_test0 = [Y[n] for n in trainlist[0]], [Y[n] for n in testlist[0]]\n",
        "dummy_clf = DummyClassifier(strategy=\"prior\")\n",
        "dummy_clf.fit(X_train0, y_train0)\n",
        "dummy_clf.predict(X_test0)\n",
        "dummy_clf.score(X_test0, y_test0)\n",
        "#Accuray: 67.06%"
      ],
      "metadata": {
        "colab": {
          "base_uri": "https://localhost:8080/"
        },
        "id": "jf-VoaM1bLwM",
        "outputId": "5ae9da90-61d5-4024-de27-37bd899baf7e"
      },
      "execution_count": null,
      "outputs": [
        {
          "output_type": "execute_result",
          "data": {
            "text/plain": [
              "0.5714285714285714"
            ]
          },
          "metadata": {},
          "execution_count": 64
        }
      ]
    },
    {
      "cell_type": "code",
      "source": [
        "from sklearn.dummy import DummyClassifier\n",
        "X_train0, X_test0 = [X[n] for n in trainlist[0]], [X[n] for n in testlist[0]]\n",
        "y_train0, y_test0 = [Y[n] for n in trainlist[0]], [Y[n] for n in testlist[0]]\n",
        "dummy_clf = DummyClassifier(strategy=\"uniform\")\n",
        "dummy_clf.fit(X_train0, y_train0)\n",
        "dummy_clf.predict(X_test0)\n",
        "dummy_clf.score(X_test0, y_test0)\n",
        "#Accuray: 67.06%"
      ],
      "metadata": {
        "colab": {
          "base_uri": "https://localhost:8080/"
        },
        "id": "ONlFbmywbP4A",
        "outputId": "904f2b7c-bd1c-4929-d593-1e23106c760c"
      },
      "execution_count": null,
      "outputs": [
        {
          "output_type": "execute_result",
          "data": {
            "text/plain": [
              "0.39285714285714285"
            ]
          },
          "metadata": {},
          "execution_count": 65
        }
      ]
    },
    {
      "cell_type": "code",
      "source": [
        "from sklearn.dummy import DummyClassifier\n",
        "X_train0, X_test0 = [X[n] for n in trainlist[0]], [X[n] for n in testlist[0]]\n",
        "y_train0, y_test0 = [Y[n] for n in trainlist[0]], [Y[n] for n in testlist[0]]\n",
        "dummy_clf = DummyClassifier(strategy=\"stratified\")\n",
        "dummy_clf.fit(X_train0, y_train0)\n",
        "dummy_clf.predict(X_test0)\n",
        "dummy_clf.score(X_test0, y_test0)\n",
        "#Accuray: 67.06%"
      ],
      "metadata": {
        "colab": {
          "base_uri": "https://localhost:8080/"
        },
        "id": "gPKYJOG6bTxw",
        "outputId": "32261ca9-9781-4c79-df58-53f2855ac537"
      },
      "execution_count": null,
      "outputs": [
        {
          "output_type": "execute_result",
          "data": {
            "text/plain": [
              "0.39285714285714285"
            ]
          },
          "metadata": {},
          "execution_count": 66
        }
      ]
    },
    {
      "cell_type": "markdown",
      "source": [
        "####LOCO"
      ],
      "metadata": {
        "id": "iJucfIHYkZ1q"
      }
    },
    {
      "cell_type": "code",
      "execution_count": null,
      "metadata": {
        "colab": {
          "base_uri": "https://localhost:8080/"
        },
        "id": "AmGPk7vSmpvk",
        "outputId": "6237c216-f65f-44c2-f175-5273d478ca97"
      },
      "outputs": [
        {
          "output_type": "stream",
          "name": "stdout",
          "text": [
            "Average Accuray: 53.83%\n",
            "Whole Accuray: 55.99%\n",
            "Model AUC_ROC: 0.5000\n"
          ]
        }
      ],
      "source": [
        "# Dummy Classifier LOCO - prior\n",
        "y_true, y_pred1 = list(), list()\n",
        "acc_l = []\n",
        "n = 1\n",
        "for i in range(len(testlist)):\n",
        " #print('Left chrom: ', labels[i], '\\n')\n",
        " # split data\n",
        " X_train1, X_test1 = [X[i] for i in trainlist[i]], [X[i] for i in testlist[i]]\n",
        " y_train1, y_test1 = [Y[i] for i in trainlist[i]], [Y[i] for i in testlist[i]]\n",
        "#  print(f\"Iteration {n}\\n\")\n",
        " #print('Train: ', X_train1, '\\n')\n",
        " #print('Test: ', X_test1, '\\n')\n",
        " # fit model\n",
        " dummy_clf = DummyClassifier(strategy=\"prior\")\n",
        " dummy_clf.fit(X_train1, y_train1)\n",
        " # evaluate model\n",
        " yhat = dummy_clf.predict(X_test1)\n",
        " #print('True y: ', y_test1, '\\n')\n",
        " #print('Estimated y: ', yhat, '\\n')\n",
        " acc = accuracy_score(y_test1, yhat)\n",
        "#  print('Iteration accruacy: ', acc, '\\n')\n",
        " acc_l.append(acc)\n",
        " # store\n",
        " y_true.append(y_test1)\n",
        " y_pred1.append(yhat)\n",
        " n+=1\n",
        "# Check results\n",
        "#print('True y all: ', y_true, '\\n')\n",
        "#print('Estimated y all: ', y_pred1, '\\n')\n",
        "y_true = np.concatenate(y_true)\n",
        "y_pred1 = np.concatenate(y_pred1)\n",
        "#print('True y all: ', y_true, '\\n')\n",
        "#print('Estimated y all: ', y_pred1, '\\n')\n",
        "#print('Prediction size: ', y_pred1.shape, '\\n')\n",
        "# calculate accuracy\n",
        "acc_dy_prior_loco = np.mean(acc_l)\n",
        "acc_w_dy_prior_loco = accuracy_score(y_true, y_pred1)\n",
        "auc_dy_prior_loco = roc_auc_score(y_true, y_pred1)\n",
        "print(\"Average Accuray: {:.2f}%\".format(100*acc_dy_prior_loco))\n",
        "print(\"Whole Accuray: {:.2f}%\".format(100*acc_w_dy_prior_loco))\n",
        "print(\"Model AUC_ROC: {:.4f}\".format(auc_dy_prior_loco))"
      ]
    },
    {
      "cell_type": "code",
      "source": [
        "# Dummy Classifier LOCO - stratified\n",
        "\n",
        "acc_dy_stratified_loco=[]\n",
        "acc_w_dy_stratified_loco=[]\n",
        "auc_dy_stratified_loco=[]\n",
        "\n",
        "for r in range(20):\n",
        "  y_true, y_pred1 = list(), list()\n",
        "  acc_l = []\n",
        "  n = 1\n",
        "  for i in range(len(testlist)):\n",
        "    #print('Left chrom: ', labels[i], '\\n')\n",
        "    # split data\n",
        "    X_train1, X_test1 = [X[n] for n in trainlist[i]], [X[n] for n in testlist[i]]\n",
        "    y_train1, y_test1 = [Y[n] for n in trainlist[i]], [Y[n] for n in testlist[i]]\n",
        "    #  print(f\"Iteration {n}\\n\")\n",
        "    #print('Train: ', X_train1, '\\n')\n",
        "    #print('Test: ', X_test1, '\\n')\n",
        "    # fit model\n",
        "    dummy_clf = DummyClassifier(strategy=\"stratified\",random_state=r)\n",
        "    dummy_clf.fit(X_train1, y_train1)\n",
        "    # evaluate model\n",
        "    yhat = dummy_clf.predict(X_test1)\n",
        "    #print('True y: ', y_test1, '\\n')\n",
        "    #print('Estimated y: ', yhat, '\\n')\n",
        "    acc = accuracy_score(y_test1, yhat)\n",
        "    #  print('Iteration accruacy: ', acc, '\\n')\n",
        "    acc_l.append(acc)\n",
        "    # store\n",
        "    y_true.append(y_test1)\n",
        "    y_pred1.append(yhat)\n",
        "    n+=1\n",
        "    # Check results\n",
        "    #print('True y all: ', y_true, '\\n')\n",
        "    #print('Estimated y all: ', y_pred1, '\\n')\n",
        "  y_true = np.concatenate(y_true)\n",
        "  y_pred1 = np.concatenate(y_pred1)\n",
        "  #print('True y all: ', y_true, '\\n')\n",
        "  #print('Estimated y all: ', y_pred1, '\\n')\n",
        "  #print('Prediction size: ', y_pred1.shape, '\\n')\n",
        "  # calculate accuracy\n",
        "  acc_dy_stratified_loco.append(np.mean(acc_l))\n",
        "  acc_w_dy_stratified_loco.append(accuracy_score(y_true, y_pred1))\n",
        "  auc_dy_stratified_loco.append(roc_auc_score(y_true, y_pred1))\n",
        "\n",
        "acc = np.mean(acc_dy_stratified_loco)\n",
        "acc_w = np.mean(acc_w_dy_stratified_loco)\n",
        "auc = np.mean(auc_dy_stratified_loco)\n",
        "print(\"Average Accuray: {:.2f}%\".format(100*acc))\n",
        "print(\"Whole Accuray: {:.2f}%\".format(100*acc_w))\n",
        "print(\"Model AUC_ROC: {:.4f}\".format(auc))\n",
        "print(acc_w_dy_stratified_loco)"
      ],
      "metadata": {
        "colab": {
          "base_uri": "https://localhost:8080/"
        },
        "id": "CroCvrhkcQTU",
        "outputId": "c7ccabb7-cde1-4a2a-9b01-98059cb51cd6"
      },
      "execution_count": null,
      "outputs": [
        {
          "output_type": "stream",
          "name": "stdout",
          "text": [
            "Average Accuray: 49.93%\n",
            "Whole Accuray: 50.22%\n",
            "Model AUC_ROC: 0.4925\n",
            "[0.4940119760479042, 0.5269461077844312, 0.5389221556886228, 0.48502994011976047, 0.5179640718562875, 0.4820359281437126, 0.5059880239520959, 0.4431137724550898, 0.5389221556886228, 0.5359281437125748, 0.5269461077844312, 0.48502994011976047, 0.47904191616766467, 0.4820359281437126, 0.4880239520958084, 0.5449101796407185, 0.4820359281437126, 0.49101796407185627, 0.49101796407185627, 0.5059880239520959]\n"
          ]
        }
      ]
    },
    {
      "cell_type": "code",
      "source": [
        "# Dummy Classifier LOCO - uniform\n",
        "y_true, y_pred1 = list(), list()\n",
        "acc_l = []\n",
        "n = 1\n",
        "for i in range(len(testlist)):\n",
        " #print('Left chrom: ', labels[i], '\\n')\n",
        " # split data\n",
        " X_train1, X_test1 = [X[i] for i in trainlist[i]], [X[i] for i in testlist[i]]\n",
        " y_train1, y_test1 = [Y[i] for i in trainlist[i]], [Y[i] for i in testlist[i]]\n",
        "#  print(f\"Iteration {n}\\n\")\n",
        " #print('Train: ', X_train1, '\\n')\n",
        " #print('Test: ', X_test1, '\\n')\n",
        " # fit model\n",
        " dummy_clf = DummyClassifier(strategy=\"uniform\")\n",
        " dummy_clf.fit(X_train1, y_train1)\n",
        " # evaluate model\n",
        " yhat = dummy_clf.predict(X_test1)\n",
        " #print('True y: ', y_test1, '\\n')\n",
        " #print('Estimated y: ', yhat, '\\n')\n",
        " acc = accuracy_score(y_test1, yhat)\n",
        "#  print('Iteration accruacy: ', acc, '\\n')\n",
        " acc_l.append(acc)\n",
        " # store\n",
        " y_true.append(y_test1)\n",
        " y_pred1.append(yhat)\n",
        " n+=1\n",
        "# Check results\n",
        "#print('True y all: ', y_true, '\\n')\n",
        "#print('Estimated y all: ', y_pred1, '\\n')\n",
        "y_true = np.concatenate(y_true)\n",
        "y_pred1 = np.concatenate(y_pred1)\n",
        "#print('True y all: ', y_true, '\\n')\n",
        "#print('Estimated y all: ', y_pred1, '\\n')\n",
        "#print('Prediction size: ', y_pred1.shape, '\\n')\n",
        "# calculate accuracy\n",
        "acc_dy_uni_loco = np.mean(acc_l)\n",
        "acc_w_dy_uni_loco = accuracy_score(y_true, y_pred1)\n",
        "auc_dy_uni_loco = roc_auc_score(y_true, y_pred1)\n",
        "print(\"Average Accuray: {:.2f}%\".format(100*acc_dy_uni_loco))\n",
        "print(\"Whole Accuray: {:.2f}%\".format(100*acc_w_dy_uni_loco))\n",
        "print(\"Model AUC_ROC: {:.4f}\".format(auc_dy_uni_loco))"
      ],
      "metadata": {
        "colab": {
          "base_uri": "https://localhost:8080/"
        },
        "id": "diPEjkfEccxH",
        "outputId": "0cd2d64e-fc99-4ae3-dddb-9ed3cd755a26"
      },
      "execution_count": null,
      "outputs": [
        {
          "output_type": "stream",
          "name": "stdout",
          "text": [
            "Average Accuray: 49.60%\n",
            "Whole Accuray: 50.30%\n",
            "Model AUC_ROC: 0.5016\n"
          ]
        }
      ]
    },
    {
      "cell_type": "code",
      "source": [
        "# Dummy Classifier LOCO - most_frequent - same with \"prior\"\n",
        "y_true, y_pred1 = list(), list()\n",
        "acc_l = []\n",
        "n = 1\n",
        "for i in range(len(testlist)):\n",
        " #print('Left chrom: ', labels[i], '\\n')\n",
        " # split data\n",
        " X_train1, X_test1 = [X[i] for i in trainlist[i]], [X[i] for i in testlist[i]]\n",
        " y_train1, y_test1 = [Y[i] for i in trainlist[i]], [Y[i] for i in testlist[i]]\n",
        "#  print(f\"Iteration {n}\\n\")\n",
        " #print('Train: ', X_train1, '\\n')\n",
        " #print('Test: ', X_test1, '\\n')\n",
        " # fit model\n",
        " dummy_clf = DummyClassifier(strategy=\"most_frequent\")\n",
        " dummy_clf.fit(X_train1, y_train1)\n",
        " # evaluate model\n",
        " yhat = dummy_clf.predict(X_test1)\n",
        " #print('True y: ', y_test1, '\\n')\n",
        " #print('Estimated y: ', yhat, '\\n')\n",
        " acc = accuracy_score(y_test1, yhat)\n",
        "#  print('Iteration accruacy: ', acc, '\\n')\n",
        " acc_l.append(acc)\n",
        " # store\n",
        " y_true.append(y_test1)\n",
        " y_pred1.append(yhat)\n",
        " n+=1\n",
        "# Check results\n",
        "#print('True y all: ', y_true, '\\n')\n",
        "#print('Estimated y all: ', y_pred1, '\\n')\n",
        "y_true = np.concatenate(y_true)\n",
        "y_pred1 = np.concatenate(y_pred1)\n",
        "#print('True y all: ', y_true, '\\n')\n",
        "#print('Estimated y all: ', y_pred1, '\\n')\n",
        "#print('Prediction size: ', y_pred1.shape, '\\n')\n",
        "# calculate accuracy\n",
        "acc_dy_fre_loco = np.mean(acc_l)\n",
        "acc_w_dy_fre_loco = accuracy_score(y_true, y_pred1)\n",
        "auc_dy_fre_loco = roc_auc_score(y_true, y_pred1)\n",
        "print(\"Average Accuray: {:.2f}%\".format(100*acc_dy_fre_loco))\n",
        "print(\"Whole Accuray: {:.2f}%\".format(100*acc_w_dy_fre_loco))\n",
        "print(\"Model AUC_ROC: {:.4f}\".format(auc_dy_fre_loco))"
      ],
      "metadata": {
        "colab": {
          "base_uri": "https://localhost:8080/"
        },
        "id": "7B9Q-8HqchRB",
        "outputId": "2d5b5c7c-13e2-4af9-a37b-33a32d1fe97e"
      },
      "execution_count": null,
      "outputs": [
        {
          "output_type": "stream",
          "name": "stdout",
          "text": [
            "Average Accuray: 53.83%\n",
            "Whole Accuray: 55.99%\n",
            "Model AUC_ROC: 0.5000\n"
          ]
        }
      ]
    },
    {
      "cell_type": "markdown",
      "source": [
        "#### K-fold testing"
      ],
      "metadata": {
        "id": "yOD8Nv-UctzS"
      }
    },
    {
      "cell_type": "code",
      "source": [
        "# Rebuild testing folds by KFold split\n",
        "k = len(testlist) #same fold number with LOCO\n",
        "from sklearn.model_selection import KFold\n",
        "kfold = KFold(n_splits=k, shuffle=True, random_state=42)\n",
        "testlist = []\n",
        "trainlist = []\n",
        "for train_indexes, test_indexes in kfold.split(X):\n",
        "    testlist.append(test_indexes)\n",
        "    trainlist.append(train_indexes)\n",
        "\n",
        "vlist = testlist[1:] + [testlist[0]]\n",
        "\n",
        "for i in range(len(testlist)):\n",
        "    print(f\"Training set: {len(vlist[i])}, {vlist[i][0]};\")\n",
        "    print(f\"Testing set: {len(testlist[i])}, {testlist[i][0]};\")\n",
        "    print(f\"Validation set: {len(trainlist[i])};\")"
      ],
      "metadata": {
        "colab": {
          "base_uri": "https://localhost:8080/"
        },
        "id": "dBafScx3OMf6",
        "outputId": "b5b369ed-718d-4021-b014-e67f5e0651e2"
      },
      "execution_count": null,
      "outputs": [
        {
          "output_type": "stream",
          "name": "stdout",
          "text": [
            "Training set: 37, 3;\n",
            "Testing set: 38, 5;\n",
            "Validation set: 296;\n",
            "Training set: 37, 6;\n",
            "Testing set: 37, 3;\n",
            "Validation set: 297;\n",
            "Training set: 37, 18;\n",
            "Testing set: 37, 6;\n",
            "Validation set: 297;\n",
            "Training set: 37, 2;\n",
            "Testing set: 37, 18;\n",
            "Validation set: 297;\n",
            "Training set: 37, 0;\n",
            "Testing set: 37, 2;\n",
            "Validation set: 297;\n",
            "Training set: 37, 4;\n",
            "Testing set: 37, 0;\n",
            "Validation set: 297;\n",
            "Training set: 37, 1;\n",
            "Testing set: 37, 4;\n",
            "Validation set: 297;\n",
            "Training set: 37, 20;\n",
            "Testing set: 37, 1;\n",
            "Validation set: 297;\n",
            "Training set: 38, 5;\n",
            "Testing set: 37, 20;\n",
            "Validation set: 297;\n"
          ]
        }
      ]
    },
    {
      "cell_type": "code",
      "execution_count": null,
      "metadata": {
        "colab": {
          "base_uri": "https://localhost:8080/"
        },
        "outputId": "6352a2c4-360e-426a-c172-c8514330a934",
        "id": "bRqmL1SjPWBw"
      },
      "outputs": [
        {
          "output_type": "stream",
          "name": "stdout",
          "text": [
            "Average Accuray: 56.02%\n",
            "Whole Accuray: 55.99%\n",
            "Model AUC_ROC: 0.5000\n"
          ]
        }
      ],
      "source": [
        "# Dummy Classifier K - prior\n",
        "y_true, y_pred1 = list(), list()\n",
        "acc_l = []\n",
        "n = 1\n",
        "for i in range(len(testlist)):\n",
        " #print('Left chrom: ', labels[i], '\\n')\n",
        " # split data\n",
        " X_train1, X_test1 = [X[n] for n in trainlist[i]], [X[n] for n in testlist[i]]\n",
        " y_train1, y_test1 = [Y[n] for n in trainlist[i]], [Y[n] for n in testlist[i]]\n",
        "#  print(f\"Iteration {n}\\n\")\n",
        " #print('Train: ', X_train1, '\\n')\n",
        " #print('Test: ', X_test1, '\\n')\n",
        " # fit model\n",
        " dummy_clf = DummyClassifier(strategy=\"prior\")\n",
        " dummy_clf.fit(X_train1, y_train1)\n",
        " # evaluate model\n",
        " yhat = dummy_clf.predict(X_test1)\n",
        " #print('True y: ', y_test1, '\\n')\n",
        " #print('Estimated y: ', yhat, '\\n')\n",
        " acc = accuracy_score(y_test1, yhat)\n",
        "#  print('Iteration accruacy: ', acc, '\\n')\n",
        " acc_l.append(acc)\n",
        " # store\n",
        " y_true.append(y_test1)\n",
        " y_pred1.append(yhat)\n",
        " n+=1\n",
        "# Check results\n",
        "#print('True y all: ', y_true, '\\n')\n",
        "#print('Estimated y all: ', y_pred1, '\\n')\n",
        "y_true = np.concatenate(y_true)\n",
        "y_pred1 = np.concatenate(y_pred1)\n",
        "#print('True y all: ', y_true, '\\n')\n",
        "#print('Estimated y all: ', y_pred1, '\\n')\n",
        "#print('Prediction size: ', y_pred1.shape, '\\n')\n",
        "# calculate accuracy\n",
        "acc_dy_prior_k = np.mean(acc_l)\n",
        "acc_w_dy_prior_k = accuracy_score(y_true, y_pred1)\n",
        "auc_dy_prior_k = roc_auc_score(y_true, y_pred1)\n",
        "print(\"Average Accuray: {:.2f}%\".format(100*acc_dy_prior_k))\n",
        "print(\"Whole Accuray: {:.2f}%\".format(100*acc_w_dy_prior_k))\n",
        "print(\"Model AUC_ROC: {:.4f}\".format(auc_dy_prior_k))"
      ]
    },
    {
      "cell_type": "code",
      "source": [
        "# Dummy Classifier k - stratified\n",
        "\n",
        "acc_dy_stratified_k=[]\n",
        "acc_w_dy_stratified_k=[]\n",
        "auc_dy_stratified_k=[]\n",
        "\n",
        "for r in range(20):\n",
        "  y_true, y_pred1 = list(), list()\n",
        "  acc_l = []\n",
        "  n = 1\n",
        "  for i in range(len(testlist)):\n",
        "    #print('Left chrom: ', labels[i], '\\n')\n",
        "    # split data\n",
        "    X_train1, X_test1 = [X[n] for n in trainlist[i]], [X[n] for n in testlist[i]]\n",
        "    y_train1, y_test1 = [Y[n] for n in trainlist[i]], [Y[n] for n in testlist[i]]\n",
        "    #  print(f\"Iteration {n}\\n\")\n",
        "    #print('Train: ', X_train1, '\\n')\n",
        "    #print('Test: ', X_test1, '\\n')\n",
        "    # fit model\n",
        "    dummy_clf = DummyClassifier(strategy=\"stratified\",random_state=r)\n",
        "    dummy_clf.fit(X_train1, y_train1)\n",
        "    # evaluate model\n",
        "    yhat = dummy_clf.predict(X_test1)\n",
        "    #print('True y: ', y_test1, '\\n')\n",
        "    #print('Estimated y: ', yhat, '\\n')\n",
        "    acc = accuracy_score(y_test1, yhat)\n",
        "    #  print('Iteration accruacy: ', acc, '\\n')\n",
        "    acc_l.append(acc)\n",
        "    # store\n",
        "    y_true.append(y_test1)\n",
        "    y_pred1.append(yhat)\n",
        "    n+=1\n",
        "    # Check results\n",
        "    #print('True y all: ', y_true, '\\n')\n",
        "    #print('Estimated y all: ', y_pred1, '\\n')\n",
        "  y_true = np.concatenate(y_true)\n",
        "  y_pred1 = np.concatenate(y_pred1)\n",
        "  #print('True y all: ', y_true, '\\n')\n",
        "  #print('Estimated y all: ', y_pred1, '\\n')\n",
        "  #print('Prediction size: ', y_pred1.shape, '\\n')\n",
        "  # calculate accuracy\n",
        "  acc_dy_stratified_k.append(np.mean(acc_l))\n",
        "  acc_w_dy_stratified_k.append(accuracy_score(y_true, y_pred1))\n",
        "  auc_dy_stratified_k.append(roc_auc_score(y_true, y_pred1))\n",
        "\n",
        "acc = np.mean(acc_dy_stratified_k)\n",
        "acc_w = np.mean(acc_w_dy_stratified_k)\n",
        "auc = np.mean(auc_dy_stratified_k)\n",
        "print(\"Average Accuray: {:.2f}%\".format(100*acc))\n",
        "print(\"Whole Accuray: {:.2f}%\".format(100*acc_w))\n",
        "print(\"Model AUC_ROC: {:.4f}\".format(auc))\n",
        "print(acc_w_dy_stratified_k)"
      ],
      "metadata": {
        "colab": {
          "base_uri": "https://localhost:8080/"
        },
        "outputId": "b06912e4-6789-40b4-df61-3d09453b681f",
        "id": "ecN1AT_ZPWBx"
      },
      "execution_count": null,
      "outputs": [
        {
          "output_type": "stream",
          "name": "stdout",
          "text": [
            "Average Accuray: 50.42%\n",
            "Whole Accuray: 50.42%\n",
            "Model AUC_ROC: 0.4942\n",
            "[0.49700598802395207, 0.5149700598802395, 0.5239520958083832, 0.4880239520958084, 0.5389221556886228, 0.4940119760479042, 0.46407185628742514, 0.5059880239520959, 0.4880239520958084, 0.4221556886227545, 0.5, 0.5419161676646707, 0.47305389221556887, 0.5538922155688623, 0.46706586826347307, 0.4311377245508982, 0.562874251497006, 0.5479041916167665, 0.48502994011976047, 0.5838323353293413]\n"
          ]
        }
      ]
    },
    {
      "cell_type": "code",
      "source": [
        "# Dummy Classifier k - uniform\n",
        "y_true, y_pred1 = list(), list()\n",
        "acc_l = []\n",
        "n = 1\n",
        "for i in range(len(testlist)):\n",
        " #print('Left chrom: ', labels[i], '\\n')\n",
        " # split data\n",
        " X_train1, X_test1 = [X[i] for i in trainlist[i]], [X[i] for i in testlist[i]]\n",
        " y_train1, y_test1 = [Y[i] for i in trainlist[i]], [Y[i] for i in testlist[i]]\n",
        "#  print(f\"Iteration {n}\\n\")\n",
        " #print('Train: ', X_train1, '\\n')\n",
        " #print('Test: ', X_test1, '\\n')\n",
        " # fit model\n",
        " dummy_clf = DummyClassifier(strategy=\"uniform\")\n",
        " dummy_clf.fit(X_train1, y_train1)\n",
        " # evaluate model\n",
        " yhat = dummy_clf.predict(X_test1)\n",
        " #print('True y: ', y_test1, '\\n')\n",
        " #print('Estimated y: ', yhat, '\\n')\n",
        " acc = accuracy_score(y_test1, yhat)\n",
        "#  print('Iteration accruacy: ', acc, '\\n')\n",
        " acc_l.append(acc)\n",
        " # store\n",
        " y_true.append(y_test1)\n",
        " y_pred1.append(yhat)\n",
        " n+=1\n",
        "# Check results\n",
        "#print('True y all: ', y_true, '\\n')\n",
        "#print('Estimated y all: ', y_pred1, '\\n')\n",
        "y_true = np.concatenate(y_true)\n",
        "y_pred1 = np.concatenate(y_pred1)\n",
        "#print('True y all: ', y_true, '\\n')\n",
        "#print('Estimated y all: ', y_pred1, '\\n')\n",
        "#print('Prediction size: ', y_pred1.shape, '\\n')\n",
        "# calculate accuracy\n",
        "acc_dy_uni_k = np.mean(acc_l)\n",
        "acc_w_dy_uni_k = accuracy_score(y_true, y_pred1)\n",
        "auc_dy_uni_k = roc_auc_score(y_true, y_pred1)\n",
        "print(\"Average Accuray: {:.2f}%\".format(100*acc_dy_uni_k))\n",
        "print(\"Whole Accuray: {:.2f}%\".format(100*acc_w_dy_uni_k))\n",
        "print(\"Model AUC_ROC: {:.4f}\".format(auc_dy_uni_k))"
      ],
      "metadata": {
        "colab": {
          "base_uri": "https://localhost:8080/"
        },
        "outputId": "0b34f116-d6b0-4142-ed21-6c89c53c3b3e",
        "id": "TfAS9A_gPWBx"
      },
      "execution_count": null,
      "outputs": [
        {
          "output_type": "stream",
          "name": "stdout",
          "text": [
            "Average Accuray: 50.58%\n",
            "Whole Accuray: 50.60%\n",
            "Model AUC_ROC: 0.5086\n"
          ]
        }
      ]
    },
    {
      "cell_type": "code",
      "source": [
        "# Dummy Classifier k - most_frequent - same with \"prior\"\n",
        "y_true, y_pred1 = list(), list()\n",
        "acc_l = []\n",
        "n = 1\n",
        "for i in range(len(testlist)):\n",
        " #print('Left chrom: ', labels[i], '\\n')\n",
        " # split data\n",
        " X_train1, X_test1 = [X[i] for i in trainlist[i]], [X[i] for i in testlist[i]]\n",
        " y_train1, y_test1 = [Y[i] for i in trainlist[i]], [Y[i] for i in testlist[i]]\n",
        "#  print(f\"Iteration {n}\\n\")\n",
        " #print('Train: ', X_train1, '\\n')\n",
        " #print('Test: ', X_test1, '\\n')\n",
        " # fit model\n",
        " dummy_clf = DummyClassifier(strategy=\"most_frequent\")\n",
        " dummy_clf.fit(X_train1, y_train1)\n",
        " # evaluate model\n",
        " yhat = dummy_clf.predict(X_test1)\n",
        " #print('True y: ', y_test1, '\\n')\n",
        " #print('Estimated y: ', yhat, '\\n')\n",
        " acc = accuracy_score(y_test1, yhat)\n",
        "#  print('Iteration accruacy: ', acc, '\\n')\n",
        " acc_l.append(acc)\n",
        " # store\n",
        " y_true.append(y_test1)\n",
        " y_pred1.append(yhat)\n",
        " n+=1\n",
        "# Check results\n",
        "#print('True y all: ', y_true, '\\n')\n",
        "#print('Estimated y all: ', y_pred1, '\\n')\n",
        "y_true = np.concatenate(y_true)\n",
        "y_pred1 = np.concatenate(y_pred1)\n",
        "#print('True y all: ', y_true, '\\n')\n",
        "#print('Estimated y all: ', y_pred1, '\\n')\n",
        "#print('Prediction size: ', y_pred1.shape, '\\n')\n",
        "# calculate accuracy\n",
        "acc_dy_fre_k = np.mean(acc_l)\n",
        "acc_w_dy_fre_k = accuracy_score(y_true, y_pred1)\n",
        "auc_dy_fre_k = roc_auc_score(y_true, y_pred1)\n",
        "print(\"Average Accuray: {:.2f}%\".format(100*acc_dy_fre_k))\n",
        "print(\"Whole Accuray: {:.2f}%\".format(100*acc_w_dy_fre_k))\n",
        "print(\"Model AUC_ROC: {:.4f}\".format(auc_dy_fre_k))"
      ],
      "metadata": {
        "colab": {
          "base_uri": "https://localhost:8080/"
        },
        "outputId": "8fe20bec-1e10-4e16-c124-a65f04b2567e",
        "id": "_QmRGh-rPWBy"
      },
      "execution_count": null,
      "outputs": [
        {
          "output_type": "stream",
          "name": "stdout",
          "text": [
            "Average Accuray: 56.02%\n",
            "Whole Accuray: 55.99%\n",
            "Model AUC_ROC: 0.5000\n"
          ]
        }
      ]
    },
    {
      "cell_type": "markdown",
      "source": [
        "### GKBdata"
      ],
      "metadata": {
        "id": "_GcXerH8kw5-"
      }
    },
    {
      "cell_type": "markdown",
      "source": [
        "####Trial"
      ],
      "metadata": {
        "id": "1NIOHDunkw6B"
      }
    },
    {
      "cell_type": "code",
      "execution_count": null,
      "metadata": {
        "id": "6UTZSO4rkw6C",
        "colab": {
          "base_uri": "https://localhost:8080/"
        },
        "outputId": "5c9ba4b7-3370-4772-d79c-0e3c038bee1a"
      },
      "outputs": [
        {
          "output_type": "execute_result",
          "data": {
            "text/plain": [
              "0.4473684210526316"
            ]
          },
          "metadata": {},
          "execution_count": 76
        }
      ],
      "source": [
        "from sklearn.dummy import DummyClassifier\n",
        "X_train0, X_test0 = [X[n] for n in trainlist[0]], [X[n] for n in testlist[0]]\n",
        "y_train0, y_test0 = [Y[n] for n in trainlist[0]], [Y[n] for n in testlist[0]]\n",
        "dummy_clf = DummyClassifier(strategy=\"most_frequent\")\n",
        "dummy_clf.fit(X_train0, y_train0)\n",
        "dummy_clf.predict(X_test0)\n",
        "dummy_clf.score(X_test0, y_test0)\n",
        "#Accuray: 67.06%"
      ]
    },
    {
      "cell_type": "code",
      "source": [
        "from sklearn.dummy import DummyClassifier\n",
        "X_train0, X_test0 = [X[n] for n in trainlist[0]], [X[n] for n in testlist[0]]\n",
        "y_train0, y_test0 = [Y[n] for n in trainlist[0]], [Y[n] for n in testlist[0]]\n",
        "dummy_clf = DummyClassifier(strategy=\"prior\")\n",
        "dummy_clf.fit(X_train0, y_train0)\n",
        "dummy_clf.predict(X_test0)\n",
        "dummy_clf.score(X_test0, y_test0)\n",
        "#Accuray: 67.06%"
      ],
      "metadata": {
        "id": "YVO9Y4c4kw6E",
        "colab": {
          "base_uri": "https://localhost:8080/"
        },
        "outputId": "8de74b80-5b1c-4900-9ced-762f253f3665"
      },
      "execution_count": null,
      "outputs": [
        {
          "output_type": "execute_result",
          "data": {
            "text/plain": [
              "0.4473684210526316"
            ]
          },
          "metadata": {},
          "execution_count": 77
        }
      ]
    },
    {
      "cell_type": "code",
      "source": [
        "from sklearn.dummy import DummyClassifier\n",
        "X_train0, X_test0 = [X[n] for n in trainlist[0]], [X[n] for n in testlist[0]]\n",
        "y_train0, y_test0 = [Y[n] for n in trainlist[0]], [Y[n] for n in testlist[0]]\n",
        "dummy_clf = DummyClassifier(strategy=\"uniform\")\n",
        "dummy_clf.fit(X_train0, y_train0)\n",
        "dummy_clf.predict(X_test0)\n",
        "dummy_clf.score(X_test0, y_test0)\n",
        "#Accuray: 67.06%"
      ],
      "metadata": {
        "id": "_iO-zB-Hkw6F",
        "colab": {
          "base_uri": "https://localhost:8080/"
        },
        "outputId": "49e789bb-7943-43a8-c417-13b7b2cc219c"
      },
      "execution_count": null,
      "outputs": [
        {
          "output_type": "execute_result",
          "data": {
            "text/plain": [
              "0.5526315789473685"
            ]
          },
          "metadata": {},
          "execution_count": 78
        }
      ]
    },
    {
      "cell_type": "code",
      "source": [
        "from sklearn.dummy import DummyClassifier\n",
        "X_train0, X_test0 = [X[n] for n in trainlist[0]], [X[n] for n in testlist[0]]\n",
        "y_train0, y_test0 = [Y[n] for n in trainlist[0]], [Y[n] for n in testlist[0]]\n",
        "dummy_clf = DummyClassifier(strategy=\"stratified\")\n",
        "dummy_clf.fit(X_train0, y_train0)\n",
        "dummy_clf.predict(X_test0)\n",
        "dummy_clf.score(X_test0, y_test0)\n",
        "#Accuray: 67.06%"
      ],
      "metadata": {
        "id": "e7Ycdw1Lkw6H",
        "colab": {
          "base_uri": "https://localhost:8080/"
        },
        "outputId": "0e4e470b-167a-41cd-a18d-2641bf61933f"
      },
      "execution_count": null,
      "outputs": [
        {
          "output_type": "execute_result",
          "data": {
            "text/plain": [
              "0.39473684210526316"
            ]
          },
          "metadata": {},
          "execution_count": 79
        }
      ]
    },
    {
      "cell_type": "markdown",
      "source": [
        "####LOCO"
      ],
      "metadata": {
        "id": "oNRr25TGkw6I"
      }
    },
    {
      "cell_type": "code",
      "execution_count": null,
      "metadata": {
        "colab": {
          "base_uri": "https://localhost:8080/"
        },
        "outputId": "b532c4e6-b308-46e0-b7ee-9f8c1665b495",
        "id": "JLatRsXukw6J"
      },
      "outputs": [
        {
          "output_type": "stream",
          "name": "stdout",
          "text": [
            "Average Accuray: 49.56%\n",
            "Whole Accuray: 45.57%\n",
            "Model AUC_ROC: 0.4463\n"
          ]
        }
      ],
      "source": [
        "# Dummy Classifier LOCO - prior\n",
        "y_true, y_pred1 = list(), list()\n",
        "acc_l = []\n",
        "n = 1\n",
        "for i in range(len(testlist2)):\n",
        " #print('Left chrom: ', labels[i], '\\n')\n",
        " # split data\n",
        " X_train1, X_test1 = [gkb_X[n] for n in trainlist2[i]], [gkb_X[n] for n in testlist2[i]]\n",
        " y_train1, y_test1 = [gkb_Y[n] for n in trainlist2[i]], [gkb_Y[n] for n in testlist2[i]]\n",
        "#  print(f\"Iteration {n}\\n\")\n",
        " #print('Train: ', X_train1, '\\n')\n",
        " #print('Test: ', X_test1, '\\n')\n",
        " # fit model\n",
        " dummy_clf = DummyClassifier(strategy=\"prior\")\n",
        " dummy_clf.fit(X_train1, y_train1)\n",
        " # evaluate model\n",
        " yhat = dummy_clf.predict(X_test1)\n",
        " #print('True y: ', y_test1, '\\n')\n",
        " #print('Estimated y: ', yhat, '\\n')\n",
        " acc = accuracy_score(y_test1, yhat)\n",
        "#  print('Iteration accruacy: ', acc, '\\n')\n",
        " acc_l.append(acc)\n",
        " # store\n",
        " y_true.append(y_test1)\n",
        " y_pred1.append(yhat)\n",
        " n+=1\n",
        "# Check results\n",
        "#print('True y all: ', y_true, '\\n')\n",
        "#print('Estimated y all: ', y_pred1, '\\n')\n",
        "y_true = np.concatenate(y_true)\n",
        "y_pred1 = np.concatenate(y_pred1)\n",
        "#print('True y all: ', y_true, '\\n')\n",
        "#print('Estimated y all: ', y_pred1, '\\n')\n",
        "#print('Prediction size: ', y_pred1.shape, '\\n')\n",
        "# calculate accuracy\n",
        "acc_dy_prior_loco2 = np.mean(acc_l)\n",
        "acc_w_dy_prior_loco2 = accuracy_score(y_true, y_pred1)\n",
        "auc_dy_prior_loco2 = roc_auc_score(y_true, y_pred1)\n",
        "print(\"Average Accuray: {:.2f}%\".format(100*acc_dy_prior_loco2))\n",
        "print(\"Whole Accuray: {:.2f}%\".format(100*acc_w_dy_prior_loco2))\n",
        "print(\"Model AUC_ROC: {:.4f}\".format(auc_dy_prior_loco2))"
      ]
    },
    {
      "cell_type": "code",
      "source": [
        "# Dummy Classifier LOCO - stratified\n",
        "\n",
        "acc_dy_stratified_loco2=[]\n",
        "acc_w_dy_stratified_loco2=[]\n",
        "auc_dy_stratified_loco2=[]\n",
        "\n",
        "for r in range(20):\n",
        "  y_true, y_pred1 = list(), list()\n",
        "  acc_l = []\n",
        "  n = 1\n",
        "  for i in range(len(testlist2)):\n",
        "    #print('Left chrom: ', labels[i], '\\n')\n",
        "    # split data\n",
        "    X_train1, X_test1 = [gkb_X[n] for n in trainlist2[i]], [gkb_X[n] for n in testlist2[i]]\n",
        "    y_train1, y_test1 = [gkb_Y[n] for n in trainlist2[i]], [gkb_Y[n] for n in testlist2[i]]\n",
        "    #  print(f\"Iteration {n}\\n\")\n",
        "    #print('Train: ', X_train1, '\\n')\n",
        "    #print('Test: ', X_test1, '\\n')\n",
        "    # fit model\n",
        "    dummy_clf = DummyClassifier(strategy=\"stratified\",random_state=r)\n",
        "    dummy_clf.fit(X_train1, y_train1)\n",
        "    # evaluate model\n",
        "    yhat = dummy_clf.predict(X_test1)\n",
        "    #print('True y: ', y_test1, '\\n')\n",
        "    #print('Estimated y: ', yhat, '\\n')\n",
        "    acc = accuracy_score(y_test1, yhat)\n",
        "    #  print('Iteration accruacy: ', acc, '\\n')\n",
        "    acc_l.append(acc)\n",
        "    # store\n",
        "    y_true.append(y_test1)\n",
        "    y_pred1.append(yhat)\n",
        "    n+=1\n",
        "    # Check results\n",
        "    #print('True y all: ', y_true, '\\n')\n",
        "    #print('Estimated y all: ', y_pred1, '\\n')\n",
        "  y_true = np.concatenate(y_true)\n",
        "  y_pred1 = np.concatenate(y_pred1)\n",
        "  #print('True y all: ', y_true, '\\n')\n",
        "  #print('Estimated y all: ', y_pred1, '\\n')\n",
        "  #print('Prediction size: ', y_pred1.shape, '\\n')\n",
        "  # calculate accuracy\n",
        "  acc_dy_stratified_loco2.append(np.mean(acc_l))\n",
        "  acc_w_dy_stratified_loco2.append(accuracy_score(y_true, y_pred1))\n",
        "  auc_dy_stratified_loco2.append(roc_auc_score(y_true, y_pred1))\n",
        "\n",
        "acc = np.mean(acc_dy_stratified_loco2)\n",
        "acc_w = np.mean(acc_w_dy_stratified_loco2)\n",
        "auc = np.mean(auc_dy_stratified_loco2)\n",
        "print(\"Average Accuray: {:.2f}%\".format(100*acc))\n",
        "print(\"Whole Accuray: {:.2f}%\".format(100*acc_w))\n",
        "print(\"Model AUC_ROC: {:.4f}\".format(auc))\n",
        "print(acc_w_dy_stratified_loco2)"
      ],
      "metadata": {
        "colab": {
          "base_uri": "https://localhost:8080/"
        },
        "outputId": "d02412fa-cde0-4da7-d60f-ed22b3dc4eef",
        "id": "nGdAeEebkw6L"
      },
      "execution_count": null,
      "outputs": [
        {
          "output_type": "stream",
          "name": "stdout",
          "text": [
            "Average Accuray: 50.46%\n",
            "Whole Accuray: 49.80%\n",
            "Model AUC_ROC: 0.4975\n",
            "[0.49142857142857144, 0.5342857142857143, 0.46, 0.4942857142857143, 0.5085714285714286, 0.4857142857142857, 0.4857142857142857, 0.5014285714285714, 0.4857142857142857, 0.48857142857142855, 0.4714285714285714, 0.54, 0.5257142857142857, 0.47, 0.45714285714285713, 0.4757142857142857, 0.5085714285714286, 0.53, 0.49142857142857144, 0.5542857142857143]\n"
          ]
        }
      ]
    },
    {
      "cell_type": "code",
      "source": [
        "# Dummy Classifier LOCO - uniform\n",
        "y_true, y_pred1 = list(), list()\n",
        "acc_l = []\n",
        "n = 1\n",
        "for i in range(len(testlist2)):\n",
        " #print('Left chrom: ', labels[i], '\\n')\n",
        " # split data\n",
        " X_train1, X_test1 = [gkb_X[n] for n in trainlist2[i]], [gkb_X[n] for n in testlist2[i]]\n",
        " y_train1, y_test1 = [gkb_Y[n] for n in trainlist2[i]], [gkb_Y[n] for n in testlist2[i]]\n",
        "#  print(f\"Iteration {n}\\n\")\n",
        " #print('Train: ', X_train1, '\\n')\n",
        " #print('Test: ', X_test1, '\\n')\n",
        " # fit model\n",
        " dummy_clf = DummyClassifier(strategy=\"uniform\")\n",
        " dummy_clf.fit(X_train1, y_train1)\n",
        " # evaluate model\n",
        " yhat = dummy_clf.predict(X_test1)\n",
        " #print('True y: ', y_test1, '\\n')\n",
        " #print('Estimated y: ', yhat, '\\n')\n",
        " acc = accuracy_score(y_test1, yhat)\n",
        "#  print('Iteration accruacy: ', acc, '\\n')\n",
        " acc_l.append(acc)\n",
        " # store\n",
        " y_true.append(y_test1)\n",
        " y_pred1.append(yhat)\n",
        " n+=1\n",
        "# Check results\n",
        "#print('True y all: ', y_true, '\\n')\n",
        "#print('Estimated y all: ', y_pred1, '\\n')\n",
        "y_true = np.concatenate(y_true)\n",
        "y_pred1 = np.concatenate(y_pred1)\n",
        "#print('True y all: ', y_true, '\\n')\n",
        "#print('Estimated y all: ', y_pred1, '\\n')\n",
        "#print('Prediction size: ', y_pred1.shape, '\\n')\n",
        "# calculate accuracy\n",
        "acc_dy_uni_loco2 = np.mean(acc_l)\n",
        "acc_w_dy_uni_loco2 = accuracy_score(y_true, y_pred1)\n",
        "auc_dy_uni_loco2 = roc_auc_score(y_true, y_pred1)\n",
        "print(\"Average Accuray: {:.2f}%\".format(100*acc_dy_uni_loco2))\n",
        "print(\"Whole Accuray: {:.2f}%\".format(100*acc_w_dy_uni_loco2))\n",
        "print(\"Model AUC_ROC: {:.4f}\".format(auc_dy_uni_loco2))"
      ],
      "metadata": {
        "colab": {
          "base_uri": "https://localhost:8080/"
        },
        "outputId": "a146b67c-21da-48f7-b10c-4fca328a0bbe",
        "id": "MlCRwIq4kw6N"
      },
      "execution_count": null,
      "outputs": [
        {
          "output_type": "stream",
          "name": "stdout",
          "text": [
            "Average Accuray: 50.25%\n",
            "Whole Accuray: 51.29%\n",
            "Model AUC_ROC: 0.5132\n"
          ]
        }
      ]
    },
    {
      "cell_type": "code",
      "source": [
        "# Dummy Classifier LOCO - most_frequent - same with \"prior\"\n",
        "# Dummy Classifier LOCO - most_frequent\n",
        "y_true, y_pred1 = list(), list()\n",
        "acc_l = []\n",
        "n = 1\n",
        "for i in range(len(testlist2)):\n",
        " #print('Left chrom: ', labels[i], '\\n')\n",
        " # split data\n",
        " X_train1, X_test1 = [gkb_X[n] for n in trainlist2[i]], [gkb_X[n] for n in testlist2[i]]\n",
        " y_train1, y_test1 = [gkb_Y[n] for n in trainlist2[i]], [gkb_Y[n] for n in testlist2[i]]\n",
        "#  print(f\"Iteration {n}\\n\")\n",
        " #print('Train: ', X_train1, '\\n')\n",
        " #print('Test: ', X_test1, '\\n')\n",
        " # fit model\n",
        " dummy_clf = DummyClassifier(strategy=\"most_frequent\")\n",
        " dummy_clf.fit(X_train1, y_train1)\n",
        " # evaluate model\n",
        " yhat = dummy_clf.predict(X_test1)\n",
        " #print('True y: ', y_test1, '\\n')\n",
        " #print('Estimated y: ', yhat, '\\n')\n",
        " acc = accuracy_score(y_test1, yhat)\n",
        "#  print('Iteration accruacy: ', acc, '\\n')\n",
        " acc_l.append(acc)\n",
        " # store\n",
        " y_true.append(y_test1)\n",
        " y_pred1.append(yhat)\n",
        " n+=1\n",
        "# Check results\n",
        "#print('True y all: ', y_true, '\\n')\n",
        "#print('Estimated y all: ', y_pred1, '\\n')\n",
        "y_true = np.concatenate(y_true)\n",
        "y_pred1 = np.concatenate(y_pred1)\n",
        "#print('True y all: ', y_true, '\\n')\n",
        "#print('Estimated y all: ', y_pred1, '\\n')\n",
        "#print('Prediction size: ', y_pred1.shape, '\\n')\n",
        "# calculate accuracy\n",
        "acc_dy_fre_loco2 = np.mean(acc_l)\n",
        "acc_w_dy_fre_loco2 = accuracy_score(y_true, y_pred1)\n",
        "auc_dy_fre_loco2 = roc_auc_score(y_true, y_pred1)\n",
        "print(\"Average Accuray: {:.2f}%\".format(100*acc_dy_fre_loco2))\n",
        "print(\"Whole Accuray: {:.2f}%\".format(100*acc_w_dy_fre_loco2))\n",
        "print(\"Model AUC_ROC: {:.4f}\".format(auc_dy_fre_loco2))"
      ],
      "metadata": {
        "colab": {
          "base_uri": "https://localhost:8080/"
        },
        "outputId": "a43f5796-4762-4140-c068-7dcae9fff22c",
        "id": "x5cL-7JEkw6O"
      },
      "execution_count": null,
      "outputs": [
        {
          "output_type": "stream",
          "name": "stdout",
          "text": [
            "Average Accuray: 49.56%\n",
            "Whole Accuray: 45.57%\n",
            "Model AUC_ROC: 0.4463\n"
          ]
        }
      ]
    },
    {
      "cell_type": "markdown",
      "source": [
        "#### K-fold testing"
      ],
      "metadata": {
        "id": "ucugq8p6kw6Q"
      }
    },
    {
      "cell_type": "code",
      "source": [
        "# Rebuild testing folds by KFold split\n",
        "k = len(testlist2) #same fold number with LOCO\n",
        "from sklearn.model_selection import KFold\n",
        "kfold = KFold(n_splits=k, shuffle=True, random_state=42)\n",
        "testlist2 = []\n",
        "trainlist2 = []\n",
        "for train_indexes, test_indexes in kfold.split(gkb_X):\n",
        "    testlist2.append(test_indexes)\n",
        "    trainlist2.append(train_indexes)\n",
        "\n",
        "vlist = testlist2[1:] + [testlist2[0]]\n",
        "\n",
        "for i in range(len(testlist2)):\n",
        "    print(f\"Training set: {len(vlist[i])}, {vlist[i][0]};\")\n",
        "    print(f\"Testing set: {len(testlist2[i])}, {testlist2[i][0]};\")\n",
        "    print(f\"Validation set: {len(trainlist2[i])};\")"
      ],
      "metadata": {
        "colab": {
          "base_uri": "https://localhost:8080/"
        },
        "outputId": "e1be48d3-54dd-4c2a-caf4-e4c087bfe52e",
        "id": "FMNXbtGFP8mP"
      },
      "execution_count": null,
      "outputs": [
        {
          "output_type": "stream",
          "name": "stdout",
          "text": [
            "Training set: 64, 2;\n",
            "Testing set: 64, 10;\n",
            "Validation set: 636;\n",
            "Training set: 64, 7;\n",
            "Testing set: 64, 2;\n",
            "Validation set: 636;\n",
            "Training set: 64, 9;\n",
            "Testing set: 64, 7;\n",
            "Validation set: 636;\n",
            "Training set: 64, 0;\n",
            "Testing set: 64, 9;\n",
            "Validation set: 636;\n",
            "Training set: 64, 3;\n",
            "Testing set: 64, 0;\n",
            "Validation set: 636;\n",
            "Training set: 64, 26;\n",
            "Testing set: 64, 3;\n",
            "Validation set: 636;\n",
            "Training set: 63, 8;\n",
            "Testing set: 64, 26;\n",
            "Validation set: 636;\n",
            "Training set: 63, 35;\n",
            "Testing set: 63, 8;\n",
            "Validation set: 637;\n",
            "Training set: 63, 1;\n",
            "Testing set: 63, 35;\n",
            "Validation set: 637;\n",
            "Training set: 63, 13;\n",
            "Testing set: 63, 1;\n",
            "Validation set: 637;\n",
            "Training set: 64, 10;\n",
            "Testing set: 63, 13;\n",
            "Validation set: 637;\n"
          ]
        }
      ]
    },
    {
      "cell_type": "code",
      "execution_count": null,
      "metadata": {
        "colab": {
          "base_uri": "https://localhost:8080/"
        },
        "outputId": "7a1c2b0c-37da-462b-d415-e82caa49a8fd",
        "id": "UoK3Q9ASQIbj"
      },
      "outputs": [
        {
          "output_type": "stream",
          "name": "stdout",
          "text": [
            "Average Accuray: 51.43%\n",
            "Whole Accuray: 51.43%\n",
            "Model AUC_ROC: 0.5000\n"
          ]
        }
      ],
      "source": [
        "# Dummy Classifier k - prior\n",
        "y_true, y_pred1 = list(), list()\n",
        "acc_l = []\n",
        "n = 1\n",
        "for i in range(len(testlist2)):\n",
        " #print('Left chrom: ', labels[i], '\\n')\n",
        " # split data\n",
        " X_train1, X_test1 = [gkb_X[n] for n in trainlist2[i]], [gkb_X[n] for n in testlist2[i]]\n",
        " y_train1, y_test1 = [gkb_Y[n] for n in trainlist2[i]], [gkb_Y[n] for n in testlist2[i]]\n",
        "#  print(f\"Iteration {n}\\n\")\n",
        " #print('Train: ', X_train1, '\\n')\n",
        " #print('Test: ', X_test1, '\\n')\n",
        " # fit model\n",
        " dummy_clf = DummyClassifier(strategy=\"prior\")\n",
        " dummy_clf.fit(X_train1, y_train1)\n",
        " # evaluate model\n",
        " yhat = dummy_clf.predict(X_test1)\n",
        " #print('True y: ', y_test1, '\\n')\n",
        " #print('Estimated y: ', yhat, '\\n')\n",
        " acc = accuracy_score(y_test1, yhat)\n",
        "#  print('Iteration accruacy: ', acc, '\\n')\n",
        " acc_l.append(acc)\n",
        " # store\n",
        " y_true.append(y_test1)\n",
        " y_pred1.append(yhat)\n",
        " n+=1\n",
        "# Check results\n",
        "#print('True y all: ', y_true, '\\n')\n",
        "#print('Estimated y all: ', y_pred1, '\\n')\n",
        "y_true = np.concatenate(y_true)\n",
        "y_pred1 = np.concatenate(y_pred1)\n",
        "#print('True y all: ', y_true, '\\n')\n",
        "#print('Estimated y all: ', y_pred1, '\\n')\n",
        "#print('Prediction size: ', y_pred1.shape, '\\n')\n",
        "# calculate accuracy\n",
        "acc_dy_prior_k2 = np.mean(acc_l)\n",
        "acc_w_dy_prior_k2 = accuracy_score(y_true, y_pred1)\n",
        "auc_dy_prior_k2 = roc_auc_score(y_true, y_pred1)\n",
        "print(\"Average Accuray: {:.2f}%\".format(100*acc_dy_prior_k2))\n",
        "print(\"Whole Accuray: {:.2f}%\".format(100*acc_w_dy_prior_k2))\n",
        "print(\"Model AUC_ROC: {:.4f}\".format(auc_dy_prior_k2))"
      ]
    },
    {
      "cell_type": "code",
      "source": [
        "# Dummy Classifier k - stratified\n",
        "\n",
        "acc_dy_stratified_k2=[]\n",
        "acc_w_dy_stratified_k2=[]\n",
        "auc_dy_stratified_k2=[]\n",
        "\n",
        "for r in range(20):\n",
        "  y_true, y_pred1 = list(), list()\n",
        "  acc_l = []\n",
        "  n = 1\n",
        "  for i in range(len(testlist2)):\n",
        "    #print('Left chrom: ', labels[i], '\\n')\n",
        "    # split data\n",
        "    X_train1, X_test1 = [gkb_X[n] for n in trainlist2[i]], [gkb_X[n] for n in testlist2[i]]\n",
        "    y_train1, y_test1 = [gkb_Y[n] for n in trainlist2[i]], [gkb_Y[n] for n in testlist2[i]]\n",
        "    #  print(f\"Iteration {n}\\n\")\n",
        "    #print('Train: ', X_train1, '\\n')\n",
        "    #print('Test: ', X_test1, '\\n')\n",
        "    # fit model\n",
        "    dummy_clf = DummyClassifier(strategy=\"stratified\",random_state=r)\n",
        "    dummy_clf.fit(X_train1, y_train1)\n",
        "    # evaluate model\n",
        "    yhat = dummy_clf.predict(X_test1)\n",
        "    #print('True y: ', y_test1, '\\n')\n",
        "    #print('Estimated y: ', yhat, '\\n')\n",
        "    acc = accuracy_score(y_test1, yhat)\n",
        "    #  print('Iteration accruacy: ', acc, '\\n')\n",
        "    acc_l.append(acc)\n",
        "    # store\n",
        "    y_true.append(y_test1)\n",
        "    y_pred1.append(yhat)\n",
        "    n+=1\n",
        "    # Check results\n",
        "    #print('True y all: ', y_true, '\\n')\n",
        "    #print('Estimated y all: ', y_pred1, '\\n')\n",
        "  y_true = np.concatenate(y_true)\n",
        "  y_pred1 = np.concatenate(y_pred1)\n",
        "  #print('True y all: ', y_true, '\\n')\n",
        "  #print('Estimated y all: ', y_pred1, '\\n')\n",
        "  #print('Prediction size: ', y_pred1.shape, '\\n')\n",
        "  # calculate accuracy\n",
        "  acc_dy_stratified_k2.append(np.mean(acc_l))\n",
        "  acc_w_dy_stratified_k2.append(accuracy_score(y_true, y_pred1))\n",
        "  auc_dy_stratified_k2.append(roc_auc_score(y_true, y_pred1))\n",
        "\n",
        "acc = np.mean(acc_dy_stratified_k2)\n",
        "acc_w = np.mean(acc_w_dy_stratified_k2)\n",
        "auc = np.mean(auc_dy_stratified_k2)\n",
        "print(\"Average Accuray: {:.2f}%\".format(100*acc))\n",
        "print(\"Whole Accuray: {:.2f}%\".format(100*acc_w))\n",
        "print(\"Model AUC_ROC: {:.4f}\".format(auc))\n",
        "print(acc_w_dy_stratified_k2)"
      ],
      "metadata": {
        "colab": {
          "base_uri": "https://localhost:8080/"
        },
        "outputId": "af22ea7f-e8ef-4805-cfd5-325d2961366a",
        "id": "i73f-r2xQIbl"
      },
      "execution_count": null,
      "outputs": [
        {
          "output_type": "stream",
          "name": "stdout",
          "text": [
            "Average Accuray: 49.72%\n",
            "Whole Accuray: 49.72%\n",
            "Model AUC_ROC: 0.4965\n",
            "[0.5, 0.4757142857142857, 0.5057142857142857, 0.4657142857142857, 0.49857142857142855, 0.4757142857142857, 0.5171428571428571, 0.5028571428571429, 0.4857142857142857, 0.5057142857142857, 0.5071428571428571, 0.5428571428571428, 0.49857142857142855, 0.5271428571428571, 0.5271428571428571, 0.47714285714285715, 0.5028571428571429, 0.4942857142857143, 0.47285714285714286, 0.4614285714285714]\n"
          ]
        }
      ]
    },
    {
      "cell_type": "code",
      "source": [
        "# Dummy Classifier k - uniform\n",
        "y_true, y_pred1 = list(), list()\n",
        "acc_l = []\n",
        "n = 1\n",
        "for i in range(len(testlist2)):\n",
        " #print('Left chrom: ', labels[i], '\\n')\n",
        " # split data\n",
        " X_train1, X_test1 = [gkb_X[n] for n in trainlist2[i]], [gkb_X[n] for n in testlist2[i]]\n",
        " y_train1, y_test1 = [gkb_Y[n] for n in trainlist2[i]], [gkb_Y[n] for n in testlist2[i]]\n",
        "#  print(f\"Iteration {n}\\n\")\n",
        " #print('Train: ', X_train1, '\\n')\n",
        " #print('Test: ', X_test1, '\\n')\n",
        " # fit model\n",
        " dummy_clf = DummyClassifier(strategy=\"uniform\")\n",
        " dummy_clf.fit(X_train1, y_train1)\n",
        " # evaluate model\n",
        " yhat = dummy_clf.predict(X_test1)\n",
        " #print('True y: ', y_test1, '\\n')\n",
        " #print('Estimated y: ', yhat, '\\n')\n",
        " acc = accuracy_score(y_test1, yhat)\n",
        "#  print('Iteration accruacy: ', acc, '\\n')\n",
        " acc_l.append(acc)\n",
        " # store\n",
        " y_true.append(y_test1)\n",
        " y_pred1.append(yhat)\n",
        " n+=1\n",
        "# Check results\n",
        "#print('True y all: ', y_true, '\\n')\n",
        "#print('Estimated y all: ', y_pred1, '\\n')\n",
        "y_true = np.concatenate(y_true)\n",
        "y_pred1 = np.concatenate(y_pred1)\n",
        "#print('True y all: ', y_true, '\\n')\n",
        "#print('Estimated y all: ', y_pred1, '\\n')\n",
        "#print('Prediction size: ', y_pred1.shape, '\\n')\n",
        "# calculate accuracy\n",
        "acc_dy_uni_k2 = np.mean(acc_l)\n",
        "acc_w_dy_uni_k2 = accuracy_score(y_true, y_pred1)\n",
        "auc_dy_uni_k2 = roc_auc_score(y_true, y_pred1)\n",
        "print(\"Average Accuray: {:.2f}%\".format(100*acc_dy_uni_k2))\n",
        "print(\"Whole Accuray: {:.2f}%\".format(100*acc_w_dy_uni_k2))\n",
        "print(\"Model AUC_ROC: {:.4f}\".format(auc_dy_uni_k2))"
      ],
      "metadata": {
        "colab": {
          "base_uri": "https://localhost:8080/"
        },
        "outputId": "a97bd6a7-980f-43f6-a908-08723ab0d591",
        "id": "TbYfaXPvQIbm"
      },
      "execution_count": null,
      "outputs": [
        {
          "output_type": "stream",
          "name": "stdout",
          "text": [
            "Average Accuray: 49.30%\n",
            "Whole Accuray: 49.29%\n",
            "Model AUC_ROC: 0.4926\n"
          ]
        }
      ]
    },
    {
      "cell_type": "code",
      "source": [
        "# Dummy Classifier k - most_frequent - same with \"prior\"\n",
        "# Dummy Classifier k - most_frequent\n",
        "y_true, y_pred1 = list(), list()\n",
        "acc_l = []\n",
        "n = 1\n",
        "for i in range(len(testlist2)):\n",
        " #print('Left chrom: ', labels[i], '\\n')\n",
        " # split data\n",
        " X_train1, X_test1 = [gkb_X[n] for n in trainlist2[i]], [gkb_X[n] for n in testlist2[i]]\n",
        " y_train1, y_test1 = [gkb_Y[n] for n in trainlist2[i]], [gkb_Y[n] for n in testlist2[i]]\n",
        "#  print(f\"Iteration {n}\\n\")\n",
        " #print('Train: ', X_train1, '\\n')\n",
        " #print('Test: ', X_test1, '\\n')\n",
        " # fit model\n",
        " dummy_clf = DummyClassifier(strategy=\"most_frequent\")\n",
        " dummy_clf.fit(X_train1, y_train1)\n",
        " # evaluate model\n",
        " yhat = dummy_clf.predict(X_test1)\n",
        " #print('True y: ', y_test1, '\\n')\n",
        " #print('Estimated y: ', yhat, '\\n')\n",
        " acc = accuracy_score(y_test1, yhat)\n",
        "#  print('Iteration accruacy: ', acc, '\\n')\n",
        " acc_l.append(acc)\n",
        " # store\n",
        " y_true.append(y_test1)\n",
        " y_pred1.append(yhat)\n",
        " n+=1\n",
        "# Check results\n",
        "#print('True y all: ', y_true, '\\n')\n",
        "#print('Estimated y all: ', y_pred1, '\\n')\n",
        "y_true = np.concatenate(y_true)\n",
        "y_pred1 = np.concatenate(y_pred1)\n",
        "#print('True y all: ', y_true, '\\n')\n",
        "#print('Estimated y all: ', y_pred1, '\\n')\n",
        "#print('Prediction size: ', y_pred1.shape, '\\n')\n",
        "# calculate accuracy\n",
        "acc_dy_fre_k2 = np.mean(acc_l)\n",
        "acc_w_dy_fre_k2 = accuracy_score(y_true, y_pred1)\n",
        "auc_dy_fre_k2 = roc_auc_score(y_true, y_pred1)\n",
        "print(\"Average Accuray: {:.2f}%\".format(100*acc_dy_fre_k2))\n",
        "print(\"Whole Accuray: {:.2f}%\".format(100*acc_w_dy_fre_k2))\n",
        "print(\"Model AUC_ROC: {:.4f}\".format(auc_dy_fre_k2))"
      ],
      "metadata": {
        "colab": {
          "base_uri": "https://localhost:8080/"
        },
        "outputId": "02fb57ad-2a51-4bdf-ab5d-ab32b342ebee",
        "id": "W4wpOD2aQIbm"
      },
      "execution_count": null,
      "outputs": [
        {
          "output_type": "stream",
          "name": "stdout",
          "text": [
            "Average Accuray: 51.43%\n",
            "Whole Accuray: 51.43%\n",
            "Model AUC_ROC: 0.5000\n"
          ]
        }
      ]
    },
    {
      "cell_type": "markdown",
      "metadata": {
        "id": "FF0_rdXbLZOw"
      },
      "source": [
        "## Results Display"
      ]
    },
    {
      "cell_type": "markdown",
      "metadata": {
        "id": "LM9SX_zLzfm_"
      },
      "source": [
        "### Box plot"
      ]
    },
    {
      "cell_type": "markdown",
      "source": [
        "Box plot explanation (https://matplotlib.org/3.1.1/api/_as_gen/matplotlib.axes.Axes.boxplot.html):\n",
        "\n",
        "Axes.boxplot(self, x, notch=None, sym=None, vert=None, whis=None, positions=None, widths=None, patch_artist=None, bootstrap=None, usermedians=None, conf_intervals=None, meanline=None, showmeans=None, showcaps=None, showbox=None, showfliers=None, boxprops=None, labels=None, flierprops=None, medianprops=None, meanprops=None, capprops=None, whiskerprops=None, manage_ticks=True, autorange=False, zorder=None, *, data=None)[source]\n",
        "\n",
        "1. Introduction\n",
        "\n",
        "Make a box and whisker plot for each column of x or each vector in sequence x. The box extends from the lower to upper quartile values of the data, with a line at the median. The whiskers extend from the box to show the range of the data. Flier points are those past the end of the whiskers.\n",
        "\n",
        "2. Components\n",
        "\n",
        "boxes: the main body of the boxplot showing the quartiles and the median's confidence intervals if enabled.\n",
        "medians: horizontal lines at the median of each box.\n",
        "whiskers: the vertical lines extending to the most extreme, non-outlier data points.\n",
        "caps: the horizontal lines at the ends of the whiskers.\n",
        "fliers: points representing data that extend beyond the whiskers (fliers).\n",
        "means: points or lines representing the means.\n",
        "\n",
        "3. Parameters (Note the whiskers doesn't indicate real data points about a estimation according to quartiles of dataset.)\n",
        "\n",
        "whis : float, sequence, or string (default = 1.5)\n",
        "As a float, determines the reach of the whiskers to the beyond the first and third quartiles. In other words, where IQR is the interquartile range (Q3-Q1), the upper whisker will extend to last datum less than Q3 + whis*IQR). Similarly, the lower whisker will extend to the first datum greater than Q1 - whis*IQR. Beyond the whiskers, data are considered outliers and are plotted as individual points. Set this to an unreasonably high value to force the whiskers to show the min and max values. Alternatively, set this to an ascending sequence of percentile (e.g., [5, 95]) to set the whiskers at specific percentiles of the data. Finally, whis can be the string 'range' to force the whiskers to the min and max of the data.\n",
        "\n",
        "4. Returns\n",
        "\n",
        "result : dict\n",
        "A dictionary mapping each component of the boxplot to a list of the matplotlib.lines.Line2D instances created. That dictionary has the following keys (assuming vertical boxplots):\n",
        "\n"
      ],
      "metadata": {
        "id": "tzn8ZBF1-vfv"
      }
    },
    {
      "cell_type": "markdown",
      "metadata": {
        "id": "0UswXHJs7Fol"
      },
      "source": [
        "#### Odata"
      ]
    },
    {
      "cell_type": "markdown",
      "metadata": {
        "id": "1xMhzkfyeGpJ"
      },
      "source": [
        "##### Whole acc"
      ]
    },
    {
      "cell_type": "code",
      "execution_count": null,
      "metadata": {
        "colab": {
          "base_uri": "https://localhost:8080/"
        },
        "id": "m3e3_4oL4CKz",
        "outputId": "e1236725-5dc0-48ac-fa9a-6421f3ede94c"
      },
      "outputs": [
        {
          "output_type": "stream",
          "name": "stdout",
          "text": [
            "20 20 20 20 20 20 20 20\n",
            "20 20 20 20 20 20 20 20\n"
          ]
        },
        {
          "output_type": "display_data",
          "data": {
            "text/plain": [
              "<Figure size 640x480 with 1 Axes>"
            ],
            "image/png": "[encoded data removed]"
          },
          "metadata": {}
        }
      ],
      "source": [
        "import os\n",
        "import csv\n",
        "\n",
        "def read_csv_file(file_path):\n",
        "    with open(file_path, 'r') as file:\n",
        "        csv_reader = csv.reader(file)\n",
        "        data_list = [[float(value) for value in row] for row in csv_reader]\n",
        "        data_list = np.concatenate(data_list)\n",
        "    return data_list\n",
        "\n",
        "# Define the folder names and file names\n",
        "folders = [\"gb1_odata_pop\", \"gb1_odata_noP\", \"xg1_odata_pop\", \"xg1_odata_noP\", \\\n",
        "           \"gb2_odata_pop\", \"gb2_odata_noP\", \"xg2_odata_pop\", \"xg2_odata_noP\",\\\n",
        "           \"baye_odata_pop\", \"baye_odata_noP\", \"svm_odata_pop\", \"svm_odata_noP\"]\n",
        "\n",
        "# Initialize empty lists\n",
        "acc_w_gb_pop, acc_w_gb_noP, acc_w_xg_pop, acc_w_xg_noP, \\\n",
        "acc_w_gb_pop2, acc_w_gb_noP2, acc_w_xg_pop2, acc_w_xg_noP2, \\\n",
        "acc_w_baye_pop, acc_w_baye_noP,\\\n",
        "acc_w_svm_pop, acc_w_svm_noP= [], [], [], [], [], [], [], [], [], [], [], []\n",
        "auc_gb_pop, auc_gb_noP, auc_xg_pop, auc_xg_noP, \\\n",
        "auc_gb_pop2, auc_gb_noP2, auc_xg_pop2, auc_xg_noP2,\\\n",
        "auc_baye_pop, auc_baye_noP,\\\n",
        "auc_w_svm_pop, auc_w_svm_noP= [], [], [], [], [], [], [], [], [], [], [], []\n",
        "\n",
        "# Read data and store in corresponding lists\n",
        "for folder,in zip(folders):\n",
        "    acc_w_file_path = os.path.join(\"/content/gdrive/My Drive/Colab Notebooks/ADME Project\", folder, \"acc_w_all.csv\")\n",
        "    auc_file_path = os.path.join(\"/content/gdrive/My Drive/Colab Notebooks/ADME Project\", folder, \"auc_all.csv\")\n",
        "\n",
        "    if \"baye\" in folder:\n",
        "        if \"pop\" in folder:\n",
        "            acc_w_baye_pop = read_csv_file(acc_w_file_path)\n",
        "            auc_baye_pop = read_csv_file(auc_file_path)\n",
        "        else:\n",
        "            acc_w_baye_noP = read_csv_file(acc_w_file_path)\n",
        "            auc_baye_noP = read_csv_file(auc_file_path)\n",
        "    elif \"gb1\" in folder:\n",
        "        if \"pop\" in folder:\n",
        "            acc_w_gb_pop = read_csv_file(acc_w_file_path)\n",
        "            auc_gb_pop = read_csv_file(auc_file_path)\n",
        "        else:\n",
        "            acc_w_gb_noP = read_csv_file(acc_w_file_path)\n",
        "            auc_gb_noP = read_csv_file(auc_file_path)\n",
        "    elif \"xg1\" in folder:\n",
        "        if \"pop\" in folder:\n",
        "            acc_w_xg_pop = read_csv_file(acc_w_file_path)\n",
        "            auc_xg_pop = read_csv_file(auc_file_path)\n",
        "        else:\n",
        "            acc_w_xg_noP = read_csv_file(acc_w_file_path)\n",
        "            auc_xg_noP = read_csv_file(auc_file_path)\n",
        "    elif \"gb2\" in folder:\n",
        "        if \"pop\" in folder:\n",
        "            acc_w_gb_pop2 = read_csv_file(acc_w_file_path)\n",
        "            auc_gb_pop2 = read_csv_file(auc_file_path)\n",
        "        else:\n",
        "            acc_w_gb_noP2 = read_csv_file(acc_w_file_path)\n",
        "            auc_gb_noP2 = read_csv_file(auc_file_path)\n",
        "    elif \"xg2\" in folder:\n",
        "        if \"pop\" in folder:\n",
        "            acc_w_xg_pop2 = read_csv_file(acc_w_file_path)\n",
        "            auc_xg_pop2 = read_csv_file(auc_file_path)\n",
        "        else:\n",
        "            acc_w_xg_noP2 = read_csv_file(acc_w_file_path)\n",
        "            auc_xg_noP2 = read_csv_file(auc_file_path)\n",
        "    elif \"svm\" in folder:\n",
        "        if \"pop\" in folder:\n",
        "            acc_w_svm_pop = read_csv_file(acc_w_file_path)\n",
        "            auc_svm_pop = read_csv_file(auc_file_path)\n",
        "        else:\n",
        "            acc_w_svm_noP = read_csv_file(acc_w_file_path)\n",
        "            auc_svm_noP = read_csv_file(auc_file_path)\n",
        "# Print the lengths of the lists to verify the data has been loaded successfully\n",
        "print(len(acc_w_gb_pop), len(acc_w_gb_noP), len(acc_w_xg_pop), len(acc_w_xg_noP)\n",
        "    , len(acc_w_baye_pop), len(acc_w_baye_noP), len(acc_w_svm_pop), len(acc_w_svm_noP))\n",
        "print(len(auc_gb_pop), len(auc_gb_noP), len(auc_xg_pop), len(auc_xg_noP)\n",
        "    , len(auc_baye_pop), len(auc_baye_noP), len(auc_svm_pop), len(auc_svm_noP))\n",
        "\n",
        "# Plotting\n",
        "box_plot_data=[acc_w_dy_prior_loco, acc_w_dy_stratified_loco, acc_w_dy_uni_loco,\n",
        "    acc_w_gb_pop,acc_w_gb_noP,acc_w_gb_pop2, acc_w_gb_noP2, \\\n",
        "        acc_w_xg_pop,acc_w_xg_noP,acc_w_xg_pop2, acc_w_xg_noP2,\n",
        "        acc_w_baye_pop,acc_w_baye_noP,acc_w_svm_pop,acc_w_svm_noP]#,acc_w_nn_pop,acc_w_nn_noP]\n",
        "max_n = len(box_plot_data)+1\n",
        "fig,ax1=plt.subplots()\n",
        "bplot=ax1.boxplot(box_plot_data,labels=range(1,max_n),vert=True,patch_artist=True)\n",
        "ax1.set_ylim(0.4, 0.8)\n",
        "# fill with colors\n",
        "colors = ['b','b','b','pink', 'pink', 'pink', 'pink', 'lightblue', 'lightblue', 'lightblue', 'lightblue', 'lightgreen', 'lightgreen', 'orange', 'orange']\n",
        "for patch, color in zip(bplot['boxes'], colors):\n",
        "  patch.set_facecolor(color)\n",
        "ax1.yaxis.grid(True)\n",
        "# plt.title('Whole accuracy score')\n",
        "plt.ylabel('1 = 100% accuracy')\n",
        "plt.xlabel(f'Experiment Group 4-{max_n} and Comparison Group 1-3')#,nn_pop,nn_noP\"\n",
        "#0-11 Boxes: gb_pop,gb_noP,gb_pop2,gb_noP2,xg_pop,xg_noP,xg_pop2,\\n\\xg_noP2,baye_pop,baye_noP,svm_pop,svm_noP\"\n",
        "plt.show()\n",
        "fig.savefig(f\"{base}acc_w_loco.png\")"
      ]
    },
    {
      "cell_type": "code",
      "source": [
        "#Compare with S/noS folders\n",
        "\n",
        "def read_csv_file(file_path):\n",
        "    with open(file_path, 'r') as file:\n",
        "        csv_reader = csv.reader(file)\n",
        "        data_list = [[float(value) for value in row] for row in csv_reader]\n",
        "        data_list = np.concatenate(data_list)\n",
        "    return data_list\n",
        "\n",
        "# Define the folder names and file names\n",
        "folders = [\"gb_odata_pop_noS\", \"gb_odata_noP_noS\", \"xg_odata_pop_noS\", \"xg_odata_noP_noS\", \\\n",
        "           \"gb_odata_pop\", \"gb_odata_noP\", \"xg_odata_pop\", \"xg_odata_noP\",\\\n",
        "           \"baye_odata_pop\", \"baye_odata_noP\", \"svm_odata_pop\", \"svm_odata_noP\"]\n",
        "\n",
        "# Initialize empty lists\n",
        "acc_w_gb_pop, acc_w_gb_noP, acc_w_xg_pop, acc_w_xg_noP, \\\n",
        "acc_w_gb_pop2, acc_w_gb_noP2, acc_w_xg_pop2, acc_w_xg_noP2, \\\n",
        "acc_w_baye_pop, acc_w_baye_noP,\\\n",
        "acc_w_svm_pop, acc_w_svm_noP= [], [], [], [], [], [], [], [], [], [], [], []\n",
        "auc_gb_pop, auc_gb_noP, auc_xg_pop, auc_xg_noP, \\\n",
        "auc_gb_pop2, auc_gb_noP2, auc_xg_pop2, auc_xg_noP2,\\\n",
        "auc_baye_pop, auc_baye_noP,\\\n",
        "auc_w_svm_pop, auc_w_svm_noP= [], [], [], [], [], [], [], [], [], [], [], []\n",
        "\n",
        "# Read data and store in corresponding lists\n",
        "for folder,in zip(folders):\n",
        "    acc_w_file_path = os.path.join(\"/content/gdrive/My Drive/Colab Notebooks/ADME Project\", folder, \"acc_w_all.csv\")\n",
        "    auc_file_path = os.path.join(\"/content/gdrive/My Drive/Colab Notebooks/ADME Project\", folder, \"auc_all.csv\")\n",
        "\n",
        "    if \"baye\" in folder:\n",
        "        if \"pop\" in folder:\n",
        "            acc_w_baye_pop = read_csv_file(acc_w_file_path)\n",
        "            auc_baye_pop = read_csv_file(auc_file_path)\n",
        "        else:\n",
        "            acc_w_baye_noP = read_csv_file(acc_w_file_path)\n",
        "            auc_baye_noP = read_csv_file(auc_file_path)\n",
        "    elif \"gb\" and \"noS\" in folder:\n",
        "        if \"pop\" in folder:\n",
        "            acc_w_gb_pop = read_csv_file(acc_w_file_path)\n",
        "            auc_gb_pop = read_csv_file(auc_file_path)\n",
        "        else:\n",
        "            acc_w_gb_noP = read_csv_file(acc_w_file_path)\n",
        "            auc_gb_noP = read_csv_file(auc_file_path)\n",
        "    elif folder == \"xg_odata_pop_noS\":\n",
        "        print('Found xg_odata_pop_noS')\n",
        "        acc_w_xg_pop = read_csv_file(acc_w_file_path)\n",
        "        auc_xg_pop = read_csv_file(auc_file_path)\n",
        "    elif folder == \"xg_odata_noP_noS\":\n",
        "        print('Found xg_odata_noP_noS')\n",
        "        acc_w_xg_noP = read_csv_file(acc_w_file_path)\n",
        "        auc_xg_noP = read_csv_file(auc_file_path)\n",
        "    elif \"gb\" in folder:\n",
        "        if \"pop\" in folder:\n",
        "            acc_w_gb_pop2 = read_csv_file(acc_w_file_path)\n",
        "            auc_gb_pop2 = read_csv_file(auc_file_path)\n",
        "        else:\n",
        "            acc_w_gb_noP2 = read_csv_file(acc_w_file_path)\n",
        "            auc_gb_noP2 = read_csv_file(auc_file_path)\n",
        "    elif \"xg\" in folder:\n",
        "        if \"pop\" in folder:\n",
        "            acc_w_xg_pop2 = read_csv_file(acc_w_file_path)\n",
        "            auc_xg_pop2 = read_csv_file(auc_file_path)\n",
        "        else:\n",
        "            acc_w_xg_noP2 = read_csv_file(acc_w_file_path)\n",
        "            auc_xg_noP2 = read_csv_file(auc_file_path)\n",
        "    elif \"svm\" in folder:\n",
        "        if \"pop\" in folder:\n",
        "            acc_w_svm_pop = read_csv_file(acc_w_file_path)\n",
        "            auc_svm_pop = read_csv_file(auc_file_path)\n",
        "        else:\n",
        "            acc_w_svm_noP = read_csv_file(acc_w_file_path)\n",
        "            auc_svm_noP = read_csv_file(auc_file_path)\n",
        "\n",
        "acc_w_xg_pop = read_csv_file(f\"{base}xg_odata_pop_noS/acc_w_all.csv\")\n",
        "auc_xg_pop = read_csv_file(f\"{base}xg_odata_pop_noS/auc_all.csv\")\n",
        "acc_w_xg_noP = read_csv_file(f\"{base}xg_odata_noP_noS/acc_w_all.csv\")\n",
        "auc_xg_noP = read_csv_file(f\"{base}xg_odata_noP_noS/auc_all.csv\")\n",
        "\n",
        "# Print the lengths of the lists to verify the data has been loaded successfully\n",
        "print(len(acc_w_gb_pop), len(acc_w_gb_noP), len(acc_w_xg_pop), len(acc_w_xg_noP)\n",
        "    , len(acc_w_baye_pop), len(acc_w_baye_noP), len(acc_w_svm_pop), len(acc_w_svm_noP))\n",
        "print(len(auc_gb_pop), len(auc_gb_noP), len(auc_xg_pop), len(auc_xg_noP)\n",
        "    , len(auc_baye_pop), len(auc_baye_noP), len(auc_svm_pop), len(auc_svm_noP))\n",
        "\n",
        "# Plotting\n",
        "box_plot_data=[acc_w_dy_prior_loco, acc_w_dy_stratified_loco, acc_w_dy_uni_loco,\n",
        "    acc_w_gb_pop,acc_w_gb_noP,acc_w_gb_pop2,acc_w_gb_noP2,\\\n",
        "         acc_w_xg_pop,acc_w_xg_noP, acc_w_xg_pop2, acc_w_xg_noP2,\n",
        "        acc_w_baye_pop,acc_w_baye_noP,acc_w_svm_pop,acc_w_svm_noP]#,acc_w_nn_pop,acc_w_nn_noP]\n",
        "max_n = len(box_plot_data)+1\n",
        "fig,ax1=plt.subplots()\n",
        "bplot=ax1.boxplot(box_plot_data,labels=range(1,max_n),vert=True,patch_artist=True)\n",
        "ax1.set_ylim(0.4, 0.8)\n",
        "# fill with colors\n",
        "colors = ['b','b','b','pink', 'pink', 'pink', 'pink', 'lightblue', 'lightblue', 'lightblue', 'lightblue', 'lightgreen', 'lightgreen', 'orange', 'orange']\n",
        "for patch, color in zip(bplot['boxes'], colors):\n",
        "  patch.set_facecolor(color)\n",
        "ax1.yaxis.grid(True)\n",
        "# plt.title('Whole accuracy score')\n",
        "plt.ylabel('1 = 100% accuracy')\n",
        "plt.xlabel(f'Experiment Group 4-{max_n} and Comparison Group 1-3')#,nn_pop,nn_noP\"\n",
        "#0-11 Boxes: gb_pop,gb_noP,gb_pop2,gb_noP2,xg_pop,xg_noP,xg_pop2,\\n\\xg_noP2,baye_pop,baye_noP,svm_pop,svm_noP\"\n",
        "plt.show()\n",
        "fig.savefig(f\"{base}acc_w_loco_SnoS.png\")"
      ],
      "metadata": {
        "colab": {
          "base_uri": "https://localhost:8080/"
        },
        "id": "XLKmwxLnxgWy",
        "outputId": "916557e8-b5ba-4a8e-88c3-ce9983674464"
      },
      "execution_count": null,
      "outputs": [
        {
          "output_type": "stream",
          "name": "stdout",
          "text": [
            "20 20 20 20 20 20 20 20\n",
            "20 20 20 20 20 20 20 20\n"
          ]
        },
        {
          "output_type": "display_data",
          "data": {
            "text/plain": [
              "<Figure size 640x480 with 1 Axes>"
            ],
            "image/png": "[encoded data removed]"
          },
          "metadata": {}
        }
      ]
    },
    {
      "cell_type": "markdown",
      "metadata": {
        "id": "R_gArdugd5TH"
      },
      "source": [
        "##### Average acc/whole auc"
      ]
    },
    {
      "cell_type": "code",
      "execution_count": null,
      "metadata": {
        "colab": {
          "base_uri": "https://localhost:8080/",
          "height": 490
        },
        "id": "5VR-MPcR7JPD",
        "outputId": "6d517d74-1bcc-4f00-e6e2-d1b9841d0c0c"
      },
      "outputs": [
        {
          "output_type": "stream",
          "name": "stdout",
          "text": [
            "20 20 20 20 20 20 20 20\n",
            "20 20 20 20 20 20 20 20\n"
          ]
        },
        {
          "output_type": "display_data",
          "data": {
            "text/plain": [
              "<Figure size 640x480 with 1 Axes>"
            ],
            "image/png": "[encoded data removed]"
          },
          "metadata": {}
        }
      ],
      "source": [
        "# Take acc_all instead of acc_all\n",
        "import os\n",
        "import csv\n",
        "\n",
        "def read_csv_file(file_path):\n",
        "    with open(file_path, 'r') as file:\n",
        "        csv_reader = csv.reader(file)\n",
        "        data_list = [[float(value) for value in row] for row in csv_reader]\n",
        "        data_list = np.concatenate(data_list)\n",
        "    return data_list\n",
        "\n",
        "# Define the folder names and file names\n",
        "folders = [\"gb1_odata_pop\", \"gb1_odata_noP\", \"gb2_odata_pop\", \"gb2_odata_noP\", \\\n",
        "           \"xg1_odata_pop\", \"xg1_odata_noP\", \"xg2_odata_pop\", \"xg2_odata_noP\",\\\n",
        "           \"baye_odata_pop\", \"baye_odata_noP\", \"svm_odata_pop\", \"svm_odata_noP\"]\n",
        "\n",
        "# Initialize empty lists\n",
        "acc_gb_pop, acc_gb_noP, acc_xg_pop, acc_xg_noP, \\\n",
        "acc_gb_pop2, acc_gb_noP2, acc_xg_pop2, acc_xg_noP2, \\\n",
        "acc_baye_pop, acc_baye_noP,\\\n",
        "acc_svm_pop, acc_svm_noP= [], [], [], [], [], [], [], [], [], [], [], []\n",
        "auc_gb_pop, auc_gb_noP, auc_xg_pop, auc_xg_noP, \\\n",
        "auc_gb_pop2, auc_gb_noP2, auc_xg_pop2, auc_xg_noP2,\\\n",
        "auc_baye_pop, auc_baye_noP,\\\n",
        "auc_svm_pop, auc_svm_noP= [], [], [], [], [], [], [], [], [], [], [], []\n",
        "\n",
        "# Read data and store in corresponding lists\n",
        "for folder,in zip(folders):\n",
        "    acc_file_path = os.path.join(\"/content/gdrive/My Drive/Colab Notebooks/ADME Project\", folder, \"acc_all.csv\")\n",
        "    auc_file_path = os.path.join(\"/content/gdrive/My Drive/Colab Notebooks/ADME Project\", folder, \"auc_all.csv\")\n",
        "\n",
        "    if \"baye\" in folder:\n",
        "        if \"pop\" in folder:\n",
        "            acc_baye_pop = read_csv_file(acc_file_path)\n",
        "            auc_baye_pop = read_csv_file(auc_file_path)\n",
        "        else:\n",
        "            acc_baye_noP = read_csv_file(acc_file_path)\n",
        "            auc_baye_noP = read_csv_file(auc_file_path)\n",
        "    elif \"gb1\" in folder:\n",
        "        if \"pop\" in folder:\n",
        "            acc_gb_pop = read_csv_file(acc_file_path)\n",
        "            auc_gb_pop = read_csv_file(auc_file_path)\n",
        "        else:\n",
        "            acc_gb_noP = read_csv_file(acc_file_path)\n",
        "            auc_gb_noP = read_csv_file(auc_file_path)\n",
        "    elif \"xg1\" in folder:\n",
        "        if \"pop\" in folder:\n",
        "            acc_xg_pop = read_csv_file(acc_file_path)\n",
        "            auc_xg_pop = read_csv_file(auc_file_path)\n",
        "        else:\n",
        "            acc_xg_noP = read_csv_file(acc_file_path)\n",
        "            auc_xg_noP = read_csv_file(auc_file_path)\n",
        "    elif \"gb2\" in folder:\n",
        "        if \"pop\" in folder:\n",
        "            acc_gb_pop2 = read_csv_file(acc_file_path)\n",
        "            auc_gb_pop2 = read_csv_file(auc_file_path)\n",
        "        else:\n",
        "            acc_gb_noP2 = read_csv_file(acc_file_path)\n",
        "            auc_gb_noP2 = read_csv_file(auc_file_path)\n",
        "    elif \"xg2\" in folder:\n",
        "        if \"pop\" in folder:\n",
        "            acc_xg_pop2 = read_csv_file(acc_file_path)\n",
        "            auc_xg_pop2 = read_csv_file(auc_file_path)\n",
        "        else:\n",
        "            acc_xg_noP2 = read_csv_file(acc_file_path)\n",
        "            auc_xg_noP2 = read_csv_file(auc_file_path)\n",
        "    elif \"svm\" in folder:\n",
        "        if \"pop\" in folder:\n",
        "            acc_svm_pop = read_csv_file(acc_file_path)\n",
        "            auc_svm_pop = read_csv_file(auc_file_path)\n",
        "        else:\n",
        "            acc_svm_noP = read_csv_file(acc_file_path)\n",
        "            auc_svm_noP = read_csv_file(auc_file_path)\n",
        "# Print the lengths of the lists to verify the data has been loaded successfully\n",
        "print(len(acc_gb_pop), len(acc_gb_noP), len(acc_xg_pop), len(acc_xg_noP)\n",
        "    , len(acc_baye_pop), len(acc_baye_noP), len(acc_svm_pop), len(acc_svm_noP))\n",
        "print(len(auc_gb_pop), len(auc_gb_noP), len(auc_xg_pop), len(auc_xg_noP)\n",
        "    , len(auc_baye_pop), len(auc_baye_noP), len(auc_svm_pop), len(auc_svm_noP))\n",
        "\n",
        "# Plotting\n",
        "box_plot_data=[acc_dy_prior_loco, acc_dy_stratified_loco, acc_dy_uni_loco,\n",
        "    acc_gb_pop,acc_gb_noP,acc_gb_pop2, acc_gb_noP2, \\\n",
        "        acc_xg_pop,acc_xg_noP,acc_xg_pop2, acc_xg_noP2,\n",
        "        acc_baye_pop,acc_baye_noP,acc_svm_pop,acc_svm_noP]#,acc_nn_pop,acc_nn_noP]\n",
        "max_n = len(box_plot_data)+1\n",
        "fig,ax1=plt.subplots()\n",
        "bplot=ax1.boxplot(box_plot_data,labels=range(1,max_n),vert=True,patch_artist=True)\n",
        "ax1.set_ylim(0.4, 0.8)\n",
        "# fill with colors\n",
        "colors = ['b','b','b','pink', 'pink', 'pink', 'pink', 'lightblue', 'lightblue', 'lightblue', 'lightblue', 'lightgreen', 'lightgreen', 'orange', 'orange']\n",
        "for patch, color in zip(bplot['boxes'], colors):\n",
        "  patch.set_facecolor(color)\n",
        "ax1.yaxis.grid(True)\n",
        "# plt.title('Average accuracy score')\n",
        "plt.ylabel('1 = 100% accuracy')\n",
        "plt.xlabel(f'Experiment Group 4-{max_n} and Comparison Group 1-3')#,nn_pop,nn_noP\"\n",
        "#0-11 Boxes: gb_pop,gb_noP,gb_pop2,gb_noP2,xg_pop,xg_noP,xg_pop2,\\n\\xg_noP2,baye_pop,baye_noP,svm_pop,svm_noP\"\n",
        "plt.show()\n",
        "fig.savefig(f\"{base}acc_loco.png\")"
      ]
    },
    {
      "cell_type": "code",
      "execution_count": null,
      "metadata": {
        "colab": {
          "base_uri": "https://localhost:8080/",
          "height": 455
        },
        "id": "3qx4q_PQqrn_",
        "outputId": "48b107aa-24a2-42ac-d457-377958809368"
      },
      "outputs": [
        {
          "output_type": "display_data",
          "data": {
            "text/plain": [
              "<Figure size 640x480 with 1 Axes>"
            ],
            "image/png": "[encoded data removed]"
          },
          "metadata": {}
        }
      ],
      "source": [
        "# Plotting\n",
        "box_plot_data=[auc_dy_prior_loco, auc_dy_stratified_loco, auc_dy_uni_loco,\n",
        "    auc_gb_pop,auc_gb_noP,auc_gb_pop2, auc_gb_noP2, \\\n",
        "        auc_xg_pop,auc_xg_noP,auc_xg_pop2, auc_xg_noP2,\n",
        "        auc_baye_pop,auc_baye_noP,auc_svm_pop,auc_svm_noP]#,auc_nn_pop,auc_nn_noP]\n",
        "max_n = len(box_plot_data)+1\n",
        "fig,ax1=plt.subplots()\n",
        "bplot=ax1.boxplot(box_plot_data,labels=range(1,max_n),vert=True,patch_artist=True)\n",
        "ax1.set_ylim(0.4, 0.8)\n",
        "# fill with colors\n",
        "colors = ['b','b','b','pink', 'pink', 'pink', 'pink', 'lightblue', 'lightblue', 'lightblue', 'lightblue', 'lightgreen', 'lightgreen', 'orange', 'orange']\n",
        "for patch, color in zip(bplot['boxes'], colors):\n",
        "  patch.set_facecolor(color)\n",
        "ax1.yaxis.grid(True)\n",
        "# plt.title('Average auc score')\n",
        "plt.ylabel('ROC_AUC (area under curve)')\n",
        "plt.xlabel(f'Experiment Group 4-{max_n} and Comparison Group 1-3')#,nn_pop,nn_noP\"\n",
        "#0-11 Boxes: gb_pop,gb_noP,gb_pop2,gb_noP2,xg_pop,xg_noP,xg_pop2,\\n\\xg_noP2,baye_pop,baye_noP,svm_pop,svm_noP\"\n",
        "plt.show()\n",
        "fig.savefig(f\"{base}auc_loco.png\")"
      ]
    },
    {
      "cell_type": "markdown",
      "metadata": {
        "id": "aJ0vAx9rQdXt"
      },
      "source": [
        "##### Whole acc - k"
      ]
    },
    {
      "cell_type": "code",
      "execution_count": null,
      "metadata": {
        "colab": {
          "base_uri": "https://localhost:8080/",
          "height": 490
        },
        "outputId": "5b219d6b-0f58-45d1-a970-e2c27156e207",
        "id": "eNbtlplqQdYJ"
      },
      "outputs": [
        {
          "output_type": "stream",
          "name": "stdout",
          "text": [
            "20 20 20 20 20 20 20 20\n",
            "20 20 20 20 20 20 20 20\n"
          ]
        },
        {
          "output_type": "display_data",
          "data": {
            "text/plain": [
              "<Figure size 640x480 with 1 Axes>"
            ],
            "image/png": "[encoded data removed]"
          },
          "metadata": {}
        }
      ],
      "source": [
        "import os\n",
        "import csv\n",
        "\n",
        "def read_csv_file(file_path):\n",
        "    with open(file_path, 'r') as file:\n",
        "        csv_reader = csv.reader(file)\n",
        "        data_list = [[float(value) for value in row] for row in csv_reader]\n",
        "        data_list = np.concatenate(data_list)\n",
        "    return data_list\n",
        "\n",
        "# Define the folder names and file names\n",
        "folders = [\"gb_odata_pop_k_noS\", \"gb_odata_noP_k_noS\", \"xg_odata_pop_k_noS\", \"xg_odata_noP_k_noS\", \\\n",
        "           \"gb_odata_pop_k\", \"gb_odata_noP_k\", \"xg_odata_pop_k\", \"xg_odata_noP_k\",\\\n",
        "           \"baye_odata_pop_k\", \"baye_odata_noP_k\", \"svm_odata_pop_k\", \"svm_odata_noP_k\"]\n",
        "\n",
        "# Initialize empty lists\n",
        "acc_w_gb_pop, acc_w_gb_noP, acc_w_xg_pop, acc_w_xg_noP, \\\n",
        "acc_w_gb_pop2, acc_w_gb_noP2, acc_w_xg_pop2, acc_w_xg_noP2, \\\n",
        "acc_w_baye_pop, acc_w_baye_noP,\\\n",
        "acc_w_svm_pop, acc_w_svm_noP= [], [], [], [], [], [], [], [], [], [], [], []\n",
        "auc_gb_pop, auc_gb_noP, auc_xg_pop, auc_xg_noP, \\\n",
        "auc_gb_pop2, auc_gb_noP2, auc_xg_pop2, auc_xg_noP2,\\\n",
        "auc_baye_pop, auc_baye_noP,\\\n",
        "auc_w_svm_pop, auc_w_svm_noP= [], [], [], [], [], [], [], [], [], [], [], []\n",
        "\n",
        "# Read data and store in corresponding lists\n",
        "for folder,in zip(folders):\n",
        "    acc_w_file_path = os.path.join(\"/content/gdrive/My Drive/Colab Notebooks/ADME Project\", folder, \"acc_w_all.csv\")\n",
        "    auc_file_path = os.path.join(\"/content/gdrive/My Drive/Colab Notebooks/ADME Project\", folder, \"auc_all.csv\")\n",
        "\n",
        "    if \"baye\" in folder:\n",
        "        if \"pop\" in folder:\n",
        "            acc_w_baye_pop = read_csv_file(acc_w_file_path)\n",
        "            auc_baye_pop = read_csv_file(auc_file_path)\n",
        "        else:\n",
        "            acc_w_baye_noP = read_csv_file(acc_w_file_path)\n",
        "            auc_baye_noP = read_csv_file(auc_file_path)\n",
        "    elif \"gb\" in folder and \"noS\" in folder:\n",
        "        if \"pop\" in folder:\n",
        "            acc_w_gb_pop = read_csv_file(acc_w_file_path)\n",
        "            auc_gb_pop = read_csv_file(auc_file_path)\n",
        "        else:\n",
        "            acc_w_gb_noP = read_csv_file(acc_w_file_path)\n",
        "            auc_gb_noP = read_csv_file(auc_file_path)\n",
        "    elif \"xg\" in folder and \"noS\" in folder:\n",
        "        if \"pop\" in folder:\n",
        "            acc_w_xg_pop = read_csv_file(acc_w_file_path)\n",
        "            auc_xg_pop = read_csv_file(auc_file_path)\n",
        "        else:\n",
        "            acc_w_xg_noP = read_csv_file(acc_w_file_path)\n",
        "            auc_xg_noP = read_csv_file(auc_file_path)\n",
        "    elif \"gb\" in folder:\n",
        "        if \"pop\" in folder:\n",
        "            acc_w_gb_pop2 = read_csv_file(acc_w_file_path)\n",
        "            auc_gb_pop2 = read_csv_file(auc_file_path)\n",
        "        else:\n",
        "            acc_w_gb_noP2 = read_csv_file(acc_w_file_path)\n",
        "            auc_gb_noP2 = read_csv_file(auc_file_path)\n",
        "    elif \"xg\" in folder:\n",
        "        if \"pop\" in folder:\n",
        "            acc_w_xg_pop2 = read_csv_file(acc_w_file_path)\n",
        "            auc_xg_pop2 = read_csv_file(auc_file_path)\n",
        "        else:\n",
        "            acc_w_xg_noP2 = read_csv_file(acc_w_file_path)\n",
        "            auc_xg_noP2 = read_csv_file(auc_file_path)\n",
        "    elif \"svm\" in folder:\n",
        "        if \"pop\" in folder:\n",
        "            acc_w_svm_pop = read_csv_file(acc_w_file_path)\n",
        "            auc_svm_pop = read_csv_file(auc_file_path)\n",
        "        else:\n",
        "            acc_w_svm_noP = read_csv_file(acc_w_file_path)\n",
        "            auc_svm_noP = read_csv_file(auc_file_path)\n",
        "# Print the lengths of the lists to verify the data has been loaded successfully\n",
        "print(len(acc_w_gb_pop), len(acc_w_gb_noP), len(acc_w_xg_pop), len(acc_w_xg_noP)\n",
        "    , len(acc_w_baye_pop), len(acc_w_baye_noP), len(acc_w_svm_pop), len(acc_w_svm_noP))\n",
        "print(len(auc_gb_pop), len(auc_gb_noP), len(auc_xg_pop), len(auc_xg_noP)\n",
        "    , len(auc_baye_pop), len(auc_baye_noP), len(auc_svm_pop), len(auc_svm_noP))\n",
        "\n",
        "# Plotting\n",
        "box_plot_data=[acc_w_dy_prior_loco, acc_w_dy_stratified_loco, acc_w_dy_uni_loco,\n",
        "    acc_w_gb_pop,acc_w_gb_noP,acc_w_gb_pop2, acc_w_gb_noP2, \\\n",
        "        acc_w_xg_pop,acc_w_xg_noP,acc_w_xg_pop2,acc_w_xg_noP2,\n",
        "        acc_w_baye_pop,acc_w_baye_noP,acc_w_svm_pop,acc_w_svm_noP]#,acc_w_nn_pop,acc_w_nn_noP]\n",
        "max_n = len(box_plot_data)+1\n",
        "fig,ax1=plt.subplots()\n",
        "bplot=ax1.boxplot(box_plot_data,labels=range(1,max_n),vert=True,patch_artist=True)\n",
        "ax1.set_ylim(0.4, 0.8)\n",
        "# fill with colors\n",
        "colors = ['b','b','b','pink', 'pink', 'pink', 'pink', 'lightblue', 'lightblue', 'lightblue', 'lightblue', 'lightgreen', 'lightgreen', 'orange', 'orange']\n",
        "for patch, color in zip(bplot['boxes'], colors):\n",
        "  patch.set_facecolor(color)\n",
        "ax1.yaxis.grid(True)\n",
        "# plt.title('Whole accuracy score')\n",
        "plt.ylabel('1 = 100% accuracy')\n",
        "plt.xlabel(f'Experiment Group 4-{max_n} and Comparison Group 1-3')#,nn_pop,nn_noP\"\n",
        "#0-11 Boxes: gb_pop,gb_noP,gb_pop2,gb_noP2,xg_pop,xg_noP,xg_pop2,\\n\\xg_noP2,baye_pop,baye_noP,svm_pop,svm_noP\"\n",
        "plt.show()\n",
        "fig.savefig(f\"{base}acc_w_odata_k.png\")"
      ]
    },
    {
      "cell_type": "markdown",
      "metadata": {
        "id": "yU9JbSvjQiaJ"
      },
      "source": [
        "##### Average acc/whole auc - k"
      ]
    },
    {
      "cell_type": "code",
      "execution_count": null,
      "metadata": {
        "colab": {
          "base_uri": "https://localhost:8080/",
          "height": 490
        },
        "outputId": "cff366f8-4dca-4d6d-d303-2b3f475b5433",
        "id": "QBB0ZLUEQiaL"
      },
      "outputs": [
        {
          "output_type": "stream",
          "name": "stdout",
          "text": [
            "20 20 20 20 20 20 20 20\n",
            "20 20 20 20 20 20 20 20\n"
          ]
        },
        {
          "output_type": "display_data",
          "data": {
            "text/plain": [
              "<Figure size 640x480 with 1 Axes>"
            ],
            "image/png": "[encoded data removed]"
          },
          "metadata": {}
        }
      ],
      "source": [
        "import os\n",
        "import csv\n",
        "\n",
        "def read_csv_file(file_path):\n",
        "    with open(file_path, 'r') as file:\n",
        "        csv_reader = csv.reader(file)\n",
        "        data_list = [[float(value) for value in row] for row in csv_reader]\n",
        "        data_list = np.concatenate(data_list)\n",
        "    return data_list\n",
        "\n",
        "# Define the folder names and file names\n",
        "folders = [\"gb_odata_pop_k_noS\", \"gb_odata_noP_k_noS\", \"xg_odata_pop_k_noS\", \"xg_odata_noP_k_noS\", \\\n",
        "           \"gb_odata_pop_k\", \"gb_odata_noP_k\", \"xg_odata_pop_k\", \"xg_odata_noP_k\",\\\n",
        "           \"baye_odata_pop_k\", \"baye_odata_noP_k\", \"svm_odata_pop_k\", \"svm_odata_noP_k\"]\n",
        "\n",
        "# Initialize empty lists\n",
        "acc_gb_pop, acc_gb_noP, acc_xg_pop, acc_xg_noP, \\\n",
        "acc_gb_pop2, acc_gb_noP2, acc_xg_pop2, acc_xg_noP2, \\\n",
        "acc_baye_pop, acc_baye_noP,\\\n",
        "acc_svm_pop, acc_svm_noP= [], [], [], [], [], [], [], [], [], [], [], []\n",
        "auc_gb_pop, auc_gb_noP, auc_xg_pop, auc_xg_noP, \\\n",
        "auc_gb_pop2, auc_gb_noP2, auc_xg_pop2, auc_xg_noP2,\\\n",
        "auc_baye_pop, auc_baye_noP,\\\n",
        "auc_w_svm_pop, auc_w_svm_noP= [], [], [], [], [], [], [], [], [], [], [], []\n",
        "\n",
        "# Read data and store in corresponding lists\n",
        "for folder,in zip(folders):\n",
        "    acc_file_path = os.path.join(\"/content/gdrive/My Drive/Colab Notebooks/ADME Project\", folder, \"acc_all.csv\")\n",
        "    auc_file_path = os.path.join(\"/content/gdrive/My Drive/Colab Notebooks/ADME Project\", folder, \"auc_all.csv\")\n",
        "\n",
        "    if \"baye\" in folder:\n",
        "        if \"pop\" in folder:\n",
        "            acc_baye_pop = read_csv_file(acc_file_path)\n",
        "            auc_baye_pop = read_csv_file(auc_file_path)\n",
        "        else:\n",
        "            acc_baye_noP = read_csv_file(acc_file_path)\n",
        "            auc_baye_noP = read_csv_file(auc_file_path)\n",
        "    elif \"gb\" in folder and \"noS\" in folder:\n",
        "        if \"pop\" in folder:\n",
        "            acc_gb_pop = read_csv_file(acc_file_path)\n",
        "            auc_gb_pop = read_csv_file(auc_file_path)\n",
        "        else:\n",
        "            acc_gb_noP = read_csv_file(acc_file_path)\n",
        "            auc_gb_noP = read_csv_file(auc_file_path)\n",
        "    elif \"xg\" in folder and \"noS\" in folder:\n",
        "        if \"pop\" in folder:\n",
        "            acc_xg_pop = read_csv_file(acc_file_path)\n",
        "            auc_xg_pop = read_csv_file(auc_file_path)\n",
        "        else:\n",
        "            acc_xg_noP = read_csv_file(acc_file_path)\n",
        "            auc_xg_noP = read_csv_file(auc_file_path)\n",
        "    elif \"gb\" in folder:\n",
        "        if \"pop\" in folder:\n",
        "            acc_gb_pop2 = read_csv_file(acc_file_path)\n",
        "            auc_gb_pop2 = read_csv_file(auc_file_path)\n",
        "        else:\n",
        "            acc_gb_noP2 = read_csv_file(acc_file_path)\n",
        "            auc_gb_noP2 = read_csv_file(auc_file_path)\n",
        "    elif \"xg\" in folder:\n",
        "        if \"pop\" in folder:\n",
        "            acc_xg_pop2 = read_csv_file(acc_file_path)\n",
        "            auc_xg_pop2 = read_csv_file(auc_file_path)\n",
        "        else:\n",
        "            acc_xg_noP2 = read_csv_file(acc_file_path)\n",
        "            auc_xg_noP2 = read_csv_file(auc_file_path)\n",
        "    elif \"svm\" in folder:\n",
        "        if \"pop\" in folder:\n",
        "            acc_svm_pop = read_csv_file(acc_file_path)\n",
        "            auc_svm_pop = read_csv_file(auc_file_path)\n",
        "        else:\n",
        "            acc_svm_noP = read_csv_file(acc_file_path)\n",
        "            auc_svm_noP = read_csv_file(auc_file_path)\n",
        "# Print the lengths of the lists to verify the data has been loaded successfully\n",
        "print(len(acc_gb_pop), len(acc_gb_noP), len(acc_xg_pop), len(acc_xg_noP)\n",
        "    , len(acc_baye_pop), len(acc_baye_noP), len(acc_svm_pop), len(acc_svm_noP))\n",
        "print(len(auc_gb_pop), len(auc_gb_noP), len(auc_xg_pop), len(auc_xg_noP)\n",
        "    , len(auc_baye_pop), len(auc_baye_noP), len(auc_svm_pop), len(auc_svm_noP))\n",
        "# print(acc_xg_pop2,acc_xg_noP2)\n",
        "# Plotting\n",
        "box_plot_data=[acc_dy_prior_loco, acc_dy_stratified_loco, acc_dy_uni_loco,\n",
        "    acc_gb_pop,acc_gb_noP,acc_gb_pop2, acc_gb_noP2, \\\n",
        "        acc_xg_pop,acc_xg_noP,acc_xg_pop2,acc_xg_noP2,\n",
        "        acc_baye_pop,acc_baye_noP,acc_svm_pop,acc_svm_noP]#,acc_nn_pop,acc_nn_noP]\n",
        "max_n = len(box_plot_data)+1\n",
        "fig,ax1=plt.subplots()\n",
        "bplot=ax1.boxplot(box_plot_data,labels=range(1,max_n),vert=True,patch_artist=True)\n",
        "ax1.set_ylim(0.4, 0.8)\n",
        "# ax1.set_ylim(0.4, 0.8)\n",
        "# fill with colors\n",
        "colors = ['b','b','b','pink', 'pink', 'pink', 'pink', 'lightblue', 'lightblue', 'lightblue', 'lightblue', 'lightgreen', 'lightgreen', 'orange', 'orange']\n",
        "for patch, color in zip(bplot['boxes'], colors):\n",
        "  patch.set_facecolor(color)\n",
        "ax1.yaxis.grid(True)\n",
        "# plt.title('Whole accuracy score')\n",
        "plt.ylabel('1 = 100% accuracy')\n",
        "plt.xlabel(f'Experiment Group 4-{max_n} and Comparison Group 1-3')#,nn_pop,nn_noP\"\n",
        "#0-11 Boxes: gb_pop,gb_noP,gb_pop2,gb_noP2,xg_pop,xg_noP,xg_pop2,\\n\\xg_noP2,baye_pop,baye_noP,svm_pop,svm_noP\"\n",
        "plt.show()\n",
        "fig.savefig(f\"{base}acc_odata_k.png\")"
      ]
    },
    {
      "cell_type": "code",
      "execution_count": null,
      "metadata": {
        "colab": {
          "base_uri": "https://localhost:8080/",
          "height": 455
        },
        "outputId": "5a1b60e6-d905-4333-87a0-4a8f42d48111",
        "id": "Z_4rfUwCQiaO"
      },
      "outputs": [
        {
          "output_type": "display_data",
          "data": {
            "text/plain": [
              "<Figure size 640x480 with 1 Axes>"
            ],
            "image/png": "[encoded data removed]"
          },
          "metadata": {}
        }
      ],
      "source": [
        "# Plotting\n",
        "box_plot_data=[auc_dy_prior_loco, auc_dy_stratified_loco, auc_dy_uni_loco,\n",
        "    auc_gb_pop,auc_gb_noP,auc_gb_pop2, auc_gb_noP2, \\\n",
        "        auc_xg_pop,auc_xg_noP,auc_xg_pop2, auc_xg_noP2,\n",
        "        auc_baye_pop,auc_baye_noP,auc_svm_pop,auc_svm_noP]#,auc_nn_pop,auc_nn_noP]\n",
        "max_n = len(box_plot_data)+1\n",
        "fig,ax1=plt.subplots()\n",
        "bplot=ax1.boxplot(box_plot_data,labels=range(1,max_n),vert=True,patch_artist=True)\n",
        "ax1.set_ylim(0.4, 0.8)\n",
        "# fill with colors\n",
        "colors = ['b','b','b','pink', 'pink', 'pink', 'pink', 'lightblue', 'lightblue', 'lightblue', 'lightblue', 'lightgreen', 'lightgreen', 'orange', 'orange']\n",
        "for patch, color in zip(bplot['boxes'], colors):\n",
        "  patch.set_facecolor(color)\n",
        "ax1.yaxis.grid(True)\n",
        "# plt.title('Average auc score')\n",
        "plt.ylabel('ROC_AUC (area under curve)')\n",
        "plt.xlabel(f'Experiment Group 4-{max_n} and Comparison Group 1-3')#,nn_pop,nn_noP\"\n",
        "#0-11 Boxes: gb_pop,gb_noP,gb_pop2,gb_noP2,xg_pop,xg_noP,xg_pop2,\\n\\xg_noP2,baye_pop,baye_noP,svm_pop,svm_noP\"\n",
        "plt.show()\n",
        "fig.savefig(f\"{base}auc_odata_k.png\")"
      ]
    },
    {
      "cell_type": "markdown",
      "metadata": {
        "id": "_wGKbc8r7AFj"
      },
      "source": [
        "#### GKB data"
      ]
    },
    {
      "cell_type": "markdown",
      "metadata": {
        "id": "o64OWmXUipZB"
      },
      "source": [
        "##### Whole acc/Read results from repeated training for xg,gb,svm and bayes model"
      ]
    },
    {
      "cell_type": "code",
      "execution_count": null,
      "metadata": {
        "colab": {
          "base_uri": "https://localhost:8080/",
          "height": 472
        },
        "id": "9P-vIy4X_uOP",
        "outputId": "196fbace-ba5e-491c-f4ad-e5ad2067b917"
      },
      "outputs": [
        {
          "output_type": "stream",
          "name": "stdout",
          "text": [
            "20 20 20 20 20 20 20 20 20 20 20 20\n"
          ]
        },
        {
          "output_type": "display_data",
          "data": {
            "text/plain": [
              "<Figure size 640x480 with 1 Axes>"
            ],
            "image/png": "[encoded data removed]"
          },
          "metadata": {}
        }
      ],
      "source": [
        "import os\n",
        "import csv\n",
        "\n",
        "def read_csv_file(file_path):\n",
        "    with open(file_path, 'r') as file:\n",
        "        csv_reader = csv.reader(file)\n",
        "        data_list = [[float(value) for value in row] for row in csv_reader]\n",
        "        data_list = np.concatenate(data_list)\n",
        "    return data_list\n",
        "\n",
        "# Define the folder names and file names\n",
        "folders = [\"gb_gkb_pop_noS\", \"gb_gkb_noP_noS\", \"gb_gkb_pop\", \"gb_gkb_noP\", \\\n",
        "           \"xg_gkb_pop_noS\", \"xg_gkb_noP_noS\", \"xg_gkb_pop\", \"xg_gkb_noP\",\\\n",
        "           \"baye_gkb_pop\", \"baye_gkb_noP\", \"svm_gkb_pop\", \"svm_gkb_noP\"]\n",
        "\n",
        "# Initialize empty lists\n",
        "acc_w_gb_pop, acc_w_gb_noP, acc_w_xg_pop, acc_w_xg_noP, \\\n",
        "acc_w_gb_pop2, acc_w_gb_noP2, acc_w_xg_pop2, acc_w_xg_noP2, \\\n",
        "acc_w_baye_pop, acc_w_baye_noP,\\\n",
        "acc_w_svm_pop, acc_w_svm_noP= [], [], [], [], [], [], [], [], [], [], [], []\n",
        "auc_gb_pop, auc_gb_noP, auc_xg_pop, auc_xg_noP, \\\n",
        "auc_gb_pop2, auc_gb_noP2, auc_xg_pop2, auc_xg_noP2,\\\n",
        "auc_baye_pop, auc_baye_noP,\\\n",
        "auc_w_svm_pop, auc_w_svm_noP= [], [], [], [], [], [], [], [], [], [], [], []\n",
        "\n",
        "# Read data and store in corresponding lists\n",
        "for folder,in zip(folders):\n",
        "    acc_w_file_path = os.path.join(\"/content/gdrive/My Drive/Colab Notebooks/ADME Project\", folder, \"acc_w_all.csv\")\n",
        "    auc_file_path = os.path.join(\"/content/gdrive/My Drive/Colab Notebooks/ADME Project\", folder, \"auc_all.csv\")\n",
        "\n",
        "    if \"baye\" in folder:\n",
        "        if \"pop\" in folder:\n",
        "            acc_w_baye_pop = read_csv_file(acc_w_file_path)\n",
        "            auc_baye_pop = read_csv_file(auc_file_path)\n",
        "        else:\n",
        "            acc_w_baye_noP = read_csv_file(acc_w_file_path)\n",
        "            auc_baye_noP = read_csv_file(auc_file_path)\n",
        "    elif \"gb\" and \"noS\" in folder:\n",
        "        if \"pop\" in folder:\n",
        "            acc_w_gb_pop = read_csv_file(acc_w_file_path)\n",
        "            auc_gb_pop = read_csv_file(auc_file_path)\n",
        "        else:\n",
        "            acc_w_gb_noP = read_csv_file(acc_w_file_path)\n",
        "            auc_gb_noP = read_csv_file(auc_file_path)\n",
        "    elif \"xg\" and \"noS\" in folder:\n",
        "        if \"pop\" in folder:\n",
        "            acc_w_xg_pop = read_csv_file(acc_w_file_path)\n",
        "            auc_xg_pop = read_csv_file(auc_file_path)\n",
        "        else:\n",
        "            acc_w_xg_noP = read_csv_file(acc_w_file_path)\n",
        "            auc_xg_noP = read_csv_file(auc_file_path)\n",
        "    elif \"gb\" in folder:\n",
        "        if \"pop\" in folder:\n",
        "            acc_w_gb_pop2 = read_csv_file(acc_w_file_path)\n",
        "            auc_gb_pop2 = read_csv_file(auc_file_path)\n",
        "        else:\n",
        "            acc_w_gb_noP2 = read_csv_file(acc_w_file_path)\n",
        "            auc_gb_noP2 = read_csv_file(auc_file_path)\n",
        "    elif \"xg\" in folder:\n",
        "        if \"pop\" in folder:\n",
        "            acc_w_xg_pop2 = read_csv_file(acc_w_file_path)\n",
        "            auc_xg_pop2 = read_csv_file(auc_file_path)\n",
        "        else:\n",
        "            acc_w_xg_noP2 = read_csv_file(acc_w_file_path)\n",
        "            auc_xg_noP2 = read_csv_file(auc_file_path)\n",
        "    elif \"svm\" in folder:\n",
        "        if \"pop\" in folder:\n",
        "            acc_w_svm_pop = read_csv_file(acc_w_file_path)\n",
        "            auc_svm_pop = read_csv_file(auc_file_path)\n",
        "        else:\n",
        "            acc_w_svm_noP = read_csv_file(acc_w_file_path)\n",
        "            auc_svm_noP = read_csv_file(auc_file_path)\n",
        "\n",
        "acc_w_xg_pop = read_csv_file(f\"{base}xg_gkb_pop_noS/acc_w_all.csv\")\n",
        "auc_xg_pop = read_csv_file(f\"{base}xg_gkb_pop_noS/auc_all.csv\")\n",
        "acc_w_xg_noP = read_csv_file(f\"{base}xg_gkb_noP_noS/acc_w_all.csv\")\n",
        "auc_xg_noP = read_csv_file(f\"{base}xg_gkb_noP_noS/auc_all.csv\")\n",
        "\n",
        "# Print the lengths of the lists to verify the data has been loaded successfully\n",
        "print(len(acc_w_gb_pop), len(acc_w_gb_noP), len(acc_w_gb_pop2), len(acc_w_gb_noP2),\n",
        " len(acc_w_xg_pop), len(acc_w_xg_noP),len(acc_w_xg_pop2), len(acc_w_xg_noP2)\n",
        "    , len(acc_w_baye_pop), len(acc_w_baye_noP), len(acc_w_svm_pop), len(acc_w_svm_noP))\n",
        "\n",
        "# Plotting\n",
        "box_plot_data=[acc_w_dy_prior_loco2, acc_w_dy_stratified_loco2, acc_w_dy_uni_loco2,\n",
        "    acc_w_gb_pop,acc_w_gb_noP,acc_w_gb_pop2,acc_w_gb_noP2, \\\n",
        "        acc_w_xg_pop,acc_w_xg_noP,acc_w_xg_pop2,acc_w_xg_noP2,\n",
        "        acc_w_baye_pop,acc_w_baye_noP,acc_w_svm_pop,acc_w_svm_noP]#,acc_w_nn_pop,acc_w_nn_noP]\n",
        "max_n = len(box_plot_data)+1\n",
        "fig,ax1=plt.subplots()\n",
        "bplot=ax1.boxplot(box_plot_data,labels=range(1,max_n),vert=True,patch_artist=True)\n",
        "ax1.set_ylim(0.4, 0.7)\n",
        "# fill with colors\n",
        "colors = ['b','b','b','pink', 'pink', 'pink', 'pink', 'lightblue', 'lightblue', 'lightblue', 'lightblue', 'lightgreen', 'lightgreen', 'orange', 'orange']\n",
        "for patch, color in zip(bplot['boxes'], colors):\n",
        "  patch.set_facecolor(color)\n",
        "ax1.yaxis.grid(True)\n",
        "# plt.title('Whole accuracy score')\n",
        "plt.ylabel('1 = 100% accuracy')\n",
        "plt.xlabel(f'Experiment Group 4-{max_n} and Comparison Group 1-3')#,nn_pop,nn_noP\"\n",
        "#0-11 Boxes: gb_pop,gb_noP,gb_pop2,gb_noP2,xg_pop,xg_noP,xg_pop2,\\n\\xg_noP2,baye_pop,baye_noP,svm_pop,svm_noP\"\n",
        "plt.show()\n",
        "fig.savefig(f\"{base}acc_w_loco_gkb.png\")"
      ]
    },
    {
      "cell_type": "markdown",
      "metadata": {
        "id": "L2UEXEgtiWgA"
      },
      "source": [
        "##### Whole auc"
      ]
    },
    {
      "cell_type": "code",
      "execution_count": null,
      "metadata": {
        "colab": {
          "base_uri": "https://localhost:8080/",
          "height": 490
        },
        "id": "Wp_uLhsMiWHl",
        "outputId": "0a319b30-989a-4442-a9e8-95a82308aa38"
      },
      "outputs": [
        {
          "output_type": "stream",
          "name": "stdout",
          "text": [
            "20 20 20 20\n",
            "20 20 20 20 20 20 20 20\n"
          ]
        },
        {
          "output_type": "display_data",
          "data": {
            "text/plain": [
              "<Figure size 640x480 with 1 Axes>"
            ],
            "image/png": "[encoded data removed]"
          },
          "metadata": {}
        }
      ],
      "source": [
        "# Print the lengths of the lists to verify the data has been loaded successfully\n",
        "print(len(auc_gb_pop), len(auc_gb_noP), len(auc_xg_pop), len(auc_xg_noP))\n",
        "print(len(auc_gb_pop2), len(auc_gb_noP2), len(auc_xg_pop2), len(auc_xg_noP2)\n",
        "    , len(auc_baye_pop), len(auc_baye_noP), len(auc_svm_pop), len(auc_svm_noP))\n",
        "# Plotting\n",
        "box_plot_data=[auc_dy_prior_loco2, auc_dy_stratified_loco2, auc_dy_uni_loco2,\n",
        "    auc_gb_pop,auc_gb_noP,auc_gb_pop2,auc_gb_noP2,\\\n",
        "         auc_xg_pop,auc_xg_noP,auc_xg_pop2,auc_xg_noP2,\n",
        "        auc_baye_pop,auc_baye_noP,auc_svm_pop,auc_svm_noP]#,auc_nn_pop,auc_nn_noP]\n",
        "max_n = len(box_plot_data)+1\n",
        "fig,ax1=plt.subplots()\n",
        "bplot=ax1.boxplot(box_plot_data,labels=range(1,max_n),vert=True,patch_artist=True)\n",
        "ax1.set_ylim(0.4, 0.7)\n",
        "# fill with colors\n",
        "colors = ['b','b','b','pink', 'pink', 'pink', 'pink', 'lightblue', 'lightblue', 'lightblue', 'lightblue', 'lightgreen', 'lightgreen', 'orange', 'orange']\n",
        "for patch, color in zip(bplot['boxes'], colors):\n",
        "  patch.set_facecolor(color)\n",
        "ax1.yaxis.grid(True)\n",
        "# plt.title('Whole accuracy score')\n",
        "plt.ylabel('ROC_AUC (area under curve)')\n",
        "plt.xlabel(f'Experiment Group 4-{max_n} and Comparison Group 1-3')#,nn_pop,nn_noP\"\n",
        "#0-11 Boxes: gb_pop,gb_noP,gb_pop2,gb_noP2,xg_pop,xg_noP,xg_pop2,\\n\\xg_noP2,baye_pop,baye_noP,svm_pop,svm_noP\"\n",
        "plt.show()\n",
        "fig.savefig(f\"{base}auc_loco_gkb.png\")"
      ]
    },
    {
      "cell_type": "markdown",
      "metadata": {
        "id": "GatTbPusie05"
      },
      "source": [
        "##### Average acc"
      ]
    },
    {
      "cell_type": "code",
      "execution_count": null,
      "metadata": {
        "colab": {
          "base_uri": "https://localhost:8080/",
          "height": 455
        },
        "id": "w-rJU-PD3YBC",
        "outputId": "6a0d8b06-7283-4f29-d972-b655c4c67b38"
      },
      "outputs": [
        {
          "output_type": "display_data",
          "data": {
            "text/plain": [
              "<Figure size 640x480 with 1 Axes>"
            ],
            "image/png": "[encoded data removed]"
          },
          "metadata": {}
        }
      ],
      "source": [
        "# Take acc_all instead of acc_all\n",
        "import os\n",
        "import csv\n",
        "\n",
        "def read_csv_file(file_path):\n",
        "    with open(file_path, 'r') as file:\n",
        "        csv_reader = csv.reader(file)\n",
        "        data_list = [[float(value) for value in row] for row in csv_reader]\n",
        "        data_list = np.concatenate(data_list)\n",
        "    return data_list\n",
        "\n",
        "# Define the folder names and file names\n",
        "folders = [\"gb_gkb_pop_noS\", \"gb_gkb_noP_noS\",\"gb_gkb_pop\", \"gb_gkb_noP\", \\\n",
        "           \"xg_gkb_pop_noS\", \"xg_gkb_noP_noS\",  \"xg_gkb_pop\", \"xg_gkb_noP\",\\\n",
        "           \"baye_gkb_pop\", \"baye_gkb_noP\", \"svm_gkb_pop\", \"svm_gkb_noP\"]\n",
        "\n",
        "# Initialize empty lists\n",
        "acc_gb_pop, acc_gb_noP, acc_xg_pop, acc_xg_noP, \\\n",
        "acc_gb_pop2, acc_gb_noP2, acc_xg_pop2, acc_xg_noP2, \\\n",
        "acc_baye_pop, acc_baye_noP,\\\n",
        "acc_svm_pop, acc_svm_noP= [], [], [], [], [], [], [], [], [], [], [], []\n",
        "auc_gb_pop, auc_gb_noP, auc_xg_pop, auc_xg_noP, \\\n",
        "auc_gb_pop2, auc_gb_noP2, auc_xg_pop2, auc_xg_noP2,\\\n",
        "auc_baye_pop, auc_baye_noP,\\\n",
        "auc_w_svm_pop, auc_w_svm_noP= [], [], [], [], [], [], [], [], [], [], [], []\n",
        "\n",
        "# Read data and store in corresponding lists\n",
        "for folder,in zip(folders):\n",
        "    acc_file_path = os.path.join(\"/content/gdrive/My Drive/Colab Notebooks/ADME Project\", folder, \"acc_all.csv\")\n",
        "    auc_file_path = os.path.join(\"/content/gdrive/My Drive/Colab Notebooks/ADME Project\", folder, \"auc_all.csv\")\n",
        "\n",
        "    if \"baye\" in folder:\n",
        "        if \"pop\" in folder:\n",
        "            acc_baye_pop = read_csv_file(acc_file_path)\n",
        "            auc_baye_pop = read_csv_file(auc_file_path)\n",
        "        else:\n",
        "            acc_baye_noP = read_csv_file(acc_file_path)\n",
        "            auc_baye_noP = read_csv_file(auc_file_path)\n",
        "    elif \"gb\" and \"noS\" in folder:\n",
        "        if \"pop\" in folder:\n",
        "            acc_gb_pop = read_csv_file(acc_file_path)\n",
        "            auc_gb_pop = read_csv_file(auc_file_path)\n",
        "        else:\n",
        "            acc_gb_noP = read_csv_file(acc_file_path)\n",
        "            auc_gb_noP = read_csv_file(auc_file_path)\n",
        "    elif \"xg\" and \"noS\" in folder:\n",
        "        if \"pop\" in folder:\n",
        "            acc_xg_pop = read_csv_file(acc_file_path)\n",
        "            auc_xg_pop = read_csv_file(auc_file_path)\n",
        "        else:\n",
        "            acc_xg_noP = read_csv_file(acc_file_path)\n",
        "            auc_xg_noP = read_csv_file(auc_file_path)\n",
        "    elif \"gb\" in folder:\n",
        "        if \"pop\" in folder:\n",
        "            acc_gb_pop2 = read_csv_file(acc_file_path)\n",
        "            auc_gb_pop2 = read_csv_file(auc_file_path)\n",
        "        else:\n",
        "            acc_gb_noP2 = read_csv_file(acc_file_path)\n",
        "            auc_gb_noP2 = read_csv_file(auc_file_path)\n",
        "    elif \"xg\" in folder:\n",
        "        if \"pop\" in folder:\n",
        "            acc_xg_pop2 = read_csv_file(acc_file_path)\n",
        "            auc_xg_pop2 = read_csv_file(auc_file_path)\n",
        "        else:\n",
        "            acc_xg_noP2 = read_csv_file(acc_file_path)\n",
        "            auc_xg_noP2 = read_csv_file(auc_file_path)\n",
        "    elif \"svm\" in folder:\n",
        "        if \"pop\" in folder:\n",
        "            acc_svm_pop = read_csv_file(acc_file_path)\n",
        "            auc_svm_pop = read_csv_file(auc_file_path)\n",
        "        else:\n",
        "            acc_svm_noP = read_csv_file(acc_file_path)\n",
        "            auc_svm_noP = read_csv_file(auc_file_path)\n",
        "\n",
        "acc_xg_pop = read_csv_file(f\"{base}xg_gkb_pop_noS/acc_all.csv\")\n",
        "auc_xg_pop = read_csv_file(f\"{base}xg_gkb_pop_noS/auc_all.csv\")\n",
        "acc_xg_noP = read_csv_file(f\"{base}xg_gkb_noP_noS/acc_all.csv\")\n",
        "auc_xg_noP = read_csv_file(f\"{base}xg_gkb_noP_noS/auc_all.csv\")\n",
        "\n",
        "# Plotting\n",
        "box_plot_data=[acc_dy_prior_loco2, acc_dy_stratified_loco2, acc_dy_uni_loco2,\n",
        "    acc_gb_pop,acc_gb_noP,acc_gb_pop2, acc_gb_noP2, \\\n",
        "        acc_xg_pop,acc_xg_noP,acc_xg_pop2, acc_xg_noP2,\n",
        "        acc_baye_pop,acc_baye_noP,acc_svm_pop,acc_svm_noP]#,acc_nn_pop,acc_nn_noP]\n",
        "max_n = len(box_plot_data)+1\n",
        "fig,ax1=plt.subplots()\n",
        "bplot=ax1.boxplot(box_plot_data,labels=range(1,max_n),vert=True,patch_artist=True)\n",
        "ax1.set_ylim(0.4, 0.7)\n",
        "# fill with colors\n",
        "colors = ['b','b','b','pink', 'pink', 'pink', 'pink', 'lightblue', 'lightblue', 'lightblue', 'lightblue', 'lightgreen', 'lightgreen', 'orange', 'orange']\n",
        "for patch, color in zip(bplot['boxes'], colors):\n",
        "  patch.set_facecolor(color)\n",
        "ax1.yaxis.grid(True)\n",
        "# plt.title('Whole accuracy score')\n",
        "plt.ylabel('1 = 100% accuracy')\n",
        "plt.xlabel(f'Experiment Group 4-{max_n} and Comparison Group 1-3')#,nn_pop,nn_noP\"\n",
        "#0-11 Boxes: gb_pop,gb_noP,gb_pop2,gb_noP2,xg_pop,xg_noP,xg_pop2,\\n\\xg_noP2,baye_pop,baye_noP,svm_pop,svm_noP\"\n",
        "plt.show()\n",
        "fig.savefig(f\"{base}acc_loco_gkb.png\")"
      ]
    },
    {
      "cell_type": "markdown",
      "metadata": {
        "id": "MS8-sDa7Qups"
      },
      "source": [
        "##### Whole acc - k/Read results from repeated training for xg,gb,svm and bayes model"
      ]
    },
    {
      "cell_type": "code",
      "execution_count": null,
      "metadata": {
        "colab": {
          "base_uri": "https://localhost:8080/",
          "height": 472
        },
        "outputId": "093234b5-d635-44ec-e305-2ef34a8d3a13",
        "id": "H40DQ7mvQups"
      },
      "outputs": [
        {
          "output_type": "stream",
          "name": "stdout",
          "text": [
            "20 20 20 20 20 20 20 20 20 20 20 20\n"
          ]
        },
        {
          "output_type": "display_data",
          "data": {
            "text/plain": [
              "<Figure size 640x480 with 1 Axes>"
            ],
            "image/png": "[encoded data removed]"
          },
          "metadata": {}
        }
      ],
      "source": [
        "import os\n",
        "import csv\n",
        "\n",
        "def read_csv_file(file_path):\n",
        "    with open(file_path, 'r') as file:\n",
        "        csv_reader = csv.reader(file)\n",
        "        data_list = [[float(value) for value in row] for row in csv_reader]\n",
        "        data_list = np.concatenate(data_list)\n",
        "    return data_list\n",
        "\n",
        "# Define the folder names and file names\n",
        "folders = [\"gb_gkb_pop_k_noS\", \"gb_gkb_noP_k_noS\", \"gb_gkb_pop_k\", \"gb_gkb_noP_k\", \\\n",
        "           \"xg_gkb_pop_k_noS\", \"xg_gkb_pop_k\", \"xg_gkb_noP_k_noS\", \"xg_gkb_noP_k\",\\\n",
        "           \"baye_gkb_pop_k\", \"baye_gkb_noP_k\", \"svm_gkb_pop_k\", \"svm_gkb_noP_k\"]\n",
        "           #\"xg_gkb_noP_k_noS\", \"xg_gkb_noP_k\"\n",
        "\n",
        "# Initialize empty lists\n",
        "acc_w_gb_pop_k, acc_w_gb_noP_k, acc_w_xg_pop_k, acc_w_xg_noP_k, \\\n",
        "acc_w_gb_pop_k2, acc_w_gb_noP_k2, acc_w_xg_pop_k2, acc_w_xg_noP_k2, \\\n",
        "acc_w_baye_pop_k, acc_w_baye_noP_k,\\\n",
        "acc_w_svm_pop_k, acc_w_svm_noP_k= [], [], [], [], [], [], [], [], [], [], [], []\n",
        "auc_gb_pop_k, auc_gb_noP_k, auc_xg_pop_k, auc_xg_noP_k, \\\n",
        "auc_gb_pop_k2, auc_gb_noP_k2, auc_xg_pop_k2, auc_xg_noP_k2,\\\n",
        "auc_baye_pop_k, auc_baye_noP_k,\\\n",
        "auc_w_svm_pop_k, auc_w_svm_noP_k= [], [], [], [], [], [], [], [], [], [], [], []\n",
        "\n",
        "# Read data and store in corresponding lists\n",
        "for folder,in zip(folders):\n",
        "    acc_w_file_path = os.path.join(\"/content/gdrive/My Drive/Colab Notebooks/ADME Project\", folder, \"acc_w_all.csv\")\n",
        "    auc_file_path = os.path.join(\"/content/gdrive/My Drive/Colab Notebooks/ADME Project\", folder, \"auc_all.csv\")\n",
        "\n",
        "    if \"baye\" in folder:\n",
        "        if \"pop\" in folder:\n",
        "            acc_w_baye_pop_k = read_csv_file(acc_w_file_path)\n",
        "            auc_baye_pop_k = read_csv_file(auc_file_path)\n",
        "        else:\n",
        "            acc_w_baye_noP_k = read_csv_file(acc_w_file_path)\n",
        "            auc_baye_noP_k = read_csv_file(auc_file_path)\n",
        "    elif \"gb\" and \"noS\" in folder:\n",
        "        if \"pop\" in folder:\n",
        "            acc_w_gb_pop_k = read_csv_file(acc_w_file_path)\n",
        "            auc_gb_pop_k = read_csv_file(auc_file_path)\n",
        "        else:\n",
        "            acc_w_gb_noP_k = read_csv_file(acc_w_file_path)\n",
        "            auc_gb_noP_k = read_csv_file(auc_file_path)\n",
        "    elif \"xg\" and \"noS\" in folder: # Cannot read the file?\n",
        "        if \"pop\" in folder:\n",
        "            acc_w_xg_pop_k = read_csv_file(acc_w_file_path)\n",
        "            auc_xg_pop_k = read_csv_file(auc_file_path)\n",
        "        else:\n",
        "            acc_w_xg_noP_k = read_csv_file(acc_w_file_path)\n",
        "            auc_xg_noP_k = read_csv_file(auc_file_path)\n",
        "    elif \"gb\" in folder:\n",
        "        if \"pop\" in folder:\n",
        "            acc_w_gb_pop_k2 = read_csv_file(acc_w_file_path)\n",
        "            auc_gb_pop_k2 = read_csv_file(auc_file_path)\n",
        "        else:\n",
        "            acc_w_gb_noP_k2 = read_csv_file(acc_w_file_path)\n",
        "            auc_gb_noP_k2 = read_csv_file(auc_file_path)\n",
        "    elif \"xg\" in folder:\n",
        "        if \"pop\" in folder:\n",
        "            acc_w_xg_pop_k2 = read_csv_file(acc_w_file_path)\n",
        "            auc_xg_pop_k2 = read_csv_file(auc_file_path)\n",
        "        else:\n",
        "            acc_w_xg_noP_k2 = read_csv_file(acc_w_file_path)\n",
        "            auc_xg_noP_k2 = read_csv_file(auc_file_path)\n",
        "    elif \"svm\" in folder:\n",
        "        if \"pop\" in folder:\n",
        "            acc_w_svm_pop_k = read_csv_file(acc_w_file_path)\n",
        "            auc_svm_pop_k = read_csv_file(auc_file_path)\n",
        "        else:\n",
        "            acc_w_svm_noP_k = read_csv_file(acc_w_file_path)\n",
        "            auc_svm_noP_k = read_csv_file(auc_file_path)\n",
        "\n",
        "acc_w_xg_pop_k = read_csv_file(f\"{base}xg_gkb_pop_k_noS/acc_w_all.csv\")\n",
        "auc_xg_pop_k = read_csv_file(f\"{base}xg_gkb_pop_k_noS/auc_all.csv\")\n",
        "\n",
        "acc_w_xg_noP_k = read_csv_file(f\"{base}xg_gkb_noP_k_noS/acc_w_all.csv\")\n",
        "auc_xg_noP_k = read_csv_file(f\"{base}xg_gkb_noP_k_noS/auc_all.csv\")\n",
        "\n",
        "# acc_w_xg_noP_k2 = read_csv_file(f\"{base}xg_gkb_noP_k/acc_w_all.csv\")\n",
        "# auc_xg_noP_k2 = read_csv_file(f\"{base}xg_gkb_noP_k/auc_all.csv\")\n",
        "\n",
        "# Print the lengths of the lists to verify the data has been loaded successfully\n",
        "print(len(acc_w_gb_pop_k), len(acc_w_gb_noP_k), len(acc_w_gb_pop_k2), len(acc_w_gb_noP_k2),\n",
        " len(acc_w_xg_pop_k), len(acc_w_xg_noP_k),len(acc_w_xg_pop_k2), len(acc_w_xg_noP_k2)\n",
        "    , len(acc_w_baye_pop_k), len(acc_w_baye_noP_k), len(acc_w_svm_pop_k), len(acc_w_svm_noP_k))\n",
        "\n",
        "# Plotting\n",
        "box_plot_data=[acc_w_dy_prior_loco2, acc_w_dy_stratified_loco2, acc_w_dy_uni_loco2,\n",
        "    acc_w_gb_pop_k,acc_w_gb_noP_k,acc_w_gb_pop_k2,acc_w_gb_noP_k2, \\\n",
        "        acc_w_xg_pop_k,acc_w_xg_noP_k,acc_w_xg_pop_k2,acc_w_xg_noP_k2,\n",
        "        acc_w_baye_pop_k,acc_w_baye_noP_k,acc_w_svm_pop_k,acc_w_svm_noP_k]#,acc_w_nn_pop_k,acc_w_nn_noP_k]\n",
        "max_n = len(box_plot_data)+1\n",
        "fig,ax1=plt.subplots()\n",
        "bplot=ax1.boxplot(box_plot_data,labels=range(1,max_n),vert=True,patch_artist=True)\n",
        "ax1.set_ylim(0.4, 0.7)\n",
        "# fill with colors\n",
        "colors = ['b','b','b','pink', 'pink', 'pink', 'pink', 'lightblue', 'lightblue', 'lightblue', 'lightblue', 'lightgreen', 'lightgreen', 'orange', 'orange']\n",
        "for patch, color in zip(bplot['boxes'], colors):\n",
        "  patch.set_facecolor(color)\n",
        "ax1.yaxis.grid(True)\n",
        "# plt.title('Whole accuracy score')\n",
        "plt.ylabel('1 = 100% accuracy')\n",
        "plt.xlabel(f'Experiment Group 4-{max_n} and Comparison Group 1-3')#,nn_pop_k,nn_noP_k\"\n",
        "#0-11 Boxes: gb_pop_k,gb_noP_k,gb_pop_k2,gb_noP_k2,xg_pop_k,xg_noP_k,xg_pop_k2,\\n\\xg_noP_k2,baye_pop_k,baye_noP_k,svm_pop_k,svm_noP_k\"\n",
        "plt.show()\n",
        "fig.savefig(f\"{base}acc_w_loco_gkb_k.png\")"
      ]
    },
    {
      "cell_type": "markdown",
      "metadata": {
        "id": "wDqbMZ2ZRpmb"
      },
      "source": [
        "##### Whole auc - k"
      ]
    },
    {
      "cell_type": "code",
      "execution_count": null,
      "metadata": {
        "colab": {
          "base_uri": "https://localhost:8080/",
          "height": 490
        },
        "outputId": "69c2e4c1-a617-45a2-8817-97a395d4c953",
        "id": "eKJ51-A_Rpm4"
      },
      "outputs": [
        {
          "output_type": "stream",
          "name": "stdout",
          "text": [
            "20 20 20 20\n",
            "20 20 20 20 20 20 20 20\n"
          ]
        },
        {
          "output_type": "display_data",
          "data": {
            "text/plain": [
              "<Figure size 640x480 with 1 Axes>"
            ],
            "image/png": "[encoded data removed]"
          },
          "metadata": {}
        }
      ],
      "source": [
        "# Print the lengths of the lists to verify the data has been loaded successfully\n",
        "print(len(auc_gb_pop_k), len(auc_gb_noP_k), len(auc_xg_pop_k), len(auc_xg_noP_k))\n",
        "print(len(auc_gb_pop_k2), len(auc_gb_noP_k2), len(auc_xg_pop_k2), len(auc_xg_noP_k2)\n",
        "    , len(auc_baye_pop_k), len(auc_baye_noP_k), len(auc_svm_pop_k), len(auc_svm_noP_k))\n",
        "# Plotting\n",
        "box_plot_data=[auc_dy_prior_loco2, auc_dy_stratified_loco2, auc_dy_uni_loco2,\n",
        "    auc_gb_pop_k,auc_gb_noP_k,auc_gb_pop_k2,auc_gb_noP_k2,\\\n",
        "         auc_xg_pop_k,auc_xg_noP_k,auc_xg_pop_k2,auc_xg_noP_k2,\n",
        "        auc_baye_pop_k,auc_baye_noP_k,auc_svm_pop_k,auc_svm_noP_k]#,auc_nn_pop_k,auc_nn_noP_k]\n",
        "max_n = len(box_plot_data)+1\n",
        "fig,ax1=plt.subplots()\n",
        "bplot=ax1.boxplot(box_plot_data,labels=range(1,max_n),vert=True,patch_artist=True)\n",
        "ax1.set_ylim(0.4, 0.7)\n",
        "# fill with colors\n",
        "colors = ['b','b','b','pink', 'pink', 'pink', 'pink', 'lightblue', 'lightblue', 'lightblue', 'lightblue', 'lightgreen', 'lightgreen', 'orange', 'orange']\n",
        "for patch, color in zip(bplot['boxes'], colors):\n",
        "  patch.set_facecolor(color)\n",
        "ax1.yaxis.grid(True)\n",
        "# plt.title('Whole accuracy score')\n",
        "plt.ylabel('1 = 100% accuracy')\n",
        "plt.xlabel(f'Experiment Group 4-{max_n} and Comparison Group 1-3')#,nn_pop_k,nn_noP_k\"\n",
        "#0-11 Boxes: gb_pop_k,gb_noP_k,gb_pop_k2,gb_noP_k2,xg_pop_k,xg_noP_k,xg_pop_k2,\\n\\xg_noP_k2,baye_pop_k,baye_noP_k,svm_pop_k,svm_noP_k\"\n",
        "plt.show()\n",
        "fig.savefig(f\"{base}auc_loco_gkb_k.png\")"
      ]
    },
    {
      "cell_type": "markdown",
      "metadata": {
        "id": "j3PyTZC8TkQE"
      },
      "source": [
        "##### Average acc - k"
      ]
    },
    {
      "cell_type": "code",
      "execution_count": null,
      "metadata": {
        "colab": {
          "base_uri": "https://localhost:8080/",
          "height": 455
        },
        "outputId": "daffb2c9-7fd1-48e6-ce92-c72fa2c14a9b",
        "id": "FnwHiM3hTkQF"
      },
      "outputs": [
        {
          "output_type": "display_data",
          "data": {
            "text/plain": [
              "<Figure size 640x480 with 1 Axes>"
            ],
            "image/png": "[encoded data removed]"
          },
          "metadata": {}
        }
      ],
      "source": [
        "# Take acc_all instead of acc_all\n",
        "import os\n",
        "import csv\n",
        "\n",
        "def read_csv_file(file_path):\n",
        "    with open(file_path, 'r') as file:\n",
        "        csv_reader = csv.reader(file)\n",
        "        data_list = [[float(value) for value in row] for row in csv_reader]\n",
        "        data_list = np.concatenate(data_list)\n",
        "    return data_list\n",
        "\n",
        "# Define the folder names and file names\n",
        "folders = [\"gb_gkb_pop_k_noS\", \"gb_gkb_noP_k_noS\", \"gb_gkb_pop_k\", \"gb_gkb_noP_k\",\\\n",
        "           \"xg_gkb_pop_k_noS\", \"xg_gkb_pop_k\", \"xg_gkb_noP_k_noS\", \"xg_gkb_noP_k\",\\\n",
        "           \"baye_gkb_pop_k\", \"baye_gkb_noP_k\", \"svm_gkb_pop_k\", \"svm_gkb_noP_k\"]#\n",
        "\n",
        "# Initialize empty lists\n",
        "acc_gb_pop_k, acc_gb_noP_k, acc_xg_pop_k, acc_xg_noP_k, \\\n",
        "acc_gb_pop_k2, acc_gb_noP_k2, acc_xg_pop_k2, acc_xg_noP_k2, \\\n",
        "acc_baye_pop_k, acc_baye_noP_k,\\\n",
        "acc_svm_pop_k, acc_svm_noP_k= [], [], [], [], [], [], [], [], [], [], [], []\n",
        "auc_gb_pop_k, auc_gb_noP_k, auc_xg_pop_k, auc_xg_noP_k, \\\n",
        "auc_gb_pop_k2, auc_gb_noP_k2, auc_xg_pop_k2, auc_xg_noP_k2,\\\n",
        "auc_baye_pop_k, auc_baye_noP_k,\\\n",
        "auc_w_svm_pop_k, auc_w_svm_noP_k= [], [], [], [], [], [], [], [], [], [], [], []\n",
        "\n",
        "# Read data and store in corresponding lists\n",
        "for folder,in zip(folders):\n",
        "    acc_file_path = os.path.join(\"/content/gdrive/My Drive/Colab Notebooks/ADME Project\", folder, \"acc_all.csv\")\n",
        "    auc_file_path = os.path.join(\"/content/gdrive/My Drive/Colab Notebooks/ADME Project\", folder, \"auc_all.csv\")\n",
        "\n",
        "    if \"baye\" in folder:\n",
        "        if \"pop\" in folder:\n",
        "            acc_baye_pop_k = read_csv_file(acc_file_path)\n",
        "            auc_baye_pop_k = read_csv_file(auc_file_path)\n",
        "        else:\n",
        "            acc_baye_noP_k = read_csv_file(acc_file_path)\n",
        "            auc_baye_noP_k = read_csv_file(auc_file_path)\n",
        "    elif \"gb\" in folder and \"noS\" in folder:\n",
        "        if \"pop\" in folder:\n",
        "            acc_gb_pop_k = read_csv_file(acc_file_path)\n",
        "            auc_gb_pop_k = read_csv_file(auc_file_path)\n",
        "        else:\n",
        "            acc_gb_noP_k = read_csv_file(acc_file_path)\n",
        "            auc_gb_noP_k = read_csv_file(auc_file_path)\n",
        "    elif \"xg\" in folder and \"noS\" in folder:\n",
        "        if \"pop\" in folder:\n",
        "            acc_xg_pop_k = read_csv_file(acc_file_path)\n",
        "            auc_xg_pop_k = read_csv_file(auc_file_path)\n",
        "        else:\n",
        "            acc_xg_noP_k = read_csv_file(acc_file_path)\n",
        "            auc_xg_noP_k = read_csv_file(auc_file_path)\n",
        "    elif \"gb\" in folder:\n",
        "        if \"pop\" in folder:\n",
        "            acc_gb_pop_k2 = read_csv_file(acc_file_path)\n",
        "            auc_gb_pop_k2 = read_csv_file(auc_file_path)\n",
        "        else:\n",
        "            acc_gb_noP_k2 = read_csv_file(acc_file_path)\n",
        "            auc_gb_noP_k2 = read_csv_file(auc_file_path)\n",
        "    elif \"xg\" in folder:\n",
        "        if \"pop\" in folder:\n",
        "            acc_xg_pop_k2 = read_csv_file(acc_file_path)\n",
        "            auc_xg_pop_k2 = read_csv_file(auc_file_path)\n",
        "        else:\n",
        "            acc_xg_noP_k2 = read_csv_file(acc_file_path)\n",
        "            auc_xg_noP_k2 = read_csv_file(auc_file_path)\n",
        "    elif \"svm\" in folder:\n",
        "        if \"pop\" in folder:\n",
        "            acc_svm_pop_k = read_csv_file(acc_file_path)\n",
        "            auc_svm_pop_k = read_csv_file(auc_file_path)\n",
        "        else:\n",
        "            acc_svm_noP_k = read_csv_file(acc_file_path)\n",
        "            auc_svm_noP_k = read_csv_file(auc_file_path)\n",
        "\n",
        "# acc_xg_pop_k = read_csv_file(f\"{base}xg_gkb_pop_k_noS/acc_all.csv\")\n",
        "# auc_xg_pop_k = read_csv_file(f\"{base}xg_gkb_pop_k_noS/auc_all.csv\")\n",
        "# acc_xg_noP_k = read_csv_file(f\"{base}xg_gkb_noP_k_noS/acc_all.csv\")\n",
        "# auc_xg_noP_k = read_csv_file(f\"{base}xg_gkb_noP_k_noS/auc_all.csv\")\n",
        "\n",
        "# acc_xg_pop_k2 = read_csv_file(f\"{base}xg_gkb_pop_k/acc_all.csv\")\n",
        "# print(len(acc_xg_pop_k2))\n",
        "# print(acc_xg_pop_k2)\n",
        "\n",
        "# Plotting\n",
        "box_plot_data=[acc_dy_prior_loco2, acc_dy_stratified_loco2, acc_dy_uni_loco2,\n",
        "    acc_gb_pop_k,acc_gb_noP_k,acc_gb_pop_k2, acc_gb_noP_k2, \\\n",
        "        acc_xg_pop_k,acc_xg_noP_k,acc_xg_pop_k2, acc_xg_noP_k2,\n",
        "        acc_baye_pop_k,acc_baye_noP_k,acc_svm_pop_k,acc_svm_noP_k]#,acc_nn_pop_k,acc_nn_noP_k]\n",
        "max_n = len(box_plot_data)+1\n",
        "fig,ax1=plt.subplots()\n",
        "bplot=ax1.boxplot(box_plot_data,labels=range(1,max_n),vert=True,patch_artist=True)\n",
        "ax1.set_ylim(0.4, 0.7)\n",
        "# fill with colors\n",
        "colors = ['b','b','b','pink', 'pink', 'pink', 'pink', 'lightblue', 'lightblue', 'lightblue', 'lightblue', 'lightgreen', 'lightgreen', 'orange', 'orange']\n",
        "for patch, color in zip(bplot['boxes'], colors):\n",
        "  patch.set_facecolor(color)\n",
        "ax1.yaxis.grid(True)\n",
        "# plt.title('Whole accuracy score')\n",
        "plt.ylabel('1 = 100% accuracy')\n",
        "plt.xlabel(f'Experiment Group 4-{max_n} and Comparison Group 1-3')#,nn_pop_k,nn_noP_k\"\n",
        "#0-11 Boxes: gb_pop_k,gb_noP_k,gb_pop_k2,gb_noP_k2,xg_pop_k,xg_noP_k,xg_pop_k2,\\n\\xg_noP_k2,baye_pop_k,baye_noP_k,svm_pop_k,svm_noP_k\"\n",
        "plt.show()\n",
        "fig.savefig(f\"{base}acc_loco_gkb_k.png\")"
      ]
    }
  ],
  "metadata": {
    "colab": {
      "collapsed_sections": [
        "SOXIFx7Ua5RB",
        "oVXqYWn4NDSK",
        "1C98Ee9djeX4",
        "gO-R6LQcbQl7",
        "jg5OV5u2kXKG",
        "iJucfIHYkZ1q",
        "yOD8Nv-UctzS",
        "1NIOHDunkw6B",
        "oNRr25TGkw6I",
        "ucugq8p6kw6Q",
        "1xMhzkfyeGpJ",
        "R_gArdugd5TH"
      ],
      "provenance": [],
      "authorship_tag": "ABX9TyMYoDvVL4t1iO5mQATOi6Jo",
      "include_colab_link": true
    },
    "kernelspec": {
      "display_name": "Python 3",
      "name": "python3"
    },
    "language_info": {
      "name": "python"
    }
  },
  "nbformat": 4,
  "nbformat_minor": 0
}